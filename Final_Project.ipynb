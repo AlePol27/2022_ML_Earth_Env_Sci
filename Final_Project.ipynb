{
  "nbformat": 4,
  "nbformat_minor": 0,
  "metadata": {
    "colab": {
      "name": "Copia di Final_Project_A_Poloni.ipynb",
      "provenance": [],
      "collapsed_sections": [],
      "authorship_tag": "ABX9TyNkM802Yh3vVD/sr6Rcy6JL",
      "include_colab_link": true
    },
    "kernelspec": {
      "name": "python3",
      "display_name": "Python 3"
    },
    "language_info": {
      "name": "python"
    }
  },
  "cells": [
    {
      "cell_type": "markdown",
      "metadata": {
        "id": "view-in-github",
        "colab_type": "text"
      },
      "source": [
        "<a href=\"https://colab.research.google.com/github/AlePol27/2022_ML_Earth_Env_Sci/blob/main/Final_Project.ipynb\" target=\"_parent\"><img src=\"https://colab.research.google.com/assets/colab-badge.svg\" alt=\"Open In Colab\"/></a>"
      ]
    },
    {
      "cell_type": "markdown",
      "source": [
        "# ML final project - Feature importance on landslide prediction"
      ],
      "metadata": {
        "id": "2aXSTrgQUFWV"
      }
    },
    {
      "cell_type": "markdown",
      "source": [
        "## Part I: Load data"
      ],
      "metadata": {
        "id": "g-znLhguUGAr"
      }
    },
    {
      "cell_type": "markdown",
      "source": [
        "This cell contains an initial set up.\n",
        "\n",
        "*Source: Prof. Tom Beucler's notebooks</a>.*"
      ],
      "metadata": {
        "id": "17koC-OkxyMk"
      }
    },
    {
      "cell_type": "code",
      "source": [
        "# Python ≥3.5 is required\n",
        "import sys\n",
        "assert sys.version_info >= (3, 5)\n",
        "\n",
        "# Is this notebook running on Colab or Kaggle?\n",
        "IS_COLAB = \"google.colab\" in sys.modules\n",
        "\n",
        "# Scikit-Learn ≥0.20 is required\n",
        "import sklearn\n",
        "assert sklearn.__version__ >= \"0.20\"\n",
        "\n",
        "# Common imports\n",
        "import numpy as np\n",
        "import os\n",
        "\n",
        "# to make this notebook's output stable across runs\n",
        "rnd_seed = 42\n",
        "rnd_gen = np.random.default_rng(rnd_seed)\n",
        "\n",
        "# To plot pretty figures\n",
        "%matplotlib inline\n",
        "import matplotlib as mpl\n",
        "import matplotlib.pyplot as plt\n",
        "mpl.rc('axes', labelsize=14)\n",
        "mpl.rc('xtick', labelsize=12)\n",
        "mpl.rc('ytick', labelsize=12)\n",
        "\n",
        "# Where to save the figures\n",
        "PROJECT_ROOT_DIR = \".\"\n",
        "CHAPTER_ID = \"classification\"\n",
        "IMAGES_PATH = os.path.join(PROJECT_ROOT_DIR, \"images\", CHAPTER_ID)\n",
        "os.makedirs(IMAGES_PATH, exist_ok=True)\n",
        "\n",
        "def save_fig(fig_id, tight_layout=True, fig_extension=\"png\", resolution=300):\n",
        "    path = os.path.join(IMAGES_PATH, fig_id + \".\" + fig_extension)\n",
        "    print(\"Saving figure\", fig_id)\n",
        "    if tight_layout:\n",
        "        plt.tight_layout()\n",
        "    plt.savefig(path, format=fig_extension, dpi=resolution)"
      ],
      "metadata": {
        "id": "o2cRYW4-cM1v"
      },
      "execution_count": 1,
      "outputs": []
    },
    {
      "cell_type": "markdown",
      "source": [
        "The necessary datasets are stored on Google Drive. The next cells allow the data to be retrieved and loaded into the notebook.\n",
        "\n",
        "*Source: <a href=\"https://sigmundojr.medium.com/how-do-i-read-a-csv-file-from-google-drive-using-python-colab-966091922852\">Sigmundo Preissler Jr, PhD</a>.*"
      ],
      "metadata": {
        "id": "WEBjPc6zx60e"
      }
    },
    {
      "cell_type": "markdown",
      "source": [
        "Required imports:"
      ],
      "metadata": {
        "id": "ALh5Ey53Snj3"
      }
    },
    {
      "cell_type": "code",
      "source": [
        "!pip install -U -q PyDrive\n",
        "from pydrive.auth import GoogleAuth\n",
        "from pydrive.drive import GoogleDrive\n",
        "from google.colab import auth\n",
        "from oauth2client.client import GoogleCredentials"
      ],
      "metadata": {
        "id": "1Vk8FLVQpYBV"
      },
      "execution_count": 2,
      "outputs": []
    },
    {
      "cell_type": "markdown",
      "source": [
        "Authentication with Google account:"
      ],
      "metadata": {
        "id": "xmnS4Lw_S3hb"
      }
    },
    {
      "cell_type": "code",
      "source": [
        "auth.authenticate_user()\n",
        "gauth = GoogleAuth()\n",
        "gauth.credentials = GoogleCredentials.get_application_default()\n",
        "drive = GoogleDrive(gauth)"
      ],
      "metadata": {
        "id": "DJeHFud4pYD2"
      },
      "execution_count": 3,
      "outputs": []
    },
    {
      "cell_type": "markdown",
      "source": [
        "Creation of the files:"
      ],
      "metadata": {
        "id": "XjkX8vIbTDoQ"
      }
    },
    {
      "cell_type": "code",
      "source": [
        "fileDownloaded1 = drive.CreateFile({'id':'1VtBalvWeWV2WtEPf5M19XP8sSnxAG135'})\n",
        "fileDownloaded2 = drive.CreateFile({'id':'1ib9MgVkaqnEPlX8m-dRN1s4Ys7PL5aEg'})"
      ],
      "metadata": {
        "id": "mPEtkBfFpYGM"
      },
      "execution_count": 4,
      "outputs": []
    },
    {
      "cell_type": "markdown",
      "source": [
        "Import of .csv data files:"
      ],
      "metadata": {
        "id": "XM_lhVVZTLuE"
      }
    },
    {
      "cell_type": "code",
      "source": [
        "fileDownloaded1.GetContentFile('LS_good_5m_pro.csv')\n",
        "fileDownloaded2.GetContentFile('testDF.csv')"
      ],
      "metadata": {
        "id": "UXO-lV3npYIx"
      },
      "execution_count": 5,
      "outputs": []
    },
    {
      "cell_type": "markdown",
      "source": [
        "Generation of Pandas dataframes:"
      ],
      "metadata": {
        "id": "6y9qHhqJTRKa"
      }
    },
    {
      "cell_type": "code",
      "source": [
        "import pandas as pd\n",
        "vardf = pd.read_csv('LS_good_5m_pro.csv', delimiter=',')\n",
        "testdf = pd.read_csv('testDF.csv', delimiter=',')"
      ],
      "metadata": {
        "id": "bVi_czsaum0y"
      },
      "execution_count": 6,
      "outputs": []
    },
    {
      "cell_type": "markdown",
      "source": [
        "Finally, it's possible to create a geodataframe for each of the two imported files (with Geopandas).\n",
        "\n",
        "*Code adapted from: Prof. Tom Beucler's notebooks</a>.*"
      ],
      "metadata": {
        "id": "Cc-mmqS5y3Em"
      }
    },
    {
      "cell_type": "code",
      "source": [
        "%pip install geopandas\n",
        "import geopandas as gpd"
      ],
      "metadata": {
        "id": "Vq4TCenbltSY"
      },
      "execution_count": null,
      "outputs": []
    },
    {
      "cell_type": "code",
      "source": [
        "vardf = gpd.GeoDataFrame(vardf,\n",
        "                      geometry=gpd.points_from_xy(np.float64(vardf.x), \n",
        "                                                  np.float64(vardf.y)))\n",
        "vardf.head()"
      ],
      "metadata": {
        "colab": {
          "base_uri": "https://localhost:8080/",
          "height": 206
        },
        "id": "izNeIFkQunVa",
        "outputId": "6837f196-fe48-4e94-f1c2-0231f4d5cb67"
      },
      "execution_count": 8,
      "outputs": [
        {
          "output_type": "execute_result",
          "data": {
            "text/plain": [
              "          x         y  GSS         DEM      slope  planCurv  profCurv  \\\n",
              "0  567895.5  200099.5    1  437.746155   8.737924 -0.000748  0.012272   \n",
              "1  568095.5  200079.5    1  451.840485  10.511221  0.039531 -0.080413   \n",
              "2  567905.5  200044.5    1  459.606934  23.602930  0.020892 -0.144569   \n",
              "3  567950.5  200029.5    1  458.156433  13.160677  0.040629 -0.046540   \n",
              "4  567800.5  199999.5    1  460.311768  20.403830 -0.005813 -0.020053   \n",
              "\n",
              "     distRoad  landCover       TWI  geology                       geometry  \n",
              "0  145.000000         21  7.799716       24  POINT (567895.500 200099.500)  \n",
              "1    5.000000         11  4.903382       24  POINT (568095.500 200079.500)  \n",
              "2   98.994949         15  4.046845       24  POINT (567905.500 200044.500)  \n",
              "3   56.568542         15  5.365241       24  POINT (567950.500 200029.500)  \n",
              "4  138.654251         21  5.817281       24  POINT (567800.500 199999.500)  "
            ],
            "text/html": [
              "\n",
              "  <div id=\"df-41710592-8e7f-47b6-811f-ffadb49c284e\">\n",
              "    <div class=\"colab-df-container\">\n",
              "      <div>\n",
              "<style scoped>\n",
              "    .dataframe tbody tr th:only-of-type {\n",
              "        vertical-align: middle;\n",
              "    }\n",
              "\n",
              "    .dataframe tbody tr th {\n",
              "        vertical-align: top;\n",
              "    }\n",
              "\n",
              "    .dataframe thead th {\n",
              "        text-align: right;\n",
              "    }\n",
              "</style>\n",
              "<table border=\"1\" class=\"dataframe\">\n",
              "  <thead>\n",
              "    <tr style=\"text-align: right;\">\n",
              "      <th></th>\n",
              "      <th>x</th>\n",
              "      <th>y</th>\n",
              "      <th>GSS</th>\n",
              "      <th>DEM</th>\n",
              "      <th>slope</th>\n",
              "      <th>planCurv</th>\n",
              "      <th>profCurv</th>\n",
              "      <th>distRoad</th>\n",
              "      <th>landCover</th>\n",
              "      <th>TWI</th>\n",
              "      <th>geology</th>\n",
              "      <th>geometry</th>\n",
              "    </tr>\n",
              "  </thead>\n",
              "  <tbody>\n",
              "    <tr>\n",
              "      <th>0</th>\n",
              "      <td>567895.5</td>\n",
              "      <td>200099.5</td>\n",
              "      <td>1</td>\n",
              "      <td>437.746155</td>\n",
              "      <td>8.737924</td>\n",
              "      <td>-0.000748</td>\n",
              "      <td>0.012272</td>\n",
              "      <td>145.000000</td>\n",
              "      <td>21</td>\n",
              "      <td>7.799716</td>\n",
              "      <td>24</td>\n",
              "      <td>POINT (567895.500 200099.500)</td>\n",
              "    </tr>\n",
              "    <tr>\n",
              "      <th>1</th>\n",
              "      <td>568095.5</td>\n",
              "      <td>200079.5</td>\n",
              "      <td>1</td>\n",
              "      <td>451.840485</td>\n",
              "      <td>10.511221</td>\n",
              "      <td>0.039531</td>\n",
              "      <td>-0.080413</td>\n",
              "      <td>5.000000</td>\n",
              "      <td>11</td>\n",
              "      <td>4.903382</td>\n",
              "      <td>24</td>\n",
              "      <td>POINT (568095.500 200079.500)</td>\n",
              "    </tr>\n",
              "    <tr>\n",
              "      <th>2</th>\n",
              "      <td>567905.5</td>\n",
              "      <td>200044.5</td>\n",
              "      <td>1</td>\n",
              "      <td>459.606934</td>\n",
              "      <td>23.602930</td>\n",
              "      <td>0.020892</td>\n",
              "      <td>-0.144569</td>\n",
              "      <td>98.994949</td>\n",
              "      <td>15</td>\n",
              "      <td>4.046845</td>\n",
              "      <td>24</td>\n",
              "      <td>POINT (567905.500 200044.500)</td>\n",
              "    </tr>\n",
              "    <tr>\n",
              "      <th>3</th>\n",
              "      <td>567950.5</td>\n",
              "      <td>200029.5</td>\n",
              "      <td>1</td>\n",
              "      <td>458.156433</td>\n",
              "      <td>13.160677</td>\n",
              "      <td>0.040629</td>\n",
              "      <td>-0.046540</td>\n",
              "      <td>56.568542</td>\n",
              "      <td>15</td>\n",
              "      <td>5.365241</td>\n",
              "      <td>24</td>\n",
              "      <td>POINT (567950.500 200029.500)</td>\n",
              "    </tr>\n",
              "    <tr>\n",
              "      <th>4</th>\n",
              "      <td>567800.5</td>\n",
              "      <td>199999.5</td>\n",
              "      <td>1</td>\n",
              "      <td>460.311768</td>\n",
              "      <td>20.403830</td>\n",
              "      <td>-0.005813</td>\n",
              "      <td>-0.020053</td>\n",
              "      <td>138.654251</td>\n",
              "      <td>21</td>\n",
              "      <td>5.817281</td>\n",
              "      <td>24</td>\n",
              "      <td>POINT (567800.500 199999.500)</td>\n",
              "    </tr>\n",
              "  </tbody>\n",
              "</table>\n",
              "</div>\n",
              "      <button class=\"colab-df-convert\" onclick=\"convertToInteractive('df-41710592-8e7f-47b6-811f-ffadb49c284e')\"\n",
              "              title=\"Convert this dataframe to an interactive table.\"\n",
              "              style=\"display:none;\">\n",
              "        \n",
              "  <svg xmlns=\"http://www.w3.org/2000/svg\" height=\"24px\"viewBox=\"0 0 24 24\"\n",
              "       width=\"24px\">\n",
              "    <path d=\"M0 0h24v24H0V0z\" fill=\"none\"/>\n",
              "    <path d=\"M18.56 5.44l.94 2.06.94-2.06 2.06-.94-2.06-.94-.94-2.06-.94 2.06-2.06.94zm-11 1L8.5 8.5l.94-2.06 2.06-.94-2.06-.94L8.5 2.5l-.94 2.06-2.06.94zm10 10l.94 2.06.94-2.06 2.06-.94-2.06-.94-.94-2.06-.94 2.06-2.06.94z\"/><path d=\"M17.41 7.96l-1.37-1.37c-.4-.4-.92-.59-1.43-.59-.52 0-1.04.2-1.43.59L10.3 9.45l-7.72 7.72c-.78.78-.78 2.05 0 2.83L4 21.41c.39.39.9.59 1.41.59.51 0 1.02-.2 1.41-.59l7.78-7.78 2.81-2.81c.8-.78.8-2.07 0-2.86zM5.41 20L4 18.59l7.72-7.72 1.47 1.35L5.41 20z\"/>\n",
              "  </svg>\n",
              "      </button>\n",
              "      \n",
              "  <style>\n",
              "    .colab-df-container {\n",
              "      display:flex;\n",
              "      flex-wrap:wrap;\n",
              "      gap: 12px;\n",
              "    }\n",
              "\n",
              "    .colab-df-convert {\n",
              "      background-color: #E8F0FE;\n",
              "      border: none;\n",
              "      border-radius: 50%;\n",
              "      cursor: pointer;\n",
              "      display: none;\n",
              "      fill: #1967D2;\n",
              "      height: 32px;\n",
              "      padding: 0 0 0 0;\n",
              "      width: 32px;\n",
              "    }\n",
              "\n",
              "    .colab-df-convert:hover {\n",
              "      background-color: #E2EBFA;\n",
              "      box-shadow: 0px 1px 2px rgba(60, 64, 67, 0.3), 0px 1px 3px 1px rgba(60, 64, 67, 0.15);\n",
              "      fill: #174EA6;\n",
              "    }\n",
              "\n",
              "    [theme=dark] .colab-df-convert {\n",
              "      background-color: #3B4455;\n",
              "      fill: #D2E3FC;\n",
              "    }\n",
              "\n",
              "    [theme=dark] .colab-df-convert:hover {\n",
              "      background-color: #434B5C;\n",
              "      box-shadow: 0px 1px 3px 1px rgba(0, 0, 0, 0.15);\n",
              "      filter: drop-shadow(0px 1px 2px rgba(0, 0, 0, 0.3));\n",
              "      fill: #FFFFFF;\n",
              "    }\n",
              "  </style>\n",
              "\n",
              "      <script>\n",
              "        const buttonEl =\n",
              "          document.querySelector('#df-41710592-8e7f-47b6-811f-ffadb49c284e button.colab-df-convert');\n",
              "        buttonEl.style.display =\n",
              "          google.colab.kernel.accessAllowed ? 'block' : 'none';\n",
              "\n",
              "        async function convertToInteractive(key) {\n",
              "          const element = document.querySelector('#df-41710592-8e7f-47b6-811f-ffadb49c284e');\n",
              "          const dataTable =\n",
              "            await google.colab.kernel.invokeFunction('convertToInteractive',\n",
              "                                                     [key], {});\n",
              "          if (!dataTable) return;\n",
              "\n",
              "          const docLinkHtml = 'Like what you see? Visit the ' +\n",
              "            '<a target=\"_blank\" href=https://colab.research.google.com/notebooks/data_table.ipynb>data table notebook</a>'\n",
              "            + ' to learn more about interactive tables.';\n",
              "          element.innerHTML = '';\n",
              "          dataTable['output_type'] = 'display_data';\n",
              "          await google.colab.output.renderOutput(dataTable, element);\n",
              "          const docLink = document.createElement('div');\n",
              "          docLink.innerHTML = docLinkHtml;\n",
              "          element.appendChild(docLink);\n",
              "        }\n",
              "      </script>\n",
              "    </div>\n",
              "  </div>\n",
              "  "
            ]
          },
          "metadata": {},
          "execution_count": 8
        }
      ]
    },
    {
      "cell_type": "code",
      "source": [
        "testdf = gpd.GeoDataFrame(testdf,\n",
        "                      geometry=gpd.points_from_xy(np.float64(testdf.x), \n",
        "                                                  np.float64(testdf.y)))\n",
        "testdf.head()"
      ],
      "metadata": {
        "colab": {
          "base_uri": "https://localhost:8080/",
          "height": 206
        },
        "id": "7b15e6Cl44tA",
        "outputId": "f2ce049b-486a-4c8a-cf0d-a420e2777365"
      },
      "execution_count": 9,
      "outputs": [
        {
          "output_type": "execute_result",
          "data": {
            "text/plain": [
              "   Unnamed: 0         x         y  GSS  prediction  \\\n",
              "0           1  567895.5  200099.5    1       0.196   \n",
              "1           2  568095.5  200079.5    1       0.864   \n",
              "2           3  567905.5  200044.5    1       0.998   \n",
              "3           4  567950.5  200029.5    1       0.990   \n",
              "4           5  567800.5  199999.5    1       0.822   \n",
              "\n",
              "                        geometry  \n",
              "0  POINT (567895.500 200099.500)  \n",
              "1  POINT (568095.500 200079.500)  \n",
              "2  POINT (567905.500 200044.500)  \n",
              "3  POINT (567950.500 200029.500)  \n",
              "4  POINT (567800.500 199999.500)  "
            ],
            "text/html": [
              "\n",
              "  <div id=\"df-6535889f-c6cf-40c8-afd4-162339c134ce\">\n",
              "    <div class=\"colab-df-container\">\n",
              "      <div>\n",
              "<style scoped>\n",
              "    .dataframe tbody tr th:only-of-type {\n",
              "        vertical-align: middle;\n",
              "    }\n",
              "\n",
              "    .dataframe tbody tr th {\n",
              "        vertical-align: top;\n",
              "    }\n",
              "\n",
              "    .dataframe thead th {\n",
              "        text-align: right;\n",
              "    }\n",
              "</style>\n",
              "<table border=\"1\" class=\"dataframe\">\n",
              "  <thead>\n",
              "    <tr style=\"text-align: right;\">\n",
              "      <th></th>\n",
              "      <th>Unnamed: 0</th>\n",
              "      <th>x</th>\n",
              "      <th>y</th>\n",
              "      <th>GSS</th>\n",
              "      <th>prediction</th>\n",
              "      <th>geometry</th>\n",
              "    </tr>\n",
              "  </thead>\n",
              "  <tbody>\n",
              "    <tr>\n",
              "      <th>0</th>\n",
              "      <td>1</td>\n",
              "      <td>567895.5</td>\n",
              "      <td>200099.5</td>\n",
              "      <td>1</td>\n",
              "      <td>0.196</td>\n",
              "      <td>POINT (567895.500 200099.500)</td>\n",
              "    </tr>\n",
              "    <tr>\n",
              "      <th>1</th>\n",
              "      <td>2</td>\n",
              "      <td>568095.5</td>\n",
              "      <td>200079.5</td>\n",
              "      <td>1</td>\n",
              "      <td>0.864</td>\n",
              "      <td>POINT (568095.500 200079.500)</td>\n",
              "    </tr>\n",
              "    <tr>\n",
              "      <th>2</th>\n",
              "      <td>3</td>\n",
              "      <td>567905.5</td>\n",
              "      <td>200044.5</td>\n",
              "      <td>1</td>\n",
              "      <td>0.998</td>\n",
              "      <td>POINT (567905.500 200044.500)</td>\n",
              "    </tr>\n",
              "    <tr>\n",
              "      <th>3</th>\n",
              "      <td>4</td>\n",
              "      <td>567950.5</td>\n",
              "      <td>200029.5</td>\n",
              "      <td>1</td>\n",
              "      <td>0.990</td>\n",
              "      <td>POINT (567950.500 200029.500)</td>\n",
              "    </tr>\n",
              "    <tr>\n",
              "      <th>4</th>\n",
              "      <td>5</td>\n",
              "      <td>567800.5</td>\n",
              "      <td>199999.5</td>\n",
              "      <td>1</td>\n",
              "      <td>0.822</td>\n",
              "      <td>POINT (567800.500 199999.500)</td>\n",
              "    </tr>\n",
              "  </tbody>\n",
              "</table>\n",
              "</div>\n",
              "      <button class=\"colab-df-convert\" onclick=\"convertToInteractive('df-6535889f-c6cf-40c8-afd4-162339c134ce')\"\n",
              "              title=\"Convert this dataframe to an interactive table.\"\n",
              "              style=\"display:none;\">\n",
              "        \n",
              "  <svg xmlns=\"http://www.w3.org/2000/svg\" height=\"24px\"viewBox=\"0 0 24 24\"\n",
              "       width=\"24px\">\n",
              "    <path d=\"M0 0h24v24H0V0z\" fill=\"none\"/>\n",
              "    <path d=\"M18.56 5.44l.94 2.06.94-2.06 2.06-.94-2.06-.94-.94-2.06-.94 2.06-2.06.94zm-11 1L8.5 8.5l.94-2.06 2.06-.94-2.06-.94L8.5 2.5l-.94 2.06-2.06.94zm10 10l.94 2.06.94-2.06 2.06-.94-2.06-.94-.94-2.06-.94 2.06-2.06.94z\"/><path d=\"M17.41 7.96l-1.37-1.37c-.4-.4-.92-.59-1.43-.59-.52 0-1.04.2-1.43.59L10.3 9.45l-7.72 7.72c-.78.78-.78 2.05 0 2.83L4 21.41c.39.39.9.59 1.41.59.51 0 1.02-.2 1.41-.59l7.78-7.78 2.81-2.81c.8-.78.8-2.07 0-2.86zM5.41 20L4 18.59l7.72-7.72 1.47 1.35L5.41 20z\"/>\n",
              "  </svg>\n",
              "      </button>\n",
              "      \n",
              "  <style>\n",
              "    .colab-df-container {\n",
              "      display:flex;\n",
              "      flex-wrap:wrap;\n",
              "      gap: 12px;\n",
              "    }\n",
              "\n",
              "    .colab-df-convert {\n",
              "      background-color: #E8F0FE;\n",
              "      border: none;\n",
              "      border-radius: 50%;\n",
              "      cursor: pointer;\n",
              "      display: none;\n",
              "      fill: #1967D2;\n",
              "      height: 32px;\n",
              "      padding: 0 0 0 0;\n",
              "      width: 32px;\n",
              "    }\n",
              "\n",
              "    .colab-df-convert:hover {\n",
              "      background-color: #E2EBFA;\n",
              "      box-shadow: 0px 1px 2px rgba(60, 64, 67, 0.3), 0px 1px 3px 1px rgba(60, 64, 67, 0.15);\n",
              "      fill: #174EA6;\n",
              "    }\n",
              "\n",
              "    [theme=dark] .colab-df-convert {\n",
              "      background-color: #3B4455;\n",
              "      fill: #D2E3FC;\n",
              "    }\n",
              "\n",
              "    [theme=dark] .colab-df-convert:hover {\n",
              "      background-color: #434B5C;\n",
              "      box-shadow: 0px 1px 3px 1px rgba(0, 0, 0, 0.15);\n",
              "      filter: drop-shadow(0px 1px 2px rgba(0, 0, 0, 0.3));\n",
              "      fill: #FFFFFF;\n",
              "    }\n",
              "  </style>\n",
              "\n",
              "      <script>\n",
              "        const buttonEl =\n",
              "          document.querySelector('#df-6535889f-c6cf-40c8-afd4-162339c134ce button.colab-df-convert');\n",
              "        buttonEl.style.display =\n",
              "          google.colab.kernel.accessAllowed ? 'block' : 'none';\n",
              "\n",
              "        async function convertToInteractive(key) {\n",
              "          const element = document.querySelector('#df-6535889f-c6cf-40c8-afd4-162339c134ce');\n",
              "          const dataTable =\n",
              "            await google.colab.kernel.invokeFunction('convertToInteractive',\n",
              "                                                     [key], {});\n",
              "          if (!dataTable) return;\n",
              "\n",
              "          const docLinkHtml = 'Like what you see? Visit the ' +\n",
              "            '<a target=\"_blank\" href=https://colab.research.google.com/notebooks/data_table.ipynb>data table notebook</a>'\n",
              "            + ' to learn more about interactive tables.';\n",
              "          element.innerHTML = '';\n",
              "          dataTable['output_type'] = 'display_data';\n",
              "          await google.colab.output.renderOutput(dataTable, element);\n",
              "          const docLink = document.createElement('div');\n",
              "          docLink.innerHTML = docLinkHtml;\n",
              "          element.appendChild(docLink);\n",
              "        }\n",
              "      </script>\n",
              "    </div>\n",
              "  </div>\n",
              "  "
            ]
          },
          "metadata": {},
          "execution_count": 9
        }
      ]
    },
    {
      "cell_type": "markdown",
      "source": [
        "## Part II: Preprocessing"
      ],
      "metadata": {
        "id": "Fa9YT8XjUGC1"
      }
    },
    {
      "cell_type": "markdown",
      "source": [
        "In this section two tables are created: one with predictive variables and one with the landslides prediction.\n",
        "\n",
        "For the first table, the 8 predictor variables are selected and put into a geodataframe:"
      ],
      "metadata": {
        "id": "DcFu0TAhVd8p"
      }
    },
    {
      "cell_type": "code",
      "source": [
        "DEM = vardf.DEM\n",
        "slope = vardf.slope\n",
        "planCurv = vardf.planCurv\n",
        "profCurv = vardf.profCurv\n",
        "distRoad = vardf.distRoad\n",
        "landCover = vardf.landCover\n",
        "TWI = vardf.TWI\n",
        "geology = vardf.geology"
      ],
      "metadata": {
        "id": "toZTDmlRCwXl"
      },
      "execution_count": 10,
      "outputs": []
    },
    {
      "cell_type": "code",
      "source": [
        "data = gpd.GeoDataFrame({'DEM':DEM, 'slope':slope, 'planCurv':planCurv, 'profCurv':profCurv, 'distRoad':distRoad, 'landCover':landCover, 'TWI':TWI, 'geology':geology})\n",
        "data"
      ],
      "metadata": {
        "colab": {
          "base_uri": "https://localhost:8080/",
          "height": 424
        },
        "id": "uVyGDpP4Cwa3",
        "outputId": "26a4f0a6-788e-477b-aab7-fc4ea54b240e"
      },
      "execution_count": 14,
      "outputs": [
        {
          "output_type": "execute_result",
          "data": {
            "text/plain": [
              "              DEM      slope  planCurv  profCurv     distRoad  landCover  \\\n",
              "0      437.746155   8.737924 -0.000748  0.012272   145.000000         21   \n",
              "1      451.840485  10.511221  0.039531 -0.080413     5.000000         11   \n",
              "2      459.606934  23.602930  0.020892 -0.144569    98.994949         15   \n",
              "3      458.156433  13.160677  0.040629 -0.046540    56.568542         15   \n",
              "4      460.311768  20.403830 -0.005813 -0.020053   138.654251         21   \n",
              "...           ...        ...       ...       ...          ...        ...   \n",
              "5183   451.893799   1.660977 -0.005359  0.001711   241.298569         21   \n",
              "5184  2197.191650  25.800716  0.093662 -0.004219  1674.820923         51   \n",
              "5185   628.142700  37.131775 -0.026372  0.002024   189.274933         41   \n",
              "5186   445.515076   0.898599  0.003541 -0.002232    98.615417         15   \n",
              "5187   697.954895   4.837874  0.004376 -0.004313   494.191254         21   \n",
              "\n",
              "            TWI  geology  \n",
              "0      7.799716       24  \n",
              "1      4.903382       24  \n",
              "2      4.046845       24  \n",
              "3      5.365241       24  \n",
              "4      5.817281       24  \n",
              "...         ...      ...  \n",
              "5183  12.846220        1  \n",
              "5184   3.945750        7  \n",
              "5185   4.883382        1  \n",
              "5186   9.319879        9  \n",
              "5187   9.122264        1  \n",
              "\n",
              "[5188 rows x 8 columns]"
            ],
            "text/html": [
              "\n",
              "  <div id=\"df-b3a8890b-7156-45f7-89d0-84ed8d290709\">\n",
              "    <div class=\"colab-df-container\">\n",
              "      <div>\n",
              "<style scoped>\n",
              "    .dataframe tbody tr th:only-of-type {\n",
              "        vertical-align: middle;\n",
              "    }\n",
              "\n",
              "    .dataframe tbody tr th {\n",
              "        vertical-align: top;\n",
              "    }\n",
              "\n",
              "    .dataframe thead th {\n",
              "        text-align: right;\n",
              "    }\n",
              "</style>\n",
              "<table border=\"1\" class=\"dataframe\">\n",
              "  <thead>\n",
              "    <tr style=\"text-align: right;\">\n",
              "      <th></th>\n",
              "      <th>DEM</th>\n",
              "      <th>slope</th>\n",
              "      <th>planCurv</th>\n",
              "      <th>profCurv</th>\n",
              "      <th>distRoad</th>\n",
              "      <th>landCover</th>\n",
              "      <th>TWI</th>\n",
              "      <th>geology</th>\n",
              "    </tr>\n",
              "  </thead>\n",
              "  <tbody>\n",
              "    <tr>\n",
              "      <th>0</th>\n",
              "      <td>437.746155</td>\n",
              "      <td>8.737924</td>\n",
              "      <td>-0.000748</td>\n",
              "      <td>0.012272</td>\n",
              "      <td>145.000000</td>\n",
              "      <td>21</td>\n",
              "      <td>7.799716</td>\n",
              "      <td>24</td>\n",
              "    </tr>\n",
              "    <tr>\n",
              "      <th>1</th>\n",
              "      <td>451.840485</td>\n",
              "      <td>10.511221</td>\n",
              "      <td>0.039531</td>\n",
              "      <td>-0.080413</td>\n",
              "      <td>5.000000</td>\n",
              "      <td>11</td>\n",
              "      <td>4.903382</td>\n",
              "      <td>24</td>\n",
              "    </tr>\n",
              "    <tr>\n",
              "      <th>2</th>\n",
              "      <td>459.606934</td>\n",
              "      <td>23.602930</td>\n",
              "      <td>0.020892</td>\n",
              "      <td>-0.144569</td>\n",
              "      <td>98.994949</td>\n",
              "      <td>15</td>\n",
              "      <td>4.046845</td>\n",
              "      <td>24</td>\n",
              "    </tr>\n",
              "    <tr>\n",
              "      <th>3</th>\n",
              "      <td>458.156433</td>\n",
              "      <td>13.160677</td>\n",
              "      <td>0.040629</td>\n",
              "      <td>-0.046540</td>\n",
              "      <td>56.568542</td>\n",
              "      <td>15</td>\n",
              "      <td>5.365241</td>\n",
              "      <td>24</td>\n",
              "    </tr>\n",
              "    <tr>\n",
              "      <th>4</th>\n",
              "      <td>460.311768</td>\n",
              "      <td>20.403830</td>\n",
              "      <td>-0.005813</td>\n",
              "      <td>-0.020053</td>\n",
              "      <td>138.654251</td>\n",
              "      <td>21</td>\n",
              "      <td>5.817281</td>\n",
              "      <td>24</td>\n",
              "    </tr>\n",
              "    <tr>\n",
              "      <th>...</th>\n",
              "      <td>...</td>\n",
              "      <td>...</td>\n",
              "      <td>...</td>\n",
              "      <td>...</td>\n",
              "      <td>...</td>\n",
              "      <td>...</td>\n",
              "      <td>...</td>\n",
              "      <td>...</td>\n",
              "    </tr>\n",
              "    <tr>\n",
              "      <th>5183</th>\n",
              "      <td>451.893799</td>\n",
              "      <td>1.660977</td>\n",
              "      <td>-0.005359</td>\n",
              "      <td>0.001711</td>\n",
              "      <td>241.298569</td>\n",
              "      <td>21</td>\n",
              "      <td>12.846220</td>\n",
              "      <td>1</td>\n",
              "    </tr>\n",
              "    <tr>\n",
              "      <th>5184</th>\n",
              "      <td>2197.191650</td>\n",
              "      <td>25.800716</td>\n",
              "      <td>0.093662</td>\n",
              "      <td>-0.004219</td>\n",
              "      <td>1674.820923</td>\n",
              "      <td>51</td>\n",
              "      <td>3.945750</td>\n",
              "      <td>7</td>\n",
              "    </tr>\n",
              "    <tr>\n",
              "      <th>5185</th>\n",
              "      <td>628.142700</td>\n",
              "      <td>37.131775</td>\n",
              "      <td>-0.026372</td>\n",
              "      <td>0.002024</td>\n",
              "      <td>189.274933</td>\n",
              "      <td>41</td>\n",
              "      <td>4.883382</td>\n",
              "      <td>1</td>\n",
              "    </tr>\n",
              "    <tr>\n",
              "      <th>5186</th>\n",
              "      <td>445.515076</td>\n",
              "      <td>0.898599</td>\n",
              "      <td>0.003541</td>\n",
              "      <td>-0.002232</td>\n",
              "      <td>98.615417</td>\n",
              "      <td>15</td>\n",
              "      <td>9.319879</td>\n",
              "      <td>9</td>\n",
              "    </tr>\n",
              "    <tr>\n",
              "      <th>5187</th>\n",
              "      <td>697.954895</td>\n",
              "      <td>4.837874</td>\n",
              "      <td>0.004376</td>\n",
              "      <td>-0.004313</td>\n",
              "      <td>494.191254</td>\n",
              "      <td>21</td>\n",
              "      <td>9.122264</td>\n",
              "      <td>1</td>\n",
              "    </tr>\n",
              "  </tbody>\n",
              "</table>\n",
              "<p>5188 rows × 8 columns</p>\n",
              "</div>\n",
              "      <button class=\"colab-df-convert\" onclick=\"convertToInteractive('df-b3a8890b-7156-45f7-89d0-84ed8d290709')\"\n",
              "              title=\"Convert this dataframe to an interactive table.\"\n",
              "              style=\"display:none;\">\n",
              "        \n",
              "  <svg xmlns=\"http://www.w3.org/2000/svg\" height=\"24px\"viewBox=\"0 0 24 24\"\n",
              "       width=\"24px\">\n",
              "    <path d=\"M0 0h24v24H0V0z\" fill=\"none\"/>\n",
              "    <path d=\"M18.56 5.44l.94 2.06.94-2.06 2.06-.94-2.06-.94-.94-2.06-.94 2.06-2.06.94zm-11 1L8.5 8.5l.94-2.06 2.06-.94-2.06-.94L8.5 2.5l-.94 2.06-2.06.94zm10 10l.94 2.06.94-2.06 2.06-.94-2.06-.94-.94-2.06-.94 2.06-2.06.94z\"/><path d=\"M17.41 7.96l-1.37-1.37c-.4-.4-.92-.59-1.43-.59-.52 0-1.04.2-1.43.59L10.3 9.45l-7.72 7.72c-.78.78-.78 2.05 0 2.83L4 21.41c.39.39.9.59 1.41.59.51 0 1.02-.2 1.41-.59l7.78-7.78 2.81-2.81c.8-.78.8-2.07 0-2.86zM5.41 20L4 18.59l7.72-7.72 1.47 1.35L5.41 20z\"/>\n",
              "  </svg>\n",
              "      </button>\n",
              "      \n",
              "  <style>\n",
              "    .colab-df-container {\n",
              "      display:flex;\n",
              "      flex-wrap:wrap;\n",
              "      gap: 12px;\n",
              "    }\n",
              "\n",
              "    .colab-df-convert {\n",
              "      background-color: #E8F0FE;\n",
              "      border: none;\n",
              "      border-radius: 50%;\n",
              "      cursor: pointer;\n",
              "      display: none;\n",
              "      fill: #1967D2;\n",
              "      height: 32px;\n",
              "      padding: 0 0 0 0;\n",
              "      width: 32px;\n",
              "    }\n",
              "\n",
              "    .colab-df-convert:hover {\n",
              "      background-color: #E2EBFA;\n",
              "      box-shadow: 0px 1px 2px rgba(60, 64, 67, 0.3), 0px 1px 3px 1px rgba(60, 64, 67, 0.15);\n",
              "      fill: #174EA6;\n",
              "    }\n",
              "\n",
              "    [theme=dark] .colab-df-convert {\n",
              "      background-color: #3B4455;\n",
              "      fill: #D2E3FC;\n",
              "    }\n",
              "\n",
              "    [theme=dark] .colab-df-convert:hover {\n",
              "      background-color: #434B5C;\n",
              "      box-shadow: 0px 1px 3px 1px rgba(0, 0, 0, 0.15);\n",
              "      filter: drop-shadow(0px 1px 2px rgba(0, 0, 0, 0.3));\n",
              "      fill: #FFFFFF;\n",
              "    }\n",
              "  </style>\n",
              "\n",
              "      <script>\n",
              "        const buttonEl =\n",
              "          document.querySelector('#df-b3a8890b-7156-45f7-89d0-84ed8d290709 button.colab-df-convert');\n",
              "        buttonEl.style.display =\n",
              "          google.colab.kernel.accessAllowed ? 'block' : 'none';\n",
              "\n",
              "        async function convertToInteractive(key) {\n",
              "          const element = document.querySelector('#df-b3a8890b-7156-45f7-89d0-84ed8d290709');\n",
              "          const dataTable =\n",
              "            await google.colab.kernel.invokeFunction('convertToInteractive',\n",
              "                                                     [key], {});\n",
              "          if (!dataTable) return;\n",
              "\n",
              "          const docLinkHtml = 'Like what you see? Visit the ' +\n",
              "            '<a target=\"_blank\" href=https://colab.research.google.com/notebooks/data_table.ipynb>data table notebook</a>'\n",
              "            + ' to learn more about interactive tables.';\n",
              "          element.innerHTML = '';\n",
              "          dataTable['output_type'] = 'display_data';\n",
              "          await google.colab.output.renderOutput(dataTable, element);\n",
              "          const docLink = document.createElement('div');\n",
              "          docLink.innerHTML = docLinkHtml;\n",
              "          element.appendChild(docLink);\n",
              "        }\n",
              "      </script>\n",
              "    </div>\n",
              "  </div>\n",
              "  "
            ]
          },
          "metadata": {},
          "execution_count": 14
        }
      ]
    },
    {
      "cell_type": "markdown",
      "source": [
        "For the second table, the prediction for each observation is reported:"
      ],
      "metadata": {
        "id": "ybYenqlxWFwt"
      }
    },
    {
      "cell_type": "code",
      "source": [
        "pred_data = testdf.prediction\n",
        "pred = gpd.GeoDataFrame({'pred': pred_data})\n",
        "pred"
      ],
      "metadata": {
        "colab": {
          "base_uri": "https://localhost:8080/",
          "height": 424
        },
        "id": "u-LMl_srcFbt",
        "outputId": "9f00dd75-34e4-4db3-992a-794f4817093e"
      },
      "execution_count": 15,
      "outputs": [
        {
          "output_type": "execute_result",
          "data": {
            "text/plain": [
              "       pred\n",
              "0     0.196\n",
              "1     0.864\n",
              "2     0.998\n",
              "3     0.990\n",
              "4     0.822\n",
              "...     ...\n",
              "5183  0.002\n",
              "5184  0.050\n",
              "5185  0.418\n",
              "5186  0.046\n",
              "5187  0.052\n",
              "\n",
              "[5188 rows x 1 columns]"
            ],
            "text/html": [
              "\n",
              "  <div id=\"df-ac749216-526d-4821-a1cf-1d03db8793e4\">\n",
              "    <div class=\"colab-df-container\">\n",
              "      <div>\n",
              "<style scoped>\n",
              "    .dataframe tbody tr th:only-of-type {\n",
              "        vertical-align: middle;\n",
              "    }\n",
              "\n",
              "    .dataframe tbody tr th {\n",
              "        vertical-align: top;\n",
              "    }\n",
              "\n",
              "    .dataframe thead th {\n",
              "        text-align: right;\n",
              "    }\n",
              "</style>\n",
              "<table border=\"1\" class=\"dataframe\">\n",
              "  <thead>\n",
              "    <tr style=\"text-align: right;\">\n",
              "      <th></th>\n",
              "      <th>pred</th>\n",
              "    </tr>\n",
              "  </thead>\n",
              "  <tbody>\n",
              "    <tr>\n",
              "      <th>0</th>\n",
              "      <td>0.196</td>\n",
              "    </tr>\n",
              "    <tr>\n",
              "      <th>1</th>\n",
              "      <td>0.864</td>\n",
              "    </tr>\n",
              "    <tr>\n",
              "      <th>2</th>\n",
              "      <td>0.998</td>\n",
              "    </tr>\n",
              "    <tr>\n",
              "      <th>3</th>\n",
              "      <td>0.990</td>\n",
              "    </tr>\n",
              "    <tr>\n",
              "      <th>4</th>\n",
              "      <td>0.822</td>\n",
              "    </tr>\n",
              "    <tr>\n",
              "      <th>...</th>\n",
              "      <td>...</td>\n",
              "    </tr>\n",
              "    <tr>\n",
              "      <th>5183</th>\n",
              "      <td>0.002</td>\n",
              "    </tr>\n",
              "    <tr>\n",
              "      <th>5184</th>\n",
              "      <td>0.050</td>\n",
              "    </tr>\n",
              "    <tr>\n",
              "      <th>5185</th>\n",
              "      <td>0.418</td>\n",
              "    </tr>\n",
              "    <tr>\n",
              "      <th>5186</th>\n",
              "      <td>0.046</td>\n",
              "    </tr>\n",
              "    <tr>\n",
              "      <th>5187</th>\n",
              "      <td>0.052</td>\n",
              "    </tr>\n",
              "  </tbody>\n",
              "</table>\n",
              "<p>5188 rows × 1 columns</p>\n",
              "</div>\n",
              "      <button class=\"colab-df-convert\" onclick=\"convertToInteractive('df-ac749216-526d-4821-a1cf-1d03db8793e4')\"\n",
              "              title=\"Convert this dataframe to an interactive table.\"\n",
              "              style=\"display:none;\">\n",
              "        \n",
              "  <svg xmlns=\"http://www.w3.org/2000/svg\" height=\"24px\"viewBox=\"0 0 24 24\"\n",
              "       width=\"24px\">\n",
              "    <path d=\"M0 0h24v24H0V0z\" fill=\"none\"/>\n",
              "    <path d=\"M18.56 5.44l.94 2.06.94-2.06 2.06-.94-2.06-.94-.94-2.06-.94 2.06-2.06.94zm-11 1L8.5 8.5l.94-2.06 2.06-.94-2.06-.94L8.5 2.5l-.94 2.06-2.06.94zm10 10l.94 2.06.94-2.06 2.06-.94-2.06-.94-.94-2.06-.94 2.06-2.06.94z\"/><path d=\"M17.41 7.96l-1.37-1.37c-.4-.4-.92-.59-1.43-.59-.52 0-1.04.2-1.43.59L10.3 9.45l-7.72 7.72c-.78.78-.78 2.05 0 2.83L4 21.41c.39.39.9.59 1.41.59.51 0 1.02-.2 1.41-.59l7.78-7.78 2.81-2.81c.8-.78.8-2.07 0-2.86zM5.41 20L4 18.59l7.72-7.72 1.47 1.35L5.41 20z\"/>\n",
              "  </svg>\n",
              "      </button>\n",
              "      \n",
              "  <style>\n",
              "    .colab-df-container {\n",
              "      display:flex;\n",
              "      flex-wrap:wrap;\n",
              "      gap: 12px;\n",
              "    }\n",
              "\n",
              "    .colab-df-convert {\n",
              "      background-color: #E8F0FE;\n",
              "      border: none;\n",
              "      border-radius: 50%;\n",
              "      cursor: pointer;\n",
              "      display: none;\n",
              "      fill: #1967D2;\n",
              "      height: 32px;\n",
              "      padding: 0 0 0 0;\n",
              "      width: 32px;\n",
              "    }\n",
              "\n",
              "    .colab-df-convert:hover {\n",
              "      background-color: #E2EBFA;\n",
              "      box-shadow: 0px 1px 2px rgba(60, 64, 67, 0.3), 0px 1px 3px 1px rgba(60, 64, 67, 0.15);\n",
              "      fill: #174EA6;\n",
              "    }\n",
              "\n",
              "    [theme=dark] .colab-df-convert {\n",
              "      background-color: #3B4455;\n",
              "      fill: #D2E3FC;\n",
              "    }\n",
              "\n",
              "    [theme=dark] .colab-df-convert:hover {\n",
              "      background-color: #434B5C;\n",
              "      box-shadow: 0px 1px 3px 1px rgba(0, 0, 0, 0.15);\n",
              "      filter: drop-shadow(0px 1px 2px rgba(0, 0, 0, 0.3));\n",
              "      fill: #FFFFFF;\n",
              "    }\n",
              "  </style>\n",
              "\n",
              "      <script>\n",
              "        const buttonEl =\n",
              "          document.querySelector('#df-ac749216-526d-4821-a1cf-1d03db8793e4 button.colab-df-convert');\n",
              "        buttonEl.style.display =\n",
              "          google.colab.kernel.accessAllowed ? 'block' : 'none';\n",
              "\n",
              "        async function convertToInteractive(key) {\n",
              "          const element = document.querySelector('#df-ac749216-526d-4821-a1cf-1d03db8793e4');\n",
              "          const dataTable =\n",
              "            await google.colab.kernel.invokeFunction('convertToInteractive',\n",
              "                                                     [key], {});\n",
              "          if (!dataTable) return;\n",
              "\n",
              "          const docLinkHtml = 'Like what you see? Visit the ' +\n",
              "            '<a target=\"_blank\" href=https://colab.research.google.com/notebooks/data_table.ipynb>data table notebook</a>'\n",
              "            + ' to learn more about interactive tables.';\n",
              "          element.innerHTML = '';\n",
              "          dataTable['output_type'] = 'display_data';\n",
              "          await google.colab.output.renderOutput(dataTable, element);\n",
              "          const docLink = document.createElement('div');\n",
              "          docLink.innerHTML = docLinkHtml;\n",
              "          element.appendChild(docLink);\n",
              "        }\n",
              "      </script>\n",
              "    </div>\n",
              "  </div>\n",
              "  "
            ]
          },
          "metadata": {},
          "execution_count": 15
        }
      ]
    },
    {
      "cell_type": "markdown",
      "source": [
        "The two tables are joined to delete eventual NaN data:"
      ],
      "metadata": {
        "id": "nzo1AMj3bAqE"
      }
    },
    {
      "cell_type": "code",
      "source": [
        "data_pred = pd.concat([data, pred], axis=1, join=\"inner\")\n",
        "data_pred.dropna()\n",
        "data_pred"
      ],
      "metadata": {
        "colab": {
          "base_uri": "https://localhost:8080/",
          "height": 424
        },
        "id": "yMh4DLFucqcy",
        "outputId": "a020b167-5c74-4dba-a623-511e4a9fc8f4"
      },
      "execution_count": 16,
      "outputs": [
        {
          "output_type": "execute_result",
          "data": {
            "text/plain": [
              "              DEM      slope  planCurv  profCurv     distRoad  landCover  \\\n",
              "0      437.746155   8.737924 -0.000748  0.012272   145.000000         21   \n",
              "1      451.840485  10.511221  0.039531 -0.080413     5.000000         11   \n",
              "2      459.606934  23.602930  0.020892 -0.144569    98.994949         15   \n",
              "3      458.156433  13.160677  0.040629 -0.046540    56.568542         15   \n",
              "4      460.311768  20.403830 -0.005813 -0.020053   138.654251         21   \n",
              "...           ...        ...       ...       ...          ...        ...   \n",
              "5183   451.893799   1.660977 -0.005359  0.001711   241.298569         21   \n",
              "5184  2197.191650  25.800716  0.093662 -0.004219  1674.820923         51   \n",
              "5185   628.142700  37.131775 -0.026372  0.002024   189.274933         41   \n",
              "5186   445.515076   0.898599  0.003541 -0.002232    98.615417         15   \n",
              "5187   697.954895   4.837874  0.004376 -0.004313   494.191254         21   \n",
              "\n",
              "            TWI  geology   pred  \n",
              "0      7.799716       24  0.196  \n",
              "1      4.903382       24  0.864  \n",
              "2      4.046845       24  0.998  \n",
              "3      5.365241       24  0.990  \n",
              "4      5.817281       24  0.822  \n",
              "...         ...      ...    ...  \n",
              "5183  12.846220        1  0.002  \n",
              "5184   3.945750        7  0.050  \n",
              "5185   4.883382        1  0.418  \n",
              "5186   9.319879        9  0.046  \n",
              "5187   9.122264        1  0.052  \n",
              "\n",
              "[5188 rows x 9 columns]"
            ],
            "text/html": [
              "\n",
              "  <div id=\"df-3ec41afc-c242-4d5d-a62d-daf4de0194fa\">\n",
              "    <div class=\"colab-df-container\">\n",
              "      <div>\n",
              "<style scoped>\n",
              "    .dataframe tbody tr th:only-of-type {\n",
              "        vertical-align: middle;\n",
              "    }\n",
              "\n",
              "    .dataframe tbody tr th {\n",
              "        vertical-align: top;\n",
              "    }\n",
              "\n",
              "    .dataframe thead th {\n",
              "        text-align: right;\n",
              "    }\n",
              "</style>\n",
              "<table border=\"1\" class=\"dataframe\">\n",
              "  <thead>\n",
              "    <tr style=\"text-align: right;\">\n",
              "      <th></th>\n",
              "      <th>DEM</th>\n",
              "      <th>slope</th>\n",
              "      <th>planCurv</th>\n",
              "      <th>profCurv</th>\n",
              "      <th>distRoad</th>\n",
              "      <th>landCover</th>\n",
              "      <th>TWI</th>\n",
              "      <th>geology</th>\n",
              "      <th>pred</th>\n",
              "    </tr>\n",
              "  </thead>\n",
              "  <tbody>\n",
              "    <tr>\n",
              "      <th>0</th>\n",
              "      <td>437.746155</td>\n",
              "      <td>8.737924</td>\n",
              "      <td>-0.000748</td>\n",
              "      <td>0.012272</td>\n",
              "      <td>145.000000</td>\n",
              "      <td>21</td>\n",
              "      <td>7.799716</td>\n",
              "      <td>24</td>\n",
              "      <td>0.196</td>\n",
              "    </tr>\n",
              "    <tr>\n",
              "      <th>1</th>\n",
              "      <td>451.840485</td>\n",
              "      <td>10.511221</td>\n",
              "      <td>0.039531</td>\n",
              "      <td>-0.080413</td>\n",
              "      <td>5.000000</td>\n",
              "      <td>11</td>\n",
              "      <td>4.903382</td>\n",
              "      <td>24</td>\n",
              "      <td>0.864</td>\n",
              "    </tr>\n",
              "    <tr>\n",
              "      <th>2</th>\n",
              "      <td>459.606934</td>\n",
              "      <td>23.602930</td>\n",
              "      <td>0.020892</td>\n",
              "      <td>-0.144569</td>\n",
              "      <td>98.994949</td>\n",
              "      <td>15</td>\n",
              "      <td>4.046845</td>\n",
              "      <td>24</td>\n",
              "      <td>0.998</td>\n",
              "    </tr>\n",
              "    <tr>\n",
              "      <th>3</th>\n",
              "      <td>458.156433</td>\n",
              "      <td>13.160677</td>\n",
              "      <td>0.040629</td>\n",
              "      <td>-0.046540</td>\n",
              "      <td>56.568542</td>\n",
              "      <td>15</td>\n",
              "      <td>5.365241</td>\n",
              "      <td>24</td>\n",
              "      <td>0.990</td>\n",
              "    </tr>\n",
              "    <tr>\n",
              "      <th>4</th>\n",
              "      <td>460.311768</td>\n",
              "      <td>20.403830</td>\n",
              "      <td>-0.005813</td>\n",
              "      <td>-0.020053</td>\n",
              "      <td>138.654251</td>\n",
              "      <td>21</td>\n",
              "      <td>5.817281</td>\n",
              "      <td>24</td>\n",
              "      <td>0.822</td>\n",
              "    </tr>\n",
              "    <tr>\n",
              "      <th>...</th>\n",
              "      <td>...</td>\n",
              "      <td>...</td>\n",
              "      <td>...</td>\n",
              "      <td>...</td>\n",
              "      <td>...</td>\n",
              "      <td>...</td>\n",
              "      <td>...</td>\n",
              "      <td>...</td>\n",
              "      <td>...</td>\n",
              "    </tr>\n",
              "    <tr>\n",
              "      <th>5183</th>\n",
              "      <td>451.893799</td>\n",
              "      <td>1.660977</td>\n",
              "      <td>-0.005359</td>\n",
              "      <td>0.001711</td>\n",
              "      <td>241.298569</td>\n",
              "      <td>21</td>\n",
              "      <td>12.846220</td>\n",
              "      <td>1</td>\n",
              "      <td>0.002</td>\n",
              "    </tr>\n",
              "    <tr>\n",
              "      <th>5184</th>\n",
              "      <td>2197.191650</td>\n",
              "      <td>25.800716</td>\n",
              "      <td>0.093662</td>\n",
              "      <td>-0.004219</td>\n",
              "      <td>1674.820923</td>\n",
              "      <td>51</td>\n",
              "      <td>3.945750</td>\n",
              "      <td>7</td>\n",
              "      <td>0.050</td>\n",
              "    </tr>\n",
              "    <tr>\n",
              "      <th>5185</th>\n",
              "      <td>628.142700</td>\n",
              "      <td>37.131775</td>\n",
              "      <td>-0.026372</td>\n",
              "      <td>0.002024</td>\n",
              "      <td>189.274933</td>\n",
              "      <td>41</td>\n",
              "      <td>4.883382</td>\n",
              "      <td>1</td>\n",
              "      <td>0.418</td>\n",
              "    </tr>\n",
              "    <tr>\n",
              "      <th>5186</th>\n",
              "      <td>445.515076</td>\n",
              "      <td>0.898599</td>\n",
              "      <td>0.003541</td>\n",
              "      <td>-0.002232</td>\n",
              "      <td>98.615417</td>\n",
              "      <td>15</td>\n",
              "      <td>9.319879</td>\n",
              "      <td>9</td>\n",
              "      <td>0.046</td>\n",
              "    </tr>\n",
              "    <tr>\n",
              "      <th>5187</th>\n",
              "      <td>697.954895</td>\n",
              "      <td>4.837874</td>\n",
              "      <td>0.004376</td>\n",
              "      <td>-0.004313</td>\n",
              "      <td>494.191254</td>\n",
              "      <td>21</td>\n",
              "      <td>9.122264</td>\n",
              "      <td>1</td>\n",
              "      <td>0.052</td>\n",
              "    </tr>\n",
              "  </tbody>\n",
              "</table>\n",
              "<p>5188 rows × 9 columns</p>\n",
              "</div>\n",
              "      <button class=\"colab-df-convert\" onclick=\"convertToInteractive('df-3ec41afc-c242-4d5d-a62d-daf4de0194fa')\"\n",
              "              title=\"Convert this dataframe to an interactive table.\"\n",
              "              style=\"display:none;\">\n",
              "        \n",
              "  <svg xmlns=\"http://www.w3.org/2000/svg\" height=\"24px\"viewBox=\"0 0 24 24\"\n",
              "       width=\"24px\">\n",
              "    <path d=\"M0 0h24v24H0V0z\" fill=\"none\"/>\n",
              "    <path d=\"M18.56 5.44l.94 2.06.94-2.06 2.06-.94-2.06-.94-.94-2.06-.94 2.06-2.06.94zm-11 1L8.5 8.5l.94-2.06 2.06-.94-2.06-.94L8.5 2.5l-.94 2.06-2.06.94zm10 10l.94 2.06.94-2.06 2.06-.94-2.06-.94-.94-2.06-.94 2.06-2.06.94z\"/><path d=\"M17.41 7.96l-1.37-1.37c-.4-.4-.92-.59-1.43-.59-.52 0-1.04.2-1.43.59L10.3 9.45l-7.72 7.72c-.78.78-.78 2.05 0 2.83L4 21.41c.39.39.9.59 1.41.59.51 0 1.02-.2 1.41-.59l7.78-7.78 2.81-2.81c.8-.78.8-2.07 0-2.86zM5.41 20L4 18.59l7.72-7.72 1.47 1.35L5.41 20z\"/>\n",
              "  </svg>\n",
              "      </button>\n",
              "      \n",
              "  <style>\n",
              "    .colab-df-container {\n",
              "      display:flex;\n",
              "      flex-wrap:wrap;\n",
              "      gap: 12px;\n",
              "    }\n",
              "\n",
              "    .colab-df-convert {\n",
              "      background-color: #E8F0FE;\n",
              "      border: none;\n",
              "      border-radius: 50%;\n",
              "      cursor: pointer;\n",
              "      display: none;\n",
              "      fill: #1967D2;\n",
              "      height: 32px;\n",
              "      padding: 0 0 0 0;\n",
              "      width: 32px;\n",
              "    }\n",
              "\n",
              "    .colab-df-convert:hover {\n",
              "      background-color: #E2EBFA;\n",
              "      box-shadow: 0px 1px 2px rgba(60, 64, 67, 0.3), 0px 1px 3px 1px rgba(60, 64, 67, 0.15);\n",
              "      fill: #174EA6;\n",
              "    }\n",
              "\n",
              "    [theme=dark] .colab-df-convert {\n",
              "      background-color: #3B4455;\n",
              "      fill: #D2E3FC;\n",
              "    }\n",
              "\n",
              "    [theme=dark] .colab-df-convert:hover {\n",
              "      background-color: #434B5C;\n",
              "      box-shadow: 0px 1px 3px 1px rgba(0, 0, 0, 0.15);\n",
              "      filter: drop-shadow(0px 1px 2px rgba(0, 0, 0, 0.3));\n",
              "      fill: #FFFFFF;\n",
              "    }\n",
              "  </style>\n",
              "\n",
              "      <script>\n",
              "        const buttonEl =\n",
              "          document.querySelector('#df-3ec41afc-c242-4d5d-a62d-daf4de0194fa button.colab-df-convert');\n",
              "        buttonEl.style.display =\n",
              "          google.colab.kernel.accessAllowed ? 'block' : 'none';\n",
              "\n",
              "        async function convertToInteractive(key) {\n",
              "          const element = document.querySelector('#df-3ec41afc-c242-4d5d-a62d-daf4de0194fa');\n",
              "          const dataTable =\n",
              "            await google.colab.kernel.invokeFunction('convertToInteractive',\n",
              "                                                     [key], {});\n",
              "          if (!dataTable) return;\n",
              "\n",
              "          const docLinkHtml = 'Like what you see? Visit the ' +\n",
              "            '<a target=\"_blank\" href=https://colab.research.google.com/notebooks/data_table.ipynb>data table notebook</a>'\n",
              "            + ' to learn more about interactive tables.';\n",
              "          element.innerHTML = '';\n",
              "          dataTable['output_type'] = 'display_data';\n",
              "          await google.colab.output.renderOutput(dataTable, element);\n",
              "          const docLink = document.createElement('div');\n",
              "          docLink.innerHTML = docLinkHtml;\n",
              "          element.appendChild(docLink);\n",
              "        }\n",
              "      </script>\n",
              "    </div>\n",
              "  </div>\n",
              "  "
            ]
          },
          "metadata": {},
          "execution_count": 16
        }
      ]
    },
    {
      "cell_type": "markdown",
      "source": [
        "## Part III: Random Forest Regressor implementation"
      ],
      "metadata": {
        "id": "1G69p_y9oGw7"
      }
    },
    {
      "cell_type": "markdown",
      "source": [
        "General implementation of Random forest regressor:"
      ],
      "metadata": {
        "id": "BXVViAChooLI"
      }
    },
    {
      "cell_type": "code",
      "source": [
        "from sklearn.model_selection import train_test_split\n",
        "X_train, X_test, y_train, y_test = train_test_split(data, pred, test_size = 0.33, random_state = rnd_seed)"
      ],
      "metadata": {
        "id": "yn6Zq7d6clAh"
      },
      "execution_count": 17,
      "outputs": []
    },
    {
      "cell_type": "code",
      "source": [
        "from sklearn.ensemble import RandomForestRegressor\n",
        "regr1 = RandomForestRegressor(max_depth=10, random_state=0)\n",
        "regr1.fit(X_train, y_train)"
      ],
      "metadata": {
        "id": "gTbYQClphgOE",
        "colab": {
          "base_uri": "https://localhost:8080/"
        },
        "outputId": "f9782ccf-3422-4bae-b75f-f79462e318c2"
      },
      "execution_count": 18,
      "outputs": [
        {
          "output_type": "stream",
          "name": "stderr",
          "text": [
            "/usr/local/lib/python3.7/dist-packages/ipykernel_launcher.py:3: DataConversionWarning: A column-vector y was passed when a 1d array was expected. Please change the shape of y to (n_samples,), for example using ravel().\n",
            "  This is separate from the ipykernel package so we can avoid doing imports until\n"
          ]
        },
        {
          "output_type": "execute_result",
          "data": {
            "text/plain": [
              "RandomForestRegressor(max_depth=10, random_state=0)"
            ]
          },
          "metadata": {},
          "execution_count": 18
        }
      ]
    },
    {
      "cell_type": "markdown",
      "source": [
        "The mean squared error and the coefficient of determination are calculated. *Source: <a href=\"https://stackoverflow.com/questions/55942884/how-to-get-accuracy-in-randomforest-model-in-python\">Stackoverflow</a>.*"
      ],
      "metadata": {
        "id": "Pxnq17IM7CxX"
      }
    },
    {
      "cell_type": "code",
      "source": [
        "#from sklearn.metrics import accuracy_score\n",
        "import math\n",
        "y_pred1 = regr1.predict(X_test)\n",
        "#accuracy = regr1.score(y_pred, y_test)\n",
        "mse1 = sklearn.metrics.mean_squared_error(y_test, y_pred1)\n",
        "print(f'The mean squared error of the RandomForest Regression is {mse1}')\n",
        "r2 = sklearn.metrics.r2_score(y_test, y_pred1, sample_weight=None, multioutput='uniform_average')\n",
        "print (r2)"
      ],
      "metadata": {
        "id": "SiqxCd1Hfi_i",
        "colab": {
          "base_uri": "https://localhost:8080/"
        },
        "outputId": "02001cc0-1819-4a05-ee70-9945ae4e259a"
      },
      "execution_count": 29,
      "outputs": [
        {
          "output_type": "stream",
          "name": "stdout",
          "text": [
            "The mean squared error of the RandomForest Regression is 0.009039789731977613\n",
            "0.9209918832658137\n"
          ]
        }
      ]
    },
    {
      "cell_type": "markdown",
      "source": [
        "In this section, an hyperparameters search is conducted to reduce the error and to get a better R2:"
      ],
      "metadata": {
        "id": "Zc1AYJawowSF"
      }
    },
    {
      "cell_type": "code",
      "source": [
        "from sklearn.model_selection import GridSearchCV\n",
        "param = {'n_estimators': [30, 40, 50, 60], 'max_features': [1, 2, 3, 4, 5]}\n",
        "gscv = GridSearchCV(regr1, param, cv = 5)\n",
        "gscv.fit(X_train, y_train)"
      ],
      "metadata": {
        "id": "0Ke6CAI6xfT2"
      },
      "execution_count": null,
      "outputs": []
    },
    {
      "cell_type": "code",
      "source": [
        "gscv.best_params_\n",
        "best_grid = gscv.best_estimator_\n",
        "best_grid"
      ],
      "metadata": {
        "colab": {
          "base_uri": "https://localhost:8080/"
        },
        "id": "360yPxDXCAUi",
        "outputId": "7b3d52fa-a92b-4a59-a7f7-1993941d7cda"
      },
      "execution_count": 31,
      "outputs": [
        {
          "output_type": "execute_result",
          "data": {
            "text/plain": [
              "RandomForestRegressor(max_depth=10, max_features=4, n_estimators=60,\n",
              "                      random_state=0)"
            ]
          },
          "metadata": {},
          "execution_count": 31
        }
      ]
    },
    {
      "cell_type": "code",
      "source": [
        "# Just an essay in case the previous code isn't enough\n",
        "# Create the parameter grid based on the results of random search \n",
        "param_grid = {\n",
        "    'bootstrap': [True],\n",
        "    'max_depth': [80, 90, 100, 110],\n",
        "    'max_features': [2, 3],\n",
        "    'min_samples_leaf': [3, 4, 5],\n",
        "    'min_samples_split': [8, 10, 12],\n",
        "    'n_estimators': [100, 200, 300, 1000]\n",
        "}\n",
        "\n",
        "# Instantiate the grid search model\n",
        "grid_search = GridSearchCV(estimator = regr1, param_grid = param_grid, \n",
        "                          cv = 3, n_jobs = -1, verbose = 2)"
      ],
      "metadata": {
        "id": "cN_XoAI6lB3V"
      },
      "execution_count": null,
      "outputs": []
    },
    {
      "cell_type": "code",
      "source": [
        "# Just an essay in case the previous code isn't enough\n",
        "# Fit the grid search to the data\n",
        "grid_search.fit(X_train, y_train)\n",
        "grid_search.best_params_\n",
        "\n",
        "best_grid = grid_search.best_estimator_\n",
        "best_grid\n",
        "#base_accuracy = evaluate(regr1, X_test, y_test)\n",
        "#grid_accuracy = evaluate(best_grid, X_test, y_test)\n",
        "\n",
        "#print('Improvement of {:0.2f}%.'.format( 100 * (grid_accuracy - base_accuracy) / base_accuracy))"
      ],
      "metadata": {
        "id": "ylVVyuJ_e4Fd"
      },
      "execution_count": null,
      "outputs": []
    },
    {
      "cell_type": "markdown",
      "source": [
        "Here the Random forest regressor is implemented with the parameters found above:"
      ],
      "metadata": {
        "id": "w1M0P5CIcVQf"
      }
    },
    {
      "cell_type": "code",
      "source": [
        "regr2 = RandomForestRegressor(n_estimators = 60, max_features = 4)\n",
        "regr2.fit(X_train, y_train)"
      ],
      "metadata": {
        "id": "4EoKjfdEpBjS"
      },
      "execution_count": null,
      "outputs": []
    },
    {
      "cell_type": "markdown",
      "source": [
        "The mean squared error and the coefficient of determination are calculated. Source: Stackoverflow."
      ],
      "metadata": {
        "id": "RQfc9lurcpD5"
      }
    },
    {
      "cell_type": "code",
      "source": [
        "import math\n",
        "y_pred2 = regr2.predict(X_test)\n",
        "#accuracy = regr1.score(y_pred, y_test)\n",
        "mse2 = sklearn.metrics.mean_squared_error(y_test, y_pred2)\n",
        "#rmse = math.sqrt(mse)\n",
        "print(f'The mean squared error of the RandomForest Regression is {mse2}')\n",
        "r2 = sklearn.metrics.r2_score(y_test, y_pred2, sample_weight=None, multioutput='uniform_average')\n",
        "print (r2)"
      ],
      "metadata": {
        "colab": {
          "base_uri": "https://localhost:8080/"
        },
        "id": "io8lAID17zwR",
        "outputId": "1f31d906-e16e-454a-8883-0e18cdf98852"
      },
      "execution_count": 37,
      "outputs": [
        {
          "output_type": "stream",
          "name": "stdout",
          "text": [
            "The mean squared error of the RandomForest Regression is 0.007833408940131025\n",
            "0.9315356986922865\n"
          ]
        }
      ]
    },
    {
      "cell_type": "markdown",
      "source": [
        "##Part IV: Feature importance"
      ],
      "metadata": {
        "id": "XXzy6GPLctU2"
      }
    },
    {
      "cell_type": "markdown",
      "source": [
        "First method for Feature importance - mean decrease in impurity.\n",
        "*Source: <a href=\"https://scikit-learn.org/stable/auto_examples/ensemble/plot_forest_importances.html\">scikit-learn</a>.*"
      ],
      "metadata": {
        "id": "J-F7PbJ4VEgD"
      }
    },
    {
      "cell_type": "code",
      "source": [
        "importances = regr2.feature_importances_\n",
        "std = np.std([tree.feature_importances_ for tree in regr2.estimators_], axis=0)\n",
        "feature_names = [data.columns]"
      ],
      "metadata": {
        "id": "Oeder5bwVIGe"
      },
      "execution_count": 38,
      "outputs": []
    },
    {
      "cell_type": "code",
      "source": [
        "forest_importances_1 = pd.Series(importances, index=feature_names)\n",
        "\n",
        "fig, ax = plt.subplots()\n",
        "forest_importances_1.plot.bar(yerr=std, ax=ax)\n",
        "ax.set_title(\"Feature importances using MDI\")\n",
        "ax.set_ylabel(\"Mean decrease in impurity\")\n",
        "fig.tight_layout()"
      ],
      "metadata": {
        "colab": {
          "base_uri": "https://localhost:8080/",
          "height": 297
        },
        "id": "Jbilpy7RVIOT",
        "outputId": "66c1cf8b-3110-4762-c9c2-d831bb080f24"
      },
      "execution_count": 39,
      "outputs": [
        {
          "output_type": "display_data",
          "data": {
            "text/plain": [
              "<Figure size 432x288 with 1 Axes>"
            ],
            "image/png": "[encoded data removed]"
          },
          "metadata": {
            "needs_background": "light"
          }
        }
      ]
    },
    {
      "cell_type": "markdown",
      "source": [
        "Varibles with a mean >= 0.1 are listed here:"
      ],
      "metadata": {
        "id": "Jrtwy1TUdViJ"
      }
    },
    {
      "cell_type": "code",
      "source": [
        "var_import_1 = forest_importances_1[forest_importances_1 >= 0.1]\n",
        "var_import_1"
      ],
      "metadata": {
        "colab": {
          "base_uri": "https://localhost:8080/"
        },
        "id": "l8BhlDb_VISm",
        "outputId": "7401c6c6-c0be-4ee7-87f8-3fc9fe1a7c64"
      },
      "execution_count": 40,
      "outputs": [
        {
          "output_type": "execute_result",
          "data": {
            "text/plain": [
              "slope       0.219095\n",
              "profCurv    0.297831\n",
              "distRoad    0.145626\n",
              "TWI         0.101977\n",
              "dtype: float64"
            ]
          },
          "metadata": {},
          "execution_count": 40
        }
      ]
    },
    {
      "cell_type": "markdown",
      "source": [
        "Second method for Feature importance - feature permutation. *Source: <a href=\"https://scikit-learn.org/stable/auto_examples/ensemble/plot_forest_importances.html\">scikit-learn</a>.*"
      ],
      "metadata": {
        "id": "lAILDQCsqAe5"
      }
    },
    {
      "cell_type": "code",
      "source": [
        "from sklearn.inspection import permutation_importance\n",
        "\n",
        "result = permutation_importance(\n",
        "    regr2, X_test, y_test, n_repeats=10, random_state=42, n_jobs=2\n",
        ")\n",
        "forest_importances_2 = pd.Series(result.importances_mean, index=feature_names)"
      ],
      "metadata": {
        "id": "H7lAaeRdVIX0"
      },
      "execution_count": 41,
      "outputs": []
    },
    {
      "cell_type": "code",
      "source": [
        "fig, ax = plt.subplots()\n",
        "forest_importances_2.plot.bar(yerr=result.importances_std, ax=ax)\n",
        "ax.set_title(\"Feature importances using permutation on full model\")\n",
        "ax.set_ylabel(\"Mean accuracy decrease\")\n",
        "fig.tight_layout()\n",
        "plt.show()"
      ],
      "metadata": {
        "colab": {
          "base_uri": "https://localhost:8080/",
          "height": 297
        },
        "id": "3n6MEKN2qVaN",
        "outputId": "d4dd8190-7df8-4cc7-ab4a-d4ee82bbe42b"
      },
      "execution_count": 42,
      "outputs": [
        {
          "output_type": "display_data",
          "data": {
            "text/plain": [
              "<Figure size 432x288 with 1 Axes>"
            ],
            "image/png": "[encoded data removed]"
          },
          "metadata": {
            "needs_background": "light"
          }
        }
      ]
    },
    {
      "cell_type": "markdown",
      "source": [
        "Varibles with a mean >= 0.15 are listed here:"
      ],
      "metadata": {
        "id": "mIluaD7Xd5Mq"
      }
    },
    {
      "cell_type": "code",
      "source": [
        "var_import_2 = forest_importances_2[forest_importances_2 >= 0.15]\n",
        "var_import_2"
      ],
      "metadata": {
        "colab": {
          "base_uri": "https://localhost:8080/"
        },
        "id": "aJeaMu3SqVcg",
        "outputId": "84eb4c12-2ff2-4fc6-f390-1c7b35076a5c"
      },
      "execution_count": 43,
      "outputs": [
        {
          "output_type": "execute_result",
          "data": {
            "text/plain": [
              "slope       0.349763\n",
              "profCurv    0.355464\n",
              "distRoad    0.180295\n",
              "dtype: float64"
            ]
          },
          "metadata": {},
          "execution_count": 43
        }
      ]
    },
    {
      "cell_type": "markdown",
      "source": [
        "Domanda di ricerca: \n",
        "è effettivamente possibile ridurre i parametri di predizione delle frane?"
      ],
      "metadata": {
        "id": "IgdBZSvcosEM"
      }
    }
  ]
}