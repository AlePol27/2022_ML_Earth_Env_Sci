{
  "nbformat": 4,
  "nbformat_minor": 0,
  "metadata": {
    "colab": {
      "name": "Untitled0.ipynb",
      "provenance": [],
      "authorship_tag": "ABX9TyN6zHGVBaMyOqdkiJPHWQz+",
      "include_colab_link": true
    },
    "kernelspec": {
      "name": "python3",
      "display_name": "Python 3"
    },
    "language_info": {
      "name": "python"
    }
  },
  "cells": [
    {
      "cell_type": "markdown",
      "metadata": {
        "id": "view-in-github",
        "colab_type": "text"
      },
      "source": [
        "<a href=\"https://colab.research.google.com/github/AlePol27/2022_ML_Earth_Env_Sci/blob/main/Final_Project.ipynb\" target=\"_parent\"><img src=\"https://colab.research.google.com/assets/colab-badge.svg\" alt=\"Open In Colab\"/></a>"
      ]
    },
    {
      "cell_type": "markdown",
      "source": [
        "# ML final project"
      ],
      "metadata": {
        "id": "ZywSVNVzS2uM"
      }
    },
    {
      "cell_type": "markdown",
      "source": [
        "Text\n",
        "\n",
        "*Source: bla bla bla <a href=\"\">label</a>.*"
      ],
      "metadata": {
        "id": "bcSPUqG7S7XM"
      }
    },
    {
      "cell_type": "markdown",
      "source": [
        "## Part I:"
      ],
      "metadata": {
        "id": "szMsCGCSTDo5"
      }
    },
    {
      "cell_type": "markdown",
      "source": [
        "## Part II:"
      ],
      "metadata": {
        "id": "aZse1jXnS-1C"
      }
    },
    {
      "cell_type": "markdown",
      "source": [
        "# Title"
      ],
      "metadata": {
        "id": "3qxY0t4ATBBU"
      }
    },
    {
      "cell_type": "markdown",
      "source": [
        "## Part I:"
      ],
      "metadata": {
        "id": "0XK8Wj0xTHIj"
      }
    },
    {
      "cell_type": "markdown",
      "source": [
        "## Part II:"
      ],
      "metadata": {
        "id": "V6374xULTJqL"
      }
    },
    {
      "cell_type": "code",
      "execution_count": null,
      "metadata": {
        "id": "XecRD3ZhSvZU"
      },
      "outputs": [],
      "source": [
        ""
      ]
    }
  ]
}