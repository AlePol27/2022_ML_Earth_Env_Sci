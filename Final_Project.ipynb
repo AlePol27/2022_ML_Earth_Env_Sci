{
  "nbformat": 4,
  "nbformat_minor": 0,
  "metadata": {
    "colab": {
      "name": "S5_2_ANNs_for_Climate.ipynb",
      "provenance": [],
      "include_colab_link": true
    },
    "kernelspec": {
      "name": "python3",
      "display_name": "Python 3"
    },
    "language_info": {
      "name": "python"
    }
  },
  "cells": [
    {
      "cell_type": "markdown",
      "metadata": {
        "id": "view-in-github",
        "colab_type": "text"
      },
      "source": [
        "<a href=\"https://colab.research.google.com/github/AlePol27/2022_ML_Earth_Env_Sci/blob/main/Final_Project.ipynb\" target=\"_parent\"><img src=\"https://colab.research.google.com/assets/colab-badge.svg\" alt=\"Open In Colab\"/></a>"
      ]
    },
    {
      "cell_type": "markdown",
      "source": [
        "# ML final project"
      ],
      "metadata": {
        "id": "2f-e9eNkgmhN"
      }
    },
    {
      "cell_type": "markdown",
      "source": [
        "Text\n",
        "\n",
        "*Source: bla bla bla <a href=\"\">label</a>.*"
      ],
      "metadata": {
        "id": "4ogO2oAiH-e7"
      }
    },
    {
      "cell_type": "markdown",
      "source": [
        "## Part I:"
      ],
      "metadata": {
        "id": "9FV7dNneIWqC"
      }
    },
    {
      "cell_type": "markdown",
      "source": [
        "## Part II:"
      ],
      "metadata": {
        "id": "_7B9AmW3g95X"
      }
    },
    {
      "cell_type": "markdown",
      "source": [
        "# Title"
      ],
      "metadata": {
        "id": "s_MvqNhTg3Ew"
      }
    },
    {
      "cell_type": "markdown",
      "source": [
        "## Part I:"
      ],
      "metadata": {
        "id": "3UjpA_oTg83d"
      }
    },
    {
      "cell_type": "markdown",
      "source": [
        "## Part II:"
      ],
      "metadata": {
        "id": "ddduNv-56nmq"
      }
    }
  ]
}