{
  "nbformat": 4,
  "nbformat_minor": 0,
  "metadata": {
    "colab": {
      "name": "AAA_Final_Project_A_Poloni.ipynb",
      "provenance": [],
      "collapsed_sections": [],
      "authorship_tag": "ABX9TyPbMfKNPHXg3q4qjy0BWaX6",
      "include_colab_link": true
    },
    "kernelspec": {
      "name": "python3",
      "display_name": "Python 3"
    },
    "language_info": {
      "name": "python"
    }
  },
  "cells": [
    {
      "cell_type": "markdown",
      "metadata": {
        "id": "view-in-github",
        "colab_type": "text"
      },
      "source": [
        "<a href=\"https://colab.research.google.com/github/AlePol27/2022_ML_Earth_Env_Sci/blob/main/Final_Project.ipynb\" target=\"_parent\"><img src=\"https://colab.research.google.com/assets/colab-badge.svg\" alt=\"Open In Colab\"/></a>"
      ]
    },
    {
      "cell_type": "markdown",
      "source": [
        "# ML final project - Ranking Features for Landslide Prediction\n",
        "##### Alessio Poloni"
      ],
      "metadata": {
        "id": "2aXSTrgQUFWV"
      }
    },
    {
      "cell_type": "markdown",
      "source": [
        "## Part I: Load data"
      ],
      "metadata": {
        "id": "g-znLhguUGAr"
      }
    },
    {
      "cell_type": "markdown",
      "source": [
        "This cell contains an initial set up.\n",
        "\n",
        "*Source: Prof. Tom Beucler's notebooks</a>.*"
      ],
      "metadata": {
        "id": "17koC-OkxyMk"
      }
    },
    {
      "cell_type": "code",
      "source": [
        "# Python ≥3.5 is required\n",
        "import sys\n",
        "assert sys.version_info >= (3, 5)\n",
        "\n",
        "# Is this notebook running on Colab or Kaggle?\n",
        "IS_COLAB = \"google.colab\" in sys.modules\n",
        "\n",
        "# Scikit-Learn ≥0.20 is required\n",
        "import sklearn\n",
        "assert sklearn.__version__ >= \"0.20\"\n",
        "\n",
        "# Common imports\n",
        "import numpy as np\n",
        "import os\n",
        "\n",
        "# to make this notebook's output stable across runs\n",
        "rnd_seed = 42\n",
        "rnd_gen = np.random.default_rng(rnd_seed)\n",
        "\n",
        "# To plot pretty figures\n",
        "%matplotlib inline\n",
        "import matplotlib as mpl\n",
        "import matplotlib.pyplot as plt\n",
        "mpl.rc('axes', labelsize=14)\n",
        "mpl.rc('xtick', labelsize=12)\n",
        "mpl.rc('ytick', labelsize=12)\n",
        "\n",
        "# Where to save the figures\n",
        "PROJECT_ROOT_DIR = \".\"\n",
        "CHAPTER_ID = \"classification\"\n",
        "IMAGES_PATH = os.path.join(PROJECT_ROOT_DIR, \"images\", CHAPTER_ID)\n",
        "os.makedirs(IMAGES_PATH, exist_ok=True)\n",
        "\n",
        "def save_fig(fig_id, tight_layout=True, fig_extension=\"png\", resolution=300):\n",
        "    path = os.path.join(IMAGES_PATH, fig_id + \".\" + fig_extension)\n",
        "    print(\"Saving figure\", fig_id)\n",
        "    if tight_layout:\n",
        "        plt.tight_layout()\n",
        "    plt.savefig(path, format=fig_extension, dpi=resolution)"
      ],
      "metadata": {
        "id": "o2cRYW4-cM1v"
      },
      "execution_count": null,
      "outputs": []
    },
    {
      "cell_type": "markdown",
      "source": [
        "The necessary dataset is stored on Google Drive. The next cells allow the data to be retrieved and loaded into the notebook.\n",
        "\n",
        "*Source: <a href=\"https://sigmundojr.medium.com/how-do-i-read-a-csv-file-from-google-drive-using-python-colab-966091922852\">Sigmundo Preissler Jr, PhD</a>.*"
      ],
      "metadata": {
        "id": "WEBjPc6zx60e"
      }
    },
    {
      "cell_type": "markdown",
      "source": [
        "Installation of required imports:"
      ],
      "metadata": {
        "id": "ALh5Ey53Snj3"
      }
    },
    {
      "cell_type": "code",
      "source": [
        "!pip install -U -q PyDrive\n",
        "from pydrive.auth import GoogleAuth\n",
        "from pydrive.drive import GoogleDrive\n",
        "from google.colab import auth\n",
        "from oauth2client.client import GoogleCredentials"
      ],
      "metadata": {
        "id": "1Vk8FLVQpYBV"
      },
      "execution_count": null,
      "outputs": []
    },
    {
      "cell_type": "markdown",
      "source": [
        "Authentication with Google account (when a window opens -> allow):"
      ],
      "metadata": {
        "id": "xmnS4Lw_S3hb"
      }
    },
    {
      "cell_type": "code",
      "source": [
        "auth.authenticate_user()\n",
        "gauth = GoogleAuth()\n",
        "gauth.credentials = GoogleCredentials.get_application_default()\n",
        "drive = GoogleDrive(gauth)"
      ],
      "metadata": {
        "id": "DJeHFud4pYD2"
      },
      "execution_count": null,
      "outputs": []
    },
    {
      "cell_type": "markdown",
      "source": [
        "Creation of the file and import of .csv data file:"
      ],
      "metadata": {
        "id": "XjkX8vIbTDoQ"
      }
    },
    {
      "cell_type": "code",
      "source": [
        "fileDownloaded = drive.CreateFile({'id':'1VtBalvWeWV2WtEPf5M19XP8sSnxAG135'})\n",
        "fileDownloaded.GetContentFile('LS_good_5m_pro.csv')"
      ],
      "metadata": {
        "id": "mPEtkBfFpYGM"
      },
      "execution_count": null,
      "outputs": []
    },
    {
      "cell_type": "markdown",
      "source": [
        "Generation of Pandas dataframe:"
      ],
      "metadata": {
        "id": "6y9qHhqJTRKa"
      }
    },
    {
      "cell_type": "code",
      "source": [
        "import pandas as pd\n",
        "###\n",
        "vardf = pd.read_csv('LS_good_5m_pro.csv', delimiter=',')"
      ],
      "metadata": {
        "id": "bVi_czsaum0y"
      },
      "execution_count": null,
      "outputs": []
    },
    {
      "cell_type": "markdown",
      "source": [
        "Finally, it's possible to create a geodataframe for the imported file (with Geopandas).\n",
        "\n",
        "*Code adapted from: Prof. Tom Beucler's notebooks</a>.*"
      ],
      "metadata": {
        "id": "Cc-mmqS5y3Em"
      }
    },
    {
      "cell_type": "code",
      "source": [
        "%pip install geopandas\n",
        "import geopandas as gpd #necessary import"
      ],
      "metadata": {
        "id": "Vq4TCenbltSY"
      },
      "execution_count": null,
      "outputs": []
    },
    {
      "cell_type": "code",
      "source": [
        "#Coordinates are already in the imported dataset\n",
        "vardf = gpd.GeoDataFrame(vardf,\n",
        "                      geometry=gpd.points_from_xy(np.float64(vardf.x), \n",
        "                                                  np.float64(vardf.y)))\n",
        "vardf.head()"
      ],
      "metadata": {
        "colab": {
          "base_uri": "https://localhost:8080/",
          "height": 206
        },
        "id": "izNeIFkQunVa",
        "outputId": "910f127e-401e-488d-c954-c4aee5b6f0f2"
      },
      "execution_count": null,
      "outputs": [
        {
          "output_type": "execute_result",
          "data": {
            "text/plain": [
              "          x         y  GSS         DEM      slope  planCurv  profCurv  \\\n",
              "0  567895.5  200099.5    1  437.746155   8.737924 -0.000748  0.012272   \n",
              "1  568095.5  200079.5    1  451.840485  10.511221  0.039531 -0.080413   \n",
              "2  567905.5  200044.5    1  459.606934  23.602930  0.020892 -0.144569   \n",
              "3  567950.5  200029.5    1  458.156433  13.160677  0.040629 -0.046540   \n",
              "4  567800.5  199999.5    1  460.311768  20.403830 -0.005813 -0.020053   \n",
              "\n",
              "     distRoad  landCover       TWI  geology                       geometry  \n",
              "0  145.000000         21  7.799716       24  POINT (567895.500 200099.500)  \n",
              "1    5.000000         11  4.903382       24  POINT (568095.500 200079.500)  \n",
              "2   98.994949         15  4.046845       24  POINT (567905.500 200044.500)  \n",
              "3   56.568542         15  5.365241       24  POINT (567950.500 200029.500)  \n",
              "4  138.654251         21  5.817281       24  POINT (567800.500 199999.500)  "
            ],
            "text/html": [
              "\n",
              "  <div id=\"df-f7c22f38-3471-4019-99fd-b4671660b537\">\n",
              "    <div class=\"colab-df-container\">\n",
              "      <div>\n",
              "<style scoped>\n",
              "    .dataframe tbody tr th:only-of-type {\n",
              "        vertical-align: middle;\n",
              "    }\n",
              "\n",
              "    .dataframe tbody tr th {\n",
              "        vertical-align: top;\n",
              "    }\n",
              "\n",
              "    .dataframe thead th {\n",
              "        text-align: right;\n",
              "    }\n",
              "</style>\n",
              "<table border=\"1\" class=\"dataframe\">\n",
              "  <thead>\n",
              "    <tr style=\"text-align: right;\">\n",
              "      <th></th>\n",
              "      <th>x</th>\n",
              "      <th>y</th>\n",
              "      <th>GSS</th>\n",
              "      <th>DEM</th>\n",
              "      <th>slope</th>\n",
              "      <th>planCurv</th>\n",
              "      <th>profCurv</th>\n",
              "      <th>distRoad</th>\n",
              "      <th>landCover</th>\n",
              "      <th>TWI</th>\n",
              "      <th>geology</th>\n",
              "      <th>geometry</th>\n",
              "    </tr>\n",
              "  </thead>\n",
              "  <tbody>\n",
              "    <tr>\n",
              "      <th>0</th>\n",
              "      <td>567895.5</td>\n",
              "      <td>200099.5</td>\n",
              "      <td>1</td>\n",
              "      <td>437.746155</td>\n",
              "      <td>8.737924</td>\n",
              "      <td>-0.000748</td>\n",
              "      <td>0.012272</td>\n",
              "      <td>145.000000</td>\n",
              "      <td>21</td>\n",
              "      <td>7.799716</td>\n",
              "      <td>24</td>\n",
              "      <td>POINT (567895.500 200099.500)</td>\n",
              "    </tr>\n",
              "    <tr>\n",
              "      <th>1</th>\n",
              "      <td>568095.5</td>\n",
              "      <td>200079.5</td>\n",
              "      <td>1</td>\n",
              "      <td>451.840485</td>\n",
              "      <td>10.511221</td>\n",
              "      <td>0.039531</td>\n",
              "      <td>-0.080413</td>\n",
              "      <td>5.000000</td>\n",
              "      <td>11</td>\n",
              "      <td>4.903382</td>\n",
              "      <td>24</td>\n",
              "      <td>POINT (568095.500 200079.500)</td>\n",
              "    </tr>\n",
              "    <tr>\n",
              "      <th>2</th>\n",
              "      <td>567905.5</td>\n",
              "      <td>200044.5</td>\n",
              "      <td>1</td>\n",
              "      <td>459.606934</td>\n",
              "      <td>23.602930</td>\n",
              "      <td>0.020892</td>\n",
              "      <td>-0.144569</td>\n",
              "      <td>98.994949</td>\n",
              "      <td>15</td>\n",
              "      <td>4.046845</td>\n",
              "      <td>24</td>\n",
              "      <td>POINT (567905.500 200044.500)</td>\n",
              "    </tr>\n",
              "    <tr>\n",
              "      <th>3</th>\n",
              "      <td>567950.5</td>\n",
              "      <td>200029.5</td>\n",
              "      <td>1</td>\n",
              "      <td>458.156433</td>\n",
              "      <td>13.160677</td>\n",
              "      <td>0.040629</td>\n",
              "      <td>-0.046540</td>\n",
              "      <td>56.568542</td>\n",
              "      <td>15</td>\n",
              "      <td>5.365241</td>\n",
              "      <td>24</td>\n",
              "      <td>POINT (567950.500 200029.500)</td>\n",
              "    </tr>\n",
              "    <tr>\n",
              "      <th>4</th>\n",
              "      <td>567800.5</td>\n",
              "      <td>199999.5</td>\n",
              "      <td>1</td>\n",
              "      <td>460.311768</td>\n",
              "      <td>20.403830</td>\n",
              "      <td>-0.005813</td>\n",
              "      <td>-0.020053</td>\n",
              "      <td>138.654251</td>\n",
              "      <td>21</td>\n",
              "      <td>5.817281</td>\n",
              "      <td>24</td>\n",
              "      <td>POINT (567800.500 199999.500)</td>\n",
              "    </tr>\n",
              "  </tbody>\n",
              "</table>\n",
              "</div>\n",
              "      <button class=\"colab-df-convert\" onclick=\"convertToInteractive('df-f7c22f38-3471-4019-99fd-b4671660b537')\"\n",
              "              title=\"Convert this dataframe to an interactive table.\"\n",
              "              style=\"display:none;\">\n",
              "        \n",
              "  <svg xmlns=\"http://www.w3.org/2000/svg\" height=\"24px\"viewBox=\"0 0 24 24\"\n",
              "       width=\"24px\">\n",
              "    <path d=\"M0 0h24v24H0V0z\" fill=\"none\"/>\n",
              "    <path d=\"M18.56 5.44l.94 2.06.94-2.06 2.06-.94-2.06-.94-.94-2.06-.94 2.06-2.06.94zm-11 1L8.5 8.5l.94-2.06 2.06-.94-2.06-.94L8.5 2.5l-.94 2.06-2.06.94zm10 10l.94 2.06.94-2.06 2.06-.94-2.06-.94-.94-2.06-.94 2.06-2.06.94z\"/><path d=\"M17.41 7.96l-1.37-1.37c-.4-.4-.92-.59-1.43-.59-.52 0-1.04.2-1.43.59L10.3 9.45l-7.72 7.72c-.78.78-.78 2.05 0 2.83L4 21.41c.39.39.9.59 1.41.59.51 0 1.02-.2 1.41-.59l7.78-7.78 2.81-2.81c.8-.78.8-2.07 0-2.86zM5.41 20L4 18.59l7.72-7.72 1.47 1.35L5.41 20z\"/>\n",
              "  </svg>\n",
              "      </button>\n",
              "      \n",
              "  <style>\n",
              "    .colab-df-container {\n",
              "      display:flex;\n",
              "      flex-wrap:wrap;\n",
              "      gap: 12px;\n",
              "    }\n",
              "\n",
              "    .colab-df-convert {\n",
              "      background-color: #E8F0FE;\n",
              "      border: none;\n",
              "      border-radius: 50%;\n",
              "      cursor: pointer;\n",
              "      display: none;\n",
              "      fill: #1967D2;\n",
              "      height: 32px;\n",
              "      padding: 0 0 0 0;\n",
              "      width: 32px;\n",
              "    }\n",
              "\n",
              "    .colab-df-convert:hover {\n",
              "      background-color: #E2EBFA;\n",
              "      box-shadow: 0px 1px 2px rgba(60, 64, 67, 0.3), 0px 1px 3px 1px rgba(60, 64, 67, 0.15);\n",
              "      fill: #174EA6;\n",
              "    }\n",
              "\n",
              "    [theme=dark] .colab-df-convert {\n",
              "      background-color: #3B4455;\n",
              "      fill: #D2E3FC;\n",
              "    }\n",
              "\n",
              "    [theme=dark] .colab-df-convert:hover {\n",
              "      background-color: #434B5C;\n",
              "      box-shadow: 0px 1px 3px 1px rgba(0, 0, 0, 0.15);\n",
              "      filter: drop-shadow(0px 1px 2px rgba(0, 0, 0, 0.3));\n",
              "      fill: #FFFFFF;\n",
              "    }\n",
              "  </style>\n",
              "\n",
              "      <script>\n",
              "        const buttonEl =\n",
              "          document.querySelector('#df-f7c22f38-3471-4019-99fd-b4671660b537 button.colab-df-convert');\n",
              "        buttonEl.style.display =\n",
              "          google.colab.kernel.accessAllowed ? 'block' : 'none';\n",
              "\n",
              "        async function convertToInteractive(key) {\n",
              "          const element = document.querySelector('#df-f7c22f38-3471-4019-99fd-b4671660b537');\n",
              "          const dataTable =\n",
              "            await google.colab.kernel.invokeFunction('convertToInteractive',\n",
              "                                                     [key], {});\n",
              "          if (!dataTable) return;\n",
              "\n",
              "          const docLinkHtml = 'Like what you see? Visit the ' +\n",
              "            '<a target=\"_blank\" href=https://colab.research.google.com/notebooks/data_table.ipynb>data table notebook</a>'\n",
              "            + ' to learn more about interactive tables.';\n",
              "          element.innerHTML = '';\n",
              "          dataTable['output_type'] = 'display_data';\n",
              "          await google.colab.output.renderOutput(dataTable, element);\n",
              "          const docLink = document.createElement('div');\n",
              "          docLink.innerHTML = docLinkHtml;\n",
              "          element.appendChild(docLink);\n",
              "        }\n",
              "      </script>\n",
              "    </div>\n",
              "  </div>\n",
              "  "
            ]
          },
          "metadata": {},
          "execution_count": 7
        }
      ]
    },
    {
      "cell_type": "markdown",
      "source": [
        "## Part II: Preprocessing"
      ],
      "metadata": {
        "id": "Fa9YT8XjUGC1"
      }
    },
    {
      "cell_type": "markdown",
      "source": [
        "The table is checked to delete eventual NaN data:"
      ],
      "metadata": {
        "id": "nzo1AMj3bAqE"
      }
    },
    {
      "cell_type": "code",
      "source": [
        "vardf.dropna()\n",
        "vardf.head()\n",
        "#No NaN data found"
      ],
      "metadata": {
        "id": "yMh4DLFucqcy",
        "colab": {
          "base_uri": "https://localhost:8080/",
          "height": 206
        },
        "outputId": "fce7edca-4dc1-4c01-f05d-ea90d6bca072"
      },
      "execution_count": null,
      "outputs": [
        {
          "output_type": "execute_result",
          "data": {
            "text/plain": [
              "          x         y  GSS         DEM      slope  planCurv  profCurv  \\\n",
              "0  567895.5  200099.5    1  437.746155   8.737924 -0.000748  0.012272   \n",
              "1  568095.5  200079.5    1  451.840485  10.511221  0.039531 -0.080413   \n",
              "2  567905.5  200044.5    1  459.606934  23.602930  0.020892 -0.144569   \n",
              "3  567950.5  200029.5    1  458.156433  13.160677  0.040629 -0.046540   \n",
              "4  567800.5  199999.5    1  460.311768  20.403830 -0.005813 -0.020053   \n",
              "\n",
              "     distRoad  landCover       TWI  geology                       geometry  \n",
              "0  145.000000         21  7.799716       24  POINT (567895.500 200099.500)  \n",
              "1    5.000000         11  4.903382       24  POINT (568095.500 200079.500)  \n",
              "2   98.994949         15  4.046845       24  POINT (567905.500 200044.500)  \n",
              "3   56.568542         15  5.365241       24  POINT (567950.500 200029.500)  \n",
              "4  138.654251         21  5.817281       24  POINT (567800.500 199999.500)  "
            ],
            "text/html": [
              "\n",
              "  <div id=\"df-bff202a6-88f9-44be-b94f-c57e8156bf59\">\n",
              "    <div class=\"colab-df-container\">\n",
              "      <div>\n",
              "<style scoped>\n",
              "    .dataframe tbody tr th:only-of-type {\n",
              "        vertical-align: middle;\n",
              "    }\n",
              "\n",
              "    .dataframe tbody tr th {\n",
              "        vertical-align: top;\n",
              "    }\n",
              "\n",
              "    .dataframe thead th {\n",
              "        text-align: right;\n",
              "    }\n",
              "</style>\n",
              "<table border=\"1\" class=\"dataframe\">\n",
              "  <thead>\n",
              "    <tr style=\"text-align: right;\">\n",
              "      <th></th>\n",
              "      <th>x</th>\n",
              "      <th>y</th>\n",
              "      <th>GSS</th>\n",
              "      <th>DEM</th>\n",
              "      <th>slope</th>\n",
              "      <th>planCurv</th>\n",
              "      <th>profCurv</th>\n",
              "      <th>distRoad</th>\n",
              "      <th>landCover</th>\n",
              "      <th>TWI</th>\n",
              "      <th>geology</th>\n",
              "      <th>geometry</th>\n",
              "    </tr>\n",
              "  </thead>\n",
              "  <tbody>\n",
              "    <tr>\n",
              "      <th>0</th>\n",
              "      <td>567895.5</td>\n",
              "      <td>200099.5</td>\n",
              "      <td>1</td>\n",
              "      <td>437.746155</td>\n",
              "      <td>8.737924</td>\n",
              "      <td>-0.000748</td>\n",
              "      <td>0.012272</td>\n",
              "      <td>145.000000</td>\n",
              "      <td>21</td>\n",
              "      <td>7.799716</td>\n",
              "      <td>24</td>\n",
              "      <td>POINT (567895.500 200099.500)</td>\n",
              "    </tr>\n",
              "    <tr>\n",
              "      <th>1</th>\n",
              "      <td>568095.5</td>\n",
              "      <td>200079.5</td>\n",
              "      <td>1</td>\n",
              "      <td>451.840485</td>\n",
              "      <td>10.511221</td>\n",
              "      <td>0.039531</td>\n",
              "      <td>-0.080413</td>\n",
              "      <td>5.000000</td>\n",
              "      <td>11</td>\n",
              "      <td>4.903382</td>\n",
              "      <td>24</td>\n",
              "      <td>POINT (568095.500 200079.500)</td>\n",
              "    </tr>\n",
              "    <tr>\n",
              "      <th>2</th>\n",
              "      <td>567905.5</td>\n",
              "      <td>200044.5</td>\n",
              "      <td>1</td>\n",
              "      <td>459.606934</td>\n",
              "      <td>23.602930</td>\n",
              "      <td>0.020892</td>\n",
              "      <td>-0.144569</td>\n",
              "      <td>98.994949</td>\n",
              "      <td>15</td>\n",
              "      <td>4.046845</td>\n",
              "      <td>24</td>\n",
              "      <td>POINT (567905.500 200044.500)</td>\n",
              "    </tr>\n",
              "    <tr>\n",
              "      <th>3</th>\n",
              "      <td>567950.5</td>\n",
              "      <td>200029.5</td>\n",
              "      <td>1</td>\n",
              "      <td>458.156433</td>\n",
              "      <td>13.160677</td>\n",
              "      <td>0.040629</td>\n",
              "      <td>-0.046540</td>\n",
              "      <td>56.568542</td>\n",
              "      <td>15</td>\n",
              "      <td>5.365241</td>\n",
              "      <td>24</td>\n",
              "      <td>POINT (567950.500 200029.500)</td>\n",
              "    </tr>\n",
              "    <tr>\n",
              "      <th>4</th>\n",
              "      <td>567800.5</td>\n",
              "      <td>199999.5</td>\n",
              "      <td>1</td>\n",
              "      <td>460.311768</td>\n",
              "      <td>20.403830</td>\n",
              "      <td>-0.005813</td>\n",
              "      <td>-0.020053</td>\n",
              "      <td>138.654251</td>\n",
              "      <td>21</td>\n",
              "      <td>5.817281</td>\n",
              "      <td>24</td>\n",
              "      <td>POINT (567800.500 199999.500)</td>\n",
              "    </tr>\n",
              "  </tbody>\n",
              "</table>\n",
              "</div>\n",
              "      <button class=\"colab-df-convert\" onclick=\"convertToInteractive('df-bff202a6-88f9-44be-b94f-c57e8156bf59')\"\n",
              "              title=\"Convert this dataframe to an interactive table.\"\n",
              "              style=\"display:none;\">\n",
              "        \n",
              "  <svg xmlns=\"http://www.w3.org/2000/svg\" height=\"24px\"viewBox=\"0 0 24 24\"\n",
              "       width=\"24px\">\n",
              "    <path d=\"M0 0h24v24H0V0z\" fill=\"none\"/>\n",
              "    <path d=\"M18.56 5.44l.94 2.06.94-2.06 2.06-.94-2.06-.94-.94-2.06-.94 2.06-2.06.94zm-11 1L8.5 8.5l.94-2.06 2.06-.94-2.06-.94L8.5 2.5l-.94 2.06-2.06.94zm10 10l.94 2.06.94-2.06 2.06-.94-2.06-.94-.94-2.06-.94 2.06-2.06.94z\"/><path d=\"M17.41 7.96l-1.37-1.37c-.4-.4-.92-.59-1.43-.59-.52 0-1.04.2-1.43.59L10.3 9.45l-7.72 7.72c-.78.78-.78 2.05 0 2.83L4 21.41c.39.39.9.59 1.41.59.51 0 1.02-.2 1.41-.59l7.78-7.78 2.81-2.81c.8-.78.8-2.07 0-2.86zM5.41 20L4 18.59l7.72-7.72 1.47 1.35L5.41 20z\"/>\n",
              "  </svg>\n",
              "      </button>\n",
              "      \n",
              "  <style>\n",
              "    .colab-df-container {\n",
              "      display:flex;\n",
              "      flex-wrap:wrap;\n",
              "      gap: 12px;\n",
              "    }\n",
              "\n",
              "    .colab-df-convert {\n",
              "      background-color: #E8F0FE;\n",
              "      border: none;\n",
              "      border-radius: 50%;\n",
              "      cursor: pointer;\n",
              "      display: none;\n",
              "      fill: #1967D2;\n",
              "      height: 32px;\n",
              "      padding: 0 0 0 0;\n",
              "      width: 32px;\n",
              "    }\n",
              "\n",
              "    .colab-df-convert:hover {\n",
              "      background-color: #E2EBFA;\n",
              "      box-shadow: 0px 1px 2px rgba(60, 64, 67, 0.3), 0px 1px 3px 1px rgba(60, 64, 67, 0.15);\n",
              "      fill: #174EA6;\n",
              "    }\n",
              "\n",
              "    [theme=dark] .colab-df-convert {\n",
              "      background-color: #3B4455;\n",
              "      fill: #D2E3FC;\n",
              "    }\n",
              "\n",
              "    [theme=dark] .colab-df-convert:hover {\n",
              "      background-color: #434B5C;\n",
              "      box-shadow: 0px 1px 3px 1px rgba(0, 0, 0, 0.15);\n",
              "      filter: drop-shadow(0px 1px 2px rgba(0, 0, 0, 0.3));\n",
              "      fill: #FFFFFF;\n",
              "    }\n",
              "  </style>\n",
              "\n",
              "      <script>\n",
              "        const buttonEl =\n",
              "          document.querySelector('#df-bff202a6-88f9-44be-b94f-c57e8156bf59 button.colab-df-convert');\n",
              "        buttonEl.style.display =\n",
              "          google.colab.kernel.accessAllowed ? 'block' : 'none';\n",
              "\n",
              "        async function convertToInteractive(key) {\n",
              "          const element = document.querySelector('#df-bff202a6-88f9-44be-b94f-c57e8156bf59');\n",
              "          const dataTable =\n",
              "            await google.colab.kernel.invokeFunction('convertToInteractive',\n",
              "                                                     [key], {});\n",
              "          if (!dataTable) return;\n",
              "\n",
              "          const docLinkHtml = 'Like what you see? Visit the ' +\n",
              "            '<a target=\"_blank\" href=https://colab.research.google.com/notebooks/data_table.ipynb>data table notebook</a>'\n",
              "            + ' to learn more about interactive tables.';\n",
              "          element.innerHTML = '';\n",
              "          dataTable['output_type'] = 'display_data';\n",
              "          await google.colab.output.renderOutput(dataTable, element);\n",
              "          const docLink = document.createElement('div');\n",
              "          docLink.innerHTML = docLinkHtml;\n",
              "          element.appendChild(docLink);\n",
              "        }\n",
              "      </script>\n",
              "    </div>\n",
              "  </div>\n",
              "  "
            ]
          },
          "metadata": {},
          "execution_count": 8
        }
      ]
    },
    {
      "cell_type": "markdown",
      "source": [
        "In this section two tables are created: one with predictive variables (independent variables) and one with the landslide absence/presence (dependent variable).\n",
        "\n",
        "For the first table, the 8 predictor variables are selected and put into a geodataframe:\n",
        "\n",
        "DEM -> Digital Elevation Model (m a.s.l)\n",
        "\n",
        "Slope -> Slope (°)\n",
        "\n",
        "Plan Curvature -> Surface curvature perpendicular to the direction of the maximum slope\n",
        "\n",
        "Profile Curvature -> Surface curvature parallel to the direction of the maximum slope\n",
        "\n",
        "Distance from Roads -> Distance (m) from main and secondary roads\n",
        "\n",
        "Land Cover -> Physical material at the surface (like grass, concrete, trees, water, etc)\n",
        "\n",
        "TWI -> Topographic Wetness Index: (ln(a/tan(b))) where a = upslope area draining through a certain point, and tan(b) = slope in radians\n",
        "\n",
        "Geology classes -> Lithology classes"
      ],
      "metadata": {
        "id": "DcFu0TAhVd8p"
      }
    },
    {
      "cell_type": "code",
      "source": [
        "DEM = vardf.DEM #Digital Elevation Model\n",
        "slope = vardf.slope #Slope\n",
        "planCurv = vardf.planCurv #Plan Curvature\n",
        "profCurv = vardf.profCurv #Profile Curvature\n",
        "distRoad = vardf.distRoad #Distance from Roads\n",
        "landCover = vardf.landCover #Land Cover\n",
        "TWI = vardf.TWI #Topographic Wetness Index\n",
        "geology = vardf.geology #Lithology Class"
      ],
      "metadata": {
        "id": "toZTDmlRCwXl"
      },
      "execution_count": null,
      "outputs": []
    },
    {
      "cell_type": "code",
      "source": [
        "input_data = gpd.GeoDataFrame({'DEM':DEM, 'slope':slope, 'planCurv':planCurv, 'profCurv':profCurv, 'distRoad':distRoad, 'landCover':landCover, 'TWI':TWI, 'geology':geology})\n",
        "input_data #table with independent variables"
      ],
      "metadata": {
        "colab": {
          "base_uri": "https://localhost:8080/",
          "height": 424
        },
        "id": "uVyGDpP4Cwa3",
        "outputId": "169cfe8f-767b-4e9e-f924-cdccb72ea907"
      },
      "execution_count": null,
      "outputs": [
        {
          "output_type": "execute_result",
          "data": {
            "text/plain": [
              "              DEM      slope  planCurv  profCurv     distRoad  landCover  \\\n",
              "0      437.746155   8.737924 -0.000748  0.012272   145.000000         21   \n",
              "1      451.840485  10.511221  0.039531 -0.080413     5.000000         11   \n",
              "2      459.606934  23.602930  0.020892 -0.144569    98.994949         15   \n",
              "3      458.156433  13.160677  0.040629 -0.046540    56.568542         15   \n",
              "4      460.311768  20.403830 -0.005813 -0.020053   138.654251         21   \n",
              "...           ...        ...       ...       ...          ...        ...   \n",
              "5183   451.893799   1.660977 -0.005359  0.001711   241.298569         21   \n",
              "5184  2197.191650  25.800716  0.093662 -0.004219  1674.820923         51   \n",
              "5185   628.142700  37.131775 -0.026372  0.002024   189.274933         41   \n",
              "5186   445.515076   0.898599  0.003541 -0.002232    98.615417         15   \n",
              "5187   697.954895   4.837874  0.004376 -0.004313   494.191254         21   \n",
              "\n",
              "            TWI  geology  \n",
              "0      7.799716       24  \n",
              "1      4.903382       24  \n",
              "2      4.046845       24  \n",
              "3      5.365241       24  \n",
              "4      5.817281       24  \n",
              "...         ...      ...  \n",
              "5183  12.846220        1  \n",
              "5184   3.945750        7  \n",
              "5185   4.883382        1  \n",
              "5186   9.319879        9  \n",
              "5187   9.122264        1  \n",
              "\n",
              "[5188 rows x 8 columns]"
            ],
            "text/html": [
              "\n",
              "  <div id=\"df-92ea0d56-7a82-4d3b-9104-3a0bf431bbf6\">\n",
              "    <div class=\"colab-df-container\">\n",
              "      <div>\n",
              "<style scoped>\n",
              "    .dataframe tbody tr th:only-of-type {\n",
              "        vertical-align: middle;\n",
              "    }\n",
              "\n",
              "    .dataframe tbody tr th {\n",
              "        vertical-align: top;\n",
              "    }\n",
              "\n",
              "    .dataframe thead th {\n",
              "        text-align: right;\n",
              "    }\n",
              "</style>\n",
              "<table border=\"1\" class=\"dataframe\">\n",
              "  <thead>\n",
              "    <tr style=\"text-align: right;\">\n",
              "      <th></th>\n",
              "      <th>DEM</th>\n",
              "      <th>slope</th>\n",
              "      <th>planCurv</th>\n",
              "      <th>profCurv</th>\n",
              "      <th>distRoad</th>\n",
              "      <th>landCover</th>\n",
              "      <th>TWI</th>\n",
              "      <th>geology</th>\n",
              "    </tr>\n",
              "  </thead>\n",
              "  <tbody>\n",
              "    <tr>\n",
              "      <th>0</th>\n",
              "      <td>437.746155</td>\n",
              "      <td>8.737924</td>\n",
              "      <td>-0.000748</td>\n",
              "      <td>0.012272</td>\n",
              "      <td>145.000000</td>\n",
              "      <td>21</td>\n",
              "      <td>7.799716</td>\n",
              "      <td>24</td>\n",
              "    </tr>\n",
              "    <tr>\n",
              "      <th>1</th>\n",
              "      <td>451.840485</td>\n",
              "      <td>10.511221</td>\n",
              "      <td>0.039531</td>\n",
              "      <td>-0.080413</td>\n",
              "      <td>5.000000</td>\n",
              "      <td>11</td>\n",
              "      <td>4.903382</td>\n",
              "      <td>24</td>\n",
              "    </tr>\n",
              "    <tr>\n",
              "      <th>2</th>\n",
              "      <td>459.606934</td>\n",
              "      <td>23.602930</td>\n",
              "      <td>0.020892</td>\n",
              "      <td>-0.144569</td>\n",
              "      <td>98.994949</td>\n",
              "      <td>15</td>\n",
              "      <td>4.046845</td>\n",
              "      <td>24</td>\n",
              "    </tr>\n",
              "    <tr>\n",
              "      <th>3</th>\n",
              "      <td>458.156433</td>\n",
              "      <td>13.160677</td>\n",
              "      <td>0.040629</td>\n",
              "      <td>-0.046540</td>\n",
              "      <td>56.568542</td>\n",
              "      <td>15</td>\n",
              "      <td>5.365241</td>\n",
              "      <td>24</td>\n",
              "    </tr>\n",
              "    <tr>\n",
              "      <th>4</th>\n",
              "      <td>460.311768</td>\n",
              "      <td>20.403830</td>\n",
              "      <td>-0.005813</td>\n",
              "      <td>-0.020053</td>\n",
              "      <td>138.654251</td>\n",
              "      <td>21</td>\n",
              "      <td>5.817281</td>\n",
              "      <td>24</td>\n",
              "    </tr>\n",
              "    <tr>\n",
              "      <th>...</th>\n",
              "      <td>...</td>\n",
              "      <td>...</td>\n",
              "      <td>...</td>\n",
              "      <td>...</td>\n",
              "      <td>...</td>\n",
              "      <td>...</td>\n",
              "      <td>...</td>\n",
              "      <td>...</td>\n",
              "    </tr>\n",
              "    <tr>\n",
              "      <th>5183</th>\n",
              "      <td>451.893799</td>\n",
              "      <td>1.660977</td>\n",
              "      <td>-0.005359</td>\n",
              "      <td>0.001711</td>\n",
              "      <td>241.298569</td>\n",
              "      <td>21</td>\n",
              "      <td>12.846220</td>\n",
              "      <td>1</td>\n",
              "    </tr>\n",
              "    <tr>\n",
              "      <th>5184</th>\n",
              "      <td>2197.191650</td>\n",
              "      <td>25.800716</td>\n",
              "      <td>0.093662</td>\n",
              "      <td>-0.004219</td>\n",
              "      <td>1674.820923</td>\n",
              "      <td>51</td>\n",
              "      <td>3.945750</td>\n",
              "      <td>7</td>\n",
              "    </tr>\n",
              "    <tr>\n",
              "      <th>5185</th>\n",
              "      <td>628.142700</td>\n",
              "      <td>37.131775</td>\n",
              "      <td>-0.026372</td>\n",
              "      <td>0.002024</td>\n",
              "      <td>189.274933</td>\n",
              "      <td>41</td>\n",
              "      <td>4.883382</td>\n",
              "      <td>1</td>\n",
              "    </tr>\n",
              "    <tr>\n",
              "      <th>5186</th>\n",
              "      <td>445.515076</td>\n",
              "      <td>0.898599</td>\n",
              "      <td>0.003541</td>\n",
              "      <td>-0.002232</td>\n",
              "      <td>98.615417</td>\n",
              "      <td>15</td>\n",
              "      <td>9.319879</td>\n",
              "      <td>9</td>\n",
              "    </tr>\n",
              "    <tr>\n",
              "      <th>5187</th>\n",
              "      <td>697.954895</td>\n",
              "      <td>4.837874</td>\n",
              "      <td>0.004376</td>\n",
              "      <td>-0.004313</td>\n",
              "      <td>494.191254</td>\n",
              "      <td>21</td>\n",
              "      <td>9.122264</td>\n",
              "      <td>1</td>\n",
              "    </tr>\n",
              "  </tbody>\n",
              "</table>\n",
              "<p>5188 rows × 8 columns</p>\n",
              "</div>\n",
              "      <button class=\"colab-df-convert\" onclick=\"convertToInteractive('df-92ea0d56-7a82-4d3b-9104-3a0bf431bbf6')\"\n",
              "              title=\"Convert this dataframe to an interactive table.\"\n",
              "              style=\"display:none;\">\n",
              "        \n",
              "  <svg xmlns=\"http://www.w3.org/2000/svg\" height=\"24px\"viewBox=\"0 0 24 24\"\n",
              "       width=\"24px\">\n",
              "    <path d=\"M0 0h24v24H0V0z\" fill=\"none\"/>\n",
              "    <path d=\"M18.56 5.44l.94 2.06.94-2.06 2.06-.94-2.06-.94-.94-2.06-.94 2.06-2.06.94zm-11 1L8.5 8.5l.94-2.06 2.06-.94-2.06-.94L8.5 2.5l-.94 2.06-2.06.94zm10 10l.94 2.06.94-2.06 2.06-.94-2.06-.94-.94-2.06-.94 2.06-2.06.94z\"/><path d=\"M17.41 7.96l-1.37-1.37c-.4-.4-.92-.59-1.43-.59-.52 0-1.04.2-1.43.59L10.3 9.45l-7.72 7.72c-.78.78-.78 2.05 0 2.83L4 21.41c.39.39.9.59 1.41.59.51 0 1.02-.2 1.41-.59l7.78-7.78 2.81-2.81c.8-.78.8-2.07 0-2.86zM5.41 20L4 18.59l7.72-7.72 1.47 1.35L5.41 20z\"/>\n",
              "  </svg>\n",
              "      </button>\n",
              "      \n",
              "  <style>\n",
              "    .colab-df-container {\n",
              "      display:flex;\n",
              "      flex-wrap:wrap;\n",
              "      gap: 12px;\n",
              "    }\n",
              "\n",
              "    .colab-df-convert {\n",
              "      background-color: #E8F0FE;\n",
              "      border: none;\n",
              "      border-radius: 50%;\n",
              "      cursor: pointer;\n",
              "      display: none;\n",
              "      fill: #1967D2;\n",
              "      height: 32px;\n",
              "      padding: 0 0 0 0;\n",
              "      width: 32px;\n",
              "    }\n",
              "\n",
              "    .colab-df-convert:hover {\n",
              "      background-color: #E2EBFA;\n",
              "      box-shadow: 0px 1px 2px rgba(60, 64, 67, 0.3), 0px 1px 3px 1px rgba(60, 64, 67, 0.15);\n",
              "      fill: #174EA6;\n",
              "    }\n",
              "\n",
              "    [theme=dark] .colab-df-convert {\n",
              "      background-color: #3B4455;\n",
              "      fill: #D2E3FC;\n",
              "    }\n",
              "\n",
              "    [theme=dark] .colab-df-convert:hover {\n",
              "      background-color: #434B5C;\n",
              "      box-shadow: 0px 1px 3px 1px rgba(0, 0, 0, 0.15);\n",
              "      filter: drop-shadow(0px 1px 2px rgba(0, 0, 0, 0.3));\n",
              "      fill: #FFFFFF;\n",
              "    }\n",
              "  </style>\n",
              "\n",
              "      <script>\n",
              "        const buttonEl =\n",
              "          document.querySelector('#df-92ea0d56-7a82-4d3b-9104-3a0bf431bbf6 button.colab-df-convert');\n",
              "        buttonEl.style.display =\n",
              "          google.colab.kernel.accessAllowed ? 'block' : 'none';\n",
              "\n",
              "        async function convertToInteractive(key) {\n",
              "          const element = document.querySelector('#df-92ea0d56-7a82-4d3b-9104-3a0bf431bbf6');\n",
              "          const dataTable =\n",
              "            await google.colab.kernel.invokeFunction('convertToInteractive',\n",
              "                                                     [key], {});\n",
              "          if (!dataTable) return;\n",
              "\n",
              "          const docLinkHtml = 'Like what you see? Visit the ' +\n",
              "            '<a target=\"_blank\" href=https://colab.research.google.com/notebooks/data_table.ipynb>data table notebook</a>'\n",
              "            + ' to learn more about interactive tables.';\n",
              "          element.innerHTML = '';\n",
              "          dataTable['output_type'] = 'display_data';\n",
              "          await google.colab.output.renderOutput(dataTable, element);\n",
              "          const docLink = document.createElement('div');\n",
              "          docLink.innerHTML = docLinkHtml;\n",
              "          element.appendChild(docLink);\n",
              "        }\n",
              "      </script>\n",
              "    </div>\n",
              "  </div>\n",
              "  "
            ]
          },
          "metadata": {},
          "execution_count": 10
        }
      ]
    },
    {
      "cell_type": "markdown",
      "source": [
        "For the second table, the presence (1)/absence (0) for each observation is reported:"
      ],
      "metadata": {
        "id": "ybYenqlxWFwt"
      }
    },
    {
      "cell_type": "code",
      "source": [
        "#This data correspond to the GSS column in the original dataset\n",
        "output_data = vardf.GSS #Presence = 1; Absence = 0 for landslides\n",
        "output = gpd.GeoDataFrame({'GSS': output_data})\n",
        "output #table with dependent variable"
      ],
      "metadata": {
        "colab": {
          "base_uri": "https://localhost:8080/",
          "height": 424
        },
        "id": "u-LMl_srcFbt",
        "outputId": "c609ac9c-b593-4cf5-adc5-0a58a6877529"
      },
      "execution_count": null,
      "outputs": [
        {
          "output_type": "execute_result",
          "data": {
            "text/plain": [
              "      GSS\n",
              "0       1\n",
              "1       1\n",
              "2       1\n",
              "3       1\n",
              "4       1\n",
              "...   ...\n",
              "5183    0\n",
              "5184    0\n",
              "5185    0\n",
              "5186    0\n",
              "5187    0\n",
              "\n",
              "[5188 rows x 1 columns]"
            ],
            "text/html": [
              "\n",
              "  <div id=\"df-42dd4d0f-45b6-4590-82f5-316dbcd68b1e\">\n",
              "    <div class=\"colab-df-container\">\n",
              "      <div>\n",
              "<style scoped>\n",
              "    .dataframe tbody tr th:only-of-type {\n",
              "        vertical-align: middle;\n",
              "    }\n",
              "\n",
              "    .dataframe tbody tr th {\n",
              "        vertical-align: top;\n",
              "    }\n",
              "\n",
              "    .dataframe thead th {\n",
              "        text-align: right;\n",
              "    }\n",
              "</style>\n",
              "<table border=\"1\" class=\"dataframe\">\n",
              "  <thead>\n",
              "    <tr style=\"text-align: right;\">\n",
              "      <th></th>\n",
              "      <th>GSS</th>\n",
              "    </tr>\n",
              "  </thead>\n",
              "  <tbody>\n",
              "    <tr>\n",
              "      <th>0</th>\n",
              "      <td>1</td>\n",
              "    </tr>\n",
              "    <tr>\n",
              "      <th>1</th>\n",
              "      <td>1</td>\n",
              "    </tr>\n",
              "    <tr>\n",
              "      <th>2</th>\n",
              "      <td>1</td>\n",
              "    </tr>\n",
              "    <tr>\n",
              "      <th>3</th>\n",
              "      <td>1</td>\n",
              "    </tr>\n",
              "    <tr>\n",
              "      <th>4</th>\n",
              "      <td>1</td>\n",
              "    </tr>\n",
              "    <tr>\n",
              "      <th>...</th>\n",
              "      <td>...</td>\n",
              "    </tr>\n",
              "    <tr>\n",
              "      <th>5183</th>\n",
              "      <td>0</td>\n",
              "    </tr>\n",
              "    <tr>\n",
              "      <th>5184</th>\n",
              "      <td>0</td>\n",
              "    </tr>\n",
              "    <tr>\n",
              "      <th>5185</th>\n",
              "      <td>0</td>\n",
              "    </tr>\n",
              "    <tr>\n",
              "      <th>5186</th>\n",
              "      <td>0</td>\n",
              "    </tr>\n",
              "    <tr>\n",
              "      <th>5187</th>\n",
              "      <td>0</td>\n",
              "    </tr>\n",
              "  </tbody>\n",
              "</table>\n",
              "<p>5188 rows × 1 columns</p>\n",
              "</div>\n",
              "      <button class=\"colab-df-convert\" onclick=\"convertToInteractive('df-42dd4d0f-45b6-4590-82f5-316dbcd68b1e')\"\n",
              "              title=\"Convert this dataframe to an interactive table.\"\n",
              "              style=\"display:none;\">\n",
              "        \n",
              "  <svg xmlns=\"http://www.w3.org/2000/svg\" height=\"24px\"viewBox=\"0 0 24 24\"\n",
              "       width=\"24px\">\n",
              "    <path d=\"M0 0h24v24H0V0z\" fill=\"none\"/>\n",
              "    <path d=\"M18.56 5.44l.94 2.06.94-2.06 2.06-.94-2.06-.94-.94-2.06-.94 2.06-2.06.94zm-11 1L8.5 8.5l.94-2.06 2.06-.94-2.06-.94L8.5 2.5l-.94 2.06-2.06.94zm10 10l.94 2.06.94-2.06 2.06-.94-2.06-.94-.94-2.06-.94 2.06-2.06.94z\"/><path d=\"M17.41 7.96l-1.37-1.37c-.4-.4-.92-.59-1.43-.59-.52 0-1.04.2-1.43.59L10.3 9.45l-7.72 7.72c-.78.78-.78 2.05 0 2.83L4 21.41c.39.39.9.59 1.41.59.51 0 1.02-.2 1.41-.59l7.78-7.78 2.81-2.81c.8-.78.8-2.07 0-2.86zM5.41 20L4 18.59l7.72-7.72 1.47 1.35L5.41 20z\"/>\n",
              "  </svg>\n",
              "      </button>\n",
              "      \n",
              "  <style>\n",
              "    .colab-df-container {\n",
              "      display:flex;\n",
              "      flex-wrap:wrap;\n",
              "      gap: 12px;\n",
              "    }\n",
              "\n",
              "    .colab-df-convert {\n",
              "      background-color: #E8F0FE;\n",
              "      border: none;\n",
              "      border-radius: 50%;\n",
              "      cursor: pointer;\n",
              "      display: none;\n",
              "      fill: #1967D2;\n",
              "      height: 32px;\n",
              "      padding: 0 0 0 0;\n",
              "      width: 32px;\n",
              "    }\n",
              "\n",
              "    .colab-df-convert:hover {\n",
              "      background-color: #E2EBFA;\n",
              "      box-shadow: 0px 1px 2px rgba(60, 64, 67, 0.3), 0px 1px 3px 1px rgba(60, 64, 67, 0.15);\n",
              "      fill: #174EA6;\n",
              "    }\n",
              "\n",
              "    [theme=dark] .colab-df-convert {\n",
              "      background-color: #3B4455;\n",
              "      fill: #D2E3FC;\n",
              "    }\n",
              "\n",
              "    [theme=dark] .colab-df-convert:hover {\n",
              "      background-color: #434B5C;\n",
              "      box-shadow: 0px 1px 3px 1px rgba(0, 0, 0, 0.15);\n",
              "      filter: drop-shadow(0px 1px 2px rgba(0, 0, 0, 0.3));\n",
              "      fill: #FFFFFF;\n",
              "    }\n",
              "  </style>\n",
              "\n",
              "      <script>\n",
              "        const buttonEl =\n",
              "          document.querySelector('#df-42dd4d0f-45b6-4590-82f5-316dbcd68b1e button.colab-df-convert');\n",
              "        buttonEl.style.display =\n",
              "          google.colab.kernel.accessAllowed ? 'block' : 'none';\n",
              "\n",
              "        async function convertToInteractive(key) {\n",
              "          const element = document.querySelector('#df-42dd4d0f-45b6-4590-82f5-316dbcd68b1e');\n",
              "          const dataTable =\n",
              "            await google.colab.kernel.invokeFunction('convertToInteractive',\n",
              "                                                     [key], {});\n",
              "          if (!dataTable) return;\n",
              "\n",
              "          const docLinkHtml = 'Like what you see? Visit the ' +\n",
              "            '<a target=\"_blank\" href=https://colab.research.google.com/notebooks/data_table.ipynb>data table notebook</a>'\n",
              "            + ' to learn more about interactive tables.';\n",
              "          element.innerHTML = '';\n",
              "          dataTable['output_type'] = 'display_data';\n",
              "          await google.colab.output.renderOutput(dataTable, element);\n",
              "          const docLink = document.createElement('div');\n",
              "          docLink.innerHTML = docLinkHtml;\n",
              "          element.appendChild(docLink);\n",
              "        }\n",
              "      </script>\n",
              "    </div>\n",
              "  </div>\n",
              "  "
            ]
          },
          "metadata": {},
          "execution_count": 11
        }
      ]
    },
    {
      "cell_type": "markdown",
      "source": [
        "## Part III: Random Forest Classifier implementation"
      ],
      "metadata": {
        "id": "1G69p_y9oGw7"
      }
    },
    {
      "cell_type": "markdown",
      "source": [
        "Subdivision of the dataset into train (67%) and test (33%) sets:"
      ],
      "metadata": {
        "id": "BXVViAChooLI"
      }
    },
    {
      "cell_type": "code",
      "source": [
        "from sklearn.model_selection import train_test_split\n",
        "###\n",
        "X_train, X_test, y_train, y_test = train_test_split(input_data, output, test_size = 0.33, random_state = rnd_seed)"
      ],
      "metadata": {
        "id": "yn6Zq7d6clAh"
      },
      "execution_count": null,
      "outputs": []
    },
    {
      "cell_type": "markdown",
      "source": [
        "Implementation of Random Forest on the train set:"
      ],
      "metadata": {
        "id": "ooYgurzxCTjG"
      }
    },
    {
      "cell_type": "code",
      "source": [
        "from sklearn.ensemble import RandomForestClassifier\n",
        "###\n",
        "rf1 = RandomForestClassifier()\n",
        "rf1.fit(X_train, y_train) #model is fitted"
      ],
      "metadata": {
        "id": "gTbYQClphgOE"
      },
      "execution_count": null,
      "outputs": []
    },
    {
      "cell_type": "markdown",
      "source": [
        "With the Accuracy Score it is possible to determine the accuracy of the model.\n",
        "\n",
        "With the Mean Squared Error it is possible to find the error of the model (difference between predicted values and true values).\n",
        "\n",
        "With the Confusion Matrix it is possible to see the ratio between true positives, false positives, true negatives, false negatives:"
      ],
      "metadata": {
        "id": "ID0-uFYPDRQX"
      }
    },
    {
      "cell_type": "code",
      "source": [
        "from sklearn.metrics import accuracy_score\n",
        "from sklearn.metrics import confusion_matrix\n",
        "###\n",
        "y_pred1 = rf1.predict(X_test) #prediction on the test set\n",
        "accuracy = accuracy_score(y_test, y_pred1) #accuracy of the prediction\n",
        "print(f'The accuracy for RandomForestClassifier is {accuracy:.1%}')\n",
        "mse1 = sklearn.metrics.mean_squared_error(y_test, y_pred1) #Mean Squared Error\n",
        "print(f'The mean squared error of the RandomForestClassifier is {mse1}')\n",
        "conf_mat = confusion_matrix(y_test, y_pred1) #confusion matrix of the prediction\n",
        "print(f'The confusion matrix for RandomForestClassifier is \\n {conf_mat}')"
      ],
      "metadata": {
        "colab": {
          "base_uri": "https://localhost:8080/"
        },
        "id": "kPRMmIT4T1VE",
        "outputId": "da78999d-133d-42db-ee87-3251b35c4694"
      },
      "execution_count": null,
      "outputs": [
        {
          "output_type": "stream",
          "name": "stdout",
          "text": [
            "The accuracy for RandomForestClassifier is 83.2%\n",
            "The mean squared error of the RandomForest Regression is 0.1675423234092236\n",
            "The confusion matrix for RandomForestClassifier is \n",
            " [[680 164]\n",
            " [123 746]]\n"
          ]
        }
      ]
    },
    {
      "cell_type": "markdown",
      "source": [
        "Now, an hyperparameters research is conducted to increase the accuracy of the model:\n",
        "\n",
        "*Source: <a href=\"https://towardsdatascience.com/hyperparameter-tuning-the-random-forest-in-python-using-scikit-learn-28d2aa77dd74\">towardsdatascience.com</a>.*"
      ],
      "metadata": {
        "id": "Zc1AYJawowSF"
      }
    },
    {
      "cell_type": "code",
      "source": [
        "from sklearn.model_selection import GridSearchCV\n",
        "###\n",
        "# Number of trees in random forest\n",
        "n_estimators = [int(x) for x in np.linspace(start = 50, stop = 500, num = 10)]\n",
        "# Number of features to consider at every split\n",
        "max_features = [2, 3, 4]\n",
        "# Creation of the parameter grid based on the results of random search\n",
        "param_grid = {'n_estimators': n_estimators,\n",
        "              'max_features': max_features}\n",
        "# Random grid search for best hyperparameters: random search\n",
        "# of parameters, using 3 fold cross validation\n",
        "gscv = GridSearchCV(estimator = rf1, param_grid = param_grid, cv = 3, verbose=2, n_jobs = -1)\n",
        "gscv.fit(X_train, y_train) # Fit the grid search to the data"
      ],
      "metadata": {
        "id": "0Ke6CAI6xfT2"
      },
      "execution_count": null,
      "outputs": []
    },
    {
      "cell_type": "markdown",
      "source": [
        "The function \"best_params_\" gives back the best hyperparameters of the grid:"
      ],
      "metadata": {
        "id": "CJ31bv0WueZ0"
      }
    },
    {
      "cell_type": "code",
      "source": [
        "best_grid = gscv.best_params_\n",
        "best_grid"
      ],
      "metadata": {
        "id": "ylVVyuJ_e4Fd",
        "colab": {
          "base_uri": "https://localhost:8080/"
        },
        "outputId": "89019c9c-652f-4338-c812-7a591b1b0768"
      },
      "execution_count": null,
      "outputs": [
        {
          "output_type": "execute_result",
          "data": {
            "text/plain": [
              "{'max_features': 2, 'n_estimators': 300}"
            ]
          },
          "metadata": {},
          "execution_count": 58
        }
      ]
    },
    {
      "cell_type": "markdown",
      "source": [
        "Here the Random Forest Classifier is implemented on the train set with the parameters found above:"
      ],
      "metadata": {
        "id": "w1M0P5CIcVQf"
      }
    },
    {
      "cell_type": "code",
      "source": [
        "rf2 = RandomForestClassifier(max_features = 2, n_estimators = 300)\n",
        "rf2.fit(X_train, y_train)"
      ],
      "metadata": {
        "id": "s5KC7igGWpkY"
      },
      "execution_count": null,
      "outputs": []
    },
    {
      "cell_type": "markdown",
      "source": [
        "The Accuracy Score, the Mean Squared Error and the Confusion Matrix are determined like done before:"
      ],
      "metadata": {
        "id": "igsjOgbdco2H"
      }
    },
    {
      "cell_type": "code",
      "source": [
        "y_pred2 = rf2.predict(X_test) #prediction on the test set\n",
        "accuracy = accuracy_score(y_test, y_pred2) #accuracy of the prediction\n",
        "print(f'The accuracy for RandomForestClassifier is {accuracy:.1%}')\n",
        "mse2 = sklearn.metrics.mean_squared_error(y_test, y_pred2) #Mean Squared Error\n",
        "print(f'The mean squared error of the RandomForestClassifier is {mse2}')\n",
        "conf_mat = confusion_matrix(y_test, y_pred2) #confusion matrix of the prediction\n",
        "print(f'The confusion matrix for RandomForestClassifier is \\n {conf_mat}')"
      ],
      "metadata": {
        "colab": {
          "base_uri": "https://localhost:8080/"
        },
        "id": "yxFQE9AaW0Zo",
        "outputId": "17bf4458-b4de-4d16-857f-8e8290703395"
      },
      "execution_count": null,
      "outputs": [
        {
          "output_type": "stream",
          "name": "stdout",
          "text": [
            "The accuracy for RandomForestClassifier is 83.8%\n",
            "The mean squared error of the RandomForest Regression is 0.16228838295388207\n",
            "The confusion matrix for RandomForestClassifier is \n",
            " [[684 160]\n",
            " [118 751]]\n"
          ]
        }
      ]
    },
    {
      "cell_type": "markdown",
      "source": [
        "##Part IV: Feature importance for Random Forest"
      ],
      "metadata": {
        "id": "XXzy6GPLctU2"
      }
    },
    {
      "cell_type": "markdown",
      "source": [
        "First method for Feature importance - Mean Decrease in Impurity.\n",
        "*Source: <a href=\"https://scikit-learn.org/stable/auto_examples/ensemble/plot_forest_importances.html\">scikit-learn</a>; <a href=\"https://datavizpyr.com/bar-plots-with-matplotlib-in-python/#:~:text=To%20create%20barplot%20with%20bars,with%20Pandas%20sort_values()%20function.&text=We%20get%20dataframe%20ordered%20in%20descending%20order.\">datavizpyr.com</a>.*"
      ],
      "metadata": {
        "id": "J-F7PbJ4VEgD"
      }
    },
    {
      "cell_type": "code",
      "source": [
        "importances = rf2.feature_importances_ #intrinsic function of RF\n",
        "std = np.std([tree.feature_importances_ for tree in rf2.estimators_], axis=0)\n",
        "feature_names = [input_data.columns] #set labels as the same of the original dataset"
      ],
      "metadata": {
        "id": "Oeder5bwVIGe"
      },
      "execution_count": null,
      "outputs": []
    },
    {
      "cell_type": "code",
      "source": [
        "#Pandas dataframe\n",
        "forest_importances_1 = pd.Series(importances, index=feature_names)\n",
        "#Make bars to be in ascendant order\n",
        "sorted1 = forest_importances_1.sort_values('index', ascending=False)\n",
        "#Make bar plot\n",
        "fig, ax = plt.subplots()\n",
        "sorted1.plot.bar(yerr=std, ax=ax)\n",
        "ax.set_title(\"Feature importances using MDI\")\n",
        "ax.set_ylabel(\"Mean decrease in impurity\")\n",
        "fig.tight_layout()\n",
        "#plt.savefig(\"bar_plot_MDI.png\") #saving image"
      ],
      "metadata": {
        "colab": {
          "base_uri": "https://localhost:8080/",
          "height": 352
        },
        "id": "Jbilpy7RVIOT",
        "outputId": "39befec6-0938-45db-ca1e-7707407dd5e2"
      },
      "execution_count": null,
      "outputs": [
        {
          "output_type": "stream",
          "name": "stderr",
          "text": [
            "/usr/local/lib/python3.7/dist-packages/ipykernel_launcher.py:3: FutureWarning: In a future version of pandas all arguments of Series.sort_values will be keyword-only\n",
            "  This is separate from the ipykernel package so we can avoid doing imports until\n"
          ]
        },
        {
          "output_type": "display_data",
          "data": {
            "text/plain": [
              "<Figure size 432x288 with 1 Axes>"
            ],
            "image/png": "[encoded data removed]"
          },
          "metadata": {
            "needs_background": "light"
          }
        }
      ]
    },
    {
      "cell_type": "markdown",
      "source": [
        "Variables with a mean >= 0.15 are listed here:"
      ],
      "metadata": {
        "id": "Jrtwy1TUdViJ"
      }
    },
    {
      "cell_type": "code",
      "source": [
        "var_import_1 = forest_importances_1[forest_importances_1 >= 0.15]\n",
        "var_import_1"
      ],
      "metadata": {
        "colab": {
          "base_uri": "https://localhost:8080/"
        },
        "id": "l8BhlDb_VISm",
        "outputId": "0cc74d2e-e775-44f1-dfd0-8e7bf3eaacb7"
      },
      "execution_count": null,
      "outputs": [
        {
          "output_type": "execute_result",
          "data": {
            "text/plain": [
              "slope       0.179633\n",
              "profCurv    0.175162\n",
              "distRoad    0.153823\n",
              "dtype: float64"
            ]
          },
          "metadata": {},
          "execution_count": 88
        }
      ]
    },
    {
      "cell_type": "markdown",
      "source": [
        "Second method for Feature importance - Feature Permutation. *Source: <a href=\"https://scikit-learn.org/stable/auto_examples/ensemble/plot_forest_importances.html\">scikit-learn</a>; <a href=\"https://datavizpyr.com/bar-plots-with-matplotlib-in-python/#:~:text=To%20create%20barplot%20with%20bars,with%20Pandas%20sort_values()%20function.&text=We%20get%20dataframe%20ordered%20in%20descending%20order.\">datavizpyr.com</a>.*"
      ],
      "metadata": {
        "id": "lAILDQCsqAe5"
      }
    },
    {
      "cell_type": "code",
      "source": [
        "from sklearn.inspection import permutation_importance\n",
        "###\n",
        "result = permutation_importance(\n",
        "    rf2, X_test, y_test, n_repeats=10, random_state=42, n_jobs=2\n",
        ") #Calculation for RF\n",
        "#Pandas dataframe\n",
        "forest_importances_2 = pd.Series(result.importances_mean, index=feature_names)"
      ],
      "metadata": {
        "id": "H7lAaeRdVIX0"
      },
      "execution_count": null,
      "outputs": []
    },
    {
      "cell_type": "code",
      "source": [
        "#Make bars to be in ascendant order\n",
        "sorted2 = forest_importances_2.sort_values('index', ascending=False)\n",
        "#Make bar plot\n",
        "fig, ax = plt.subplots()\n",
        "sorted2.plot.bar(yerr=result.importances_std, ax=ax, color='orange')\n",
        "ax.set_title(\"Feature importances using Feature Permutation\")\n",
        "ax.set_ylabel(\"Mean accuracy decrease\")\n",
        "fig.tight_layout()\n",
        "plt.show()\n",
        "#plt.savefig(\"bar_plot_FP.png\") # saving image"
      ],
      "metadata": {
        "colab": {
          "base_uri": "https://localhost:8080/",
          "height": 352
        },
        "id": "3n6MEKN2qVaN",
        "outputId": "63fa06f4-c4d8-4fd4-a5b7-8cb6ae5c9c14"
      },
      "execution_count": null,
      "outputs": [
        {
          "output_type": "stream",
          "name": "stderr",
          "text": [
            "/usr/local/lib/python3.7/dist-packages/ipykernel_launcher.py:2: FutureWarning: In a future version of pandas all arguments of Series.sort_values will be keyword-only\n",
            "  \n"
          ]
        },
        {
          "output_type": "display_data",
          "data": {
            "text/plain": [
              "<Figure size 432x288 with 1 Axes>"
            ],
            "image/png": "[encoded data removed]"
          },
          "metadata": {
            "needs_background": "light"
          }
        }
      ]
    },
    {
      "cell_type": "markdown",
      "source": [
        "Variables with a mean >= 0.05 are listed here:"
      ],
      "metadata": {
        "id": "mIluaD7Xd5Mq"
      }
    },
    {
      "cell_type": "code",
      "source": [
        "var_import_2 = forest_importances_2[forest_importances_2 >= 0.05]\n",
        "var_import_2"
      ],
      "metadata": {
        "colab": {
          "base_uri": "https://localhost:8080/"
        },
        "id": "aJeaMu3SqVcg",
        "outputId": "d9e836f2-9d92-4c30-cd05-c1d7e8f255b5"
      },
      "execution_count": null,
      "outputs": [
        {
          "output_type": "execute_result",
          "data": {
            "text/plain": [
              "slope       0.099708\n",
              "profCurv    0.069644\n",
              "distRoad    0.052131\n",
              "dtype: float64"
            ]
          },
          "metadata": {},
          "execution_count": 91
        }
      ]
    },
    {
      "cell_type": "markdown",
      "source": [
        "## Part V: Feature importance for Gradient Boosting Classifier.\n",
        "\n",
        "Finally, it is insightful to complement the analysis with a feature importance applied to another algorithm. In the next cell, Gradient Boosting Classifier is computed: *Source: <a href=\"https://scikit-learn.org/stable/modules/generated/sklearn.ensemble.GradientBoostingClassifier.html#sklearn.ensemble.GradientBoostingClassifier.feature_importances_\">scikit-learn</a>.*"
      ],
      "metadata": {
        "id": "B97dsXJt3vLV"
      }
    },
    {
      "cell_type": "code",
      "source": [
        "from sklearn.ensemble import GradientBoostingClassifier\n",
        "###\n",
        "gbc = GradientBoostingClassifier(n_estimators=300, learning_rate=1.0, max_depth=1, random_state=rnd_seed).fit(X_train, y_train)\n",
        "gbc.score(X_test, y_test) #Evaluation of GB"
      ],
      "metadata": {
        "colab": {
          "base_uri": "https://localhost:8080/"
        },
        "id": "uXu-To2s3umJ",
        "outputId": "7f306275-02ca-48eb-9605-98600fa063fc"
      },
      "execution_count": null,
      "outputs": [
        {
          "output_type": "stream",
          "name": "stderr",
          "text": [
            "/usr/local/lib/python3.7/dist-packages/sklearn/ensemble/_gb.py:494: DataConversionWarning: A column-vector y was passed when a 1d array was expected. Please change the shape of y to (n_samples, ), for example using ravel().\n",
            "  y = column_or_1d(y, warn=True)\n"
          ]
        },
        {
          "output_type": "execute_result",
          "data": {
            "text/plain": [
              "0.7997664915353182"
            ]
          },
          "metadata": {},
          "execution_count": 98
        }
      ]
    },
    {
      "cell_type": "markdown",
      "source": [
        "The feature importance is determined with Permutation Importance method, the most appropriate for GradientBoostClassifier.  *Source: <a href=\"https://scikit-learn.org/stable/modules/generated/sklearn.inspection.permutation_importance.html#sklearn.inspection.permutation_importance\">scikit-learn</a>.*"
      ],
      "metadata": {
        "id": "czOnVFdn6H2J"
      }
    },
    {
      "cell_type": "code",
      "source": [
        "boost = sklearn.inspection.permutation_importance(gbc, X_test, y_test, scoring=None, n_repeats=5, n_jobs=None, random_state=None, sample_weight=None, max_samples=1.0)\n",
        "#Pandas dataframe\n",
        "boost_importances = pd.Series(boost.importances_mean, index=feature_names)\n",
        "#Make bars to be in ascendant order\n",
        "sorted3 = boost_importances.sort_values('index', ascending=False)\n",
        "#Make bar plot\n",
        "fig, ax = plt.subplots()\n",
        "sorted3.plot.bar(yerr=boost.importances_std, ax=ax, color='g')\n",
        "ax.set_title(\"Feature importances using Permutation Importance\")\n",
        "ax.set_ylabel(\"Mean accuracy decrease\")\n",
        "fig.tight_layout()\n",
        "plt.show()\n",
        "#plt.savefig(\"bar_plot_GBC.png\") # saving image"
      ],
      "metadata": {
        "colab": {
          "base_uri": "https://localhost:8080/",
          "height": 352
        },
        "id": "k5kyGYsS6IH1",
        "outputId": "0e394d3f-bda1-4ff0-ba3d-c7dcbab58902"
      },
      "execution_count": null,
      "outputs": [
        {
          "output_type": "stream",
          "name": "stderr",
          "text": [
            "/usr/local/lib/python3.7/dist-packages/ipykernel_launcher.py:5: FutureWarning: In a future version of pandas all arguments of Series.sort_values will be keyword-only\n",
            "  \"\"\"\n"
          ]
        },
        {
          "output_type": "display_data",
          "data": {
            "text/plain": [
              "<Figure size 432x288 with 1 Axes>"
            ],
            "image/png": "[encoded data removed]"
          },
          "metadata": {
            "needs_background": "light"
          }
        }
      ]
    },
    {
      "cell_type": "markdown",
      "source": [
        "Variables with a mean >= 0.03 are listed here:"
      ],
      "metadata": {
        "id": "z6AJXfmM877L"
      }
    },
    {
      "cell_type": "code",
      "source": [
        "var_import_3 = boost_importances[boost_importances >= 0.03]\n",
        "var_import_3"
      ],
      "metadata": {
        "colab": {
          "base_uri": "https://localhost:8080/"
        },
        "id": "1ea1SQFU8G4r",
        "outputId": "7615abd8-138c-4a66-8283-8418eb4b8293"
      },
      "execution_count": null,
      "outputs": [
        {
          "output_type": "execute_result",
          "data": {
            "text/plain": [
              "slope       0.049971\n",
              "profCurv    0.037478\n",
              "distRoad    0.046235\n",
              "dtype: float64"
            ]
          },
          "metadata": {},
          "execution_count": 114
        }
      ]
    },
    {
      "cell_type": "markdown",
      "source": [
        "That's all :)"
      ],
      "metadata": {
        "id": "a7LyzsN9F6nC"
      }
    }
  ]
}