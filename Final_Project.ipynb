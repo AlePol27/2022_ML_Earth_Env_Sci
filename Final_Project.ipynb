{
  "nbformat": 4,
  "nbformat_minor": 0,
  "metadata": {
    "colab": {
      "name": "Final_Project_A_Poloni.ipynb",
      "provenance": [],
      "authorship_tag": "ABX9TyMIQdpPNUibWgDhPBD3oaLI",
      "include_colab_link": true
    },
    "kernelspec": {
      "name": "python3",
      "display_name": "Python 3"
    },
    "language_info": {
      "name": "python"
    }
  },
  "cells": [
    {
      "cell_type": "markdown",
      "metadata": {
        "id": "view-in-github",
        "colab_type": "text"
      },
      "source": [
        "<a href=\"https://colab.research.google.com/github/AlePol27/2022_ML_Earth_Env_Sci/blob/main/Final_Project.ipynb\" target=\"_parent\"><img src=\"https://colab.research.google.com/assets/colab-badge.svg\" alt=\"Open In Colab\"/></a>"
      ]
    },
    {
      "cell_type": "markdown",
      "source": [
        "# ML final project"
      ],
      "metadata": {
        "id": "2aXSTrgQUFWV"
      }
    },
    {
      "cell_type": "markdown",
      "source": [
        ""
      ],
      "metadata": {
        "id": "uDpLMiDWUFqz"
      }
    },
    {
      "cell_type": "markdown",
      "source": [
        "Text\n",
        "\n",
        "*Source: bla bla bla <a href=\"\">label</a>.*"
      ],
      "metadata": {
        "id": "fxWNqikkUF-n"
      }
    },
    {
      "cell_type": "markdown",
      "source": [
        "## Part I:"
      ],
      "metadata": {
        "id": "g-znLhguUGAr"
      }
    },
    {
      "cell_type": "markdown",
      "source": [
        "## Part II:"
      ],
      "metadata": {
        "id": "Fa9YT8XjUGC1"
      }
    },
    {
      "cell_type": "markdown",
      "source": [
        "# Title"
      ],
      "metadata": {
        "id": "6thCMhtsUGEy"
      }
    },
    {
      "cell_type": "markdown",
      "source": [
        ""
      ],
      "metadata": {
        "id": "PKfaiXaBUGGz"
      }
    },
    {
      "cell_type": "code",
      "execution_count": null,
      "metadata": {
        "id": "RUD8VGjHT-Kt"
      },
      "outputs": [],
      "source": [
        ""
      ]
    }
  ]
}