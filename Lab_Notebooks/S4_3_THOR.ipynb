{
  "nbformat": 4,
  "nbformat_minor": 0,
  "metadata": {
    "colab": {
      "name": "S4_3_THOR.ipynb",
      "provenance": [],
      "collapsed_sections": [],
      "include_colab_link": true
    },
    "kernelspec": {
      "name": "python3",
      "display_name": "Python 3"
    },
    "language_info": {
      "name": "python"
    }
  },
  "cells": [
    {
      "cell_type": "markdown",
      "metadata": {
        "id": "view-in-github",
        "colab_type": "text"
      },
      "source": [
        "<a href=\"https://colab.research.google.com/github/AlePol27/2022_ML_Earth_Env_Sci/blob/main/Lab_Notebooks/S4_3_THOR.ipynb\" target=\"_parent\"><img src=\"https://colab.research.google.com/assets/colab-badge.svg\" alt=\"Open In Colab\"/></a>"
      ]
    },
    {
      "cell_type": "markdown",
      "source": [
        "<img src='https://unils-my.sharepoint.com/:i:/g/personal/tom_beucler_unil_ch/ESLP1e1BfUxKu-hchh7wZKcBZiG3bJnNbnt0PDDm3BK-9g?download=1'>\n",
        "\n",
        "<center> \n",
        "Photo Credits: <a href=\"https://unsplash.com/photos/zCMWw56qseM\">Sea Foam</a> by <a href=\"https://unsplash.com/@unstable_affliction\">Ivan Bandura</a> licensed under the <a href='https://unsplash.com/license'>Unsplash License</a> \n",
        "</center>\n",
        "\n",
        "\n",
        ">*A frequently asked question related to this work is “Which mixing processes matter most for climate?” As with many alluringly comprehensive sounding questions, the answer is “it depends.”* <br>\n",
        "> $\\qquad$ MacKinnon, Jennifer A., et al. <br>$\\qquad$\"Climate process team on internal wave–driven ocean mixing.\" <br>$\\qquad$ Bulletin of the American Meteorological Society 98.11 (2017): 2429-2454."
      ],
      "metadata": {
        "id": "dUurnKLqq1un"
      }
    },
    {
      "cell_type": "markdown",
      "source": [
        "In week 4's final notebook, we will perform clustering to identify regimes in data taken from the realistic numerical ocean model [Estimating the Circulation and Climate of the Ocean](https://www.ecco-group.org/products-ECCO-V4r4.htm). Sonnewald et al. point out that finding robust regimes is intractable with a naïve approach, so we will be using using reduced dimensionality data. \n",
        "\n",
        "It is worth pointing out, however, that the reduction was done with an equation instead of one of the algorithms we discussed this week. If you're interested in the full details, you can check out [Sonnewald et al. (2019)](https://doi.org/10.1029/2018EA000519)"
      ],
      "metadata": {
        "id": "yT4KFNrpZIfY"
      }
    },
    {
      "cell_type": "markdown",
      "source": [
        "# Setup"
      ],
      "metadata": {
        "id": "PHKbQVLOUC5v"
      }
    },
    {
      "cell_type": "markdown",
      "source": [
        "First, let's import a few common modules, ensure MatplotLib plots figures inline and prepare a function to save the figures. We also check that Python 3.5 or later is installed (although Python 2.x may work, it is deprecated so we strongly recommend you use Python 3 instead), as well as Scikit-Learn ≥0.20."
      ],
      "metadata": {
        "id": "4TxieA70pcLo"
      }
    },
    {
      "cell_type": "code",
      "execution_count": 1,
      "metadata": {
        "id": "S61_Smb9T6ad"
      },
      "outputs": [],
      "source": [
        "# Python ≥3.5 is required\n",
        "import sys\n",
        "assert sys.version_info >= (3, 5)\n",
        "\n",
        "# Scikit-Learn ≥0.20 is required\n",
        "import sklearn\n",
        "assert sklearn.__version__ >= \"0.20\"\n",
        "\n",
        "# Common imports\n",
        "import numpy as np\n",
        "import os\n",
        "import xarray as xr\n",
        "import pooch\n",
        "\n",
        "# to make this notebook's output stable across runs\n",
        "rnd_seed = 42\n",
        "rnd_gen = np.random.default_rng(rnd_seed)\n",
        "\n",
        "# To plot pretty figures\n",
        "%matplotlib inline\n",
        "import matplotlib as mpl\n",
        "import matplotlib.pyplot as plt\n",
        "mpl.rc('axes', labelsize=14)\n",
        "mpl.rc('xtick', labelsize=12)\n",
        "mpl.rc('ytick', labelsize=12)\n",
        "\n",
        "# Where to save the figures\n",
        "PROJECT_ROOT_DIR = \".\"\n",
        "CHAPTER_ID = \"dim_reduction\"\n",
        "IMAGES_PATH = os.path.join(PROJECT_ROOT_DIR, \"images\", CHAPTER_ID)\n",
        "os.makedirs(IMAGES_PATH, exist_ok=True)\n",
        "\n",
        "def save_fig(fig_id, tight_layout=True, fig_extension=\"png\", resolution=300):\n",
        "    path = os.path.join(IMAGES_PATH, fig_id + \".\" + fig_extension)\n",
        "    print(\"Saving figure\", fig_id)\n",
        "    if tight_layout:\n",
        "        plt.tight_layout()\n",
        "    plt.savefig(path, format=fig_extension, dpi=resolution)"
      ]
    },
    {
      "cell_type": "markdown",
      "source": [
        "Here we're going to import the [StandardScaler](https://duckduckgo.com/sklearn.preprocessing.standardscaler) function from scikit's preprocessing tools, import the [scikit clustering library](https://duckduckgo.com/sklearn.clustering), and set up the colormap that we will use when plotting."
      ],
      "metadata": {
        "id": "6vUFq1DYUqCx"
      }
    },
    {
      "cell_type": "code",
      "source": [
        "from sklearn.preprocessing import StandardScaler\n",
        "import sklearn.cluster as cluster\n",
        "\n",
        "from matplotlib.colors import LinearSegmentedColormap, ListedColormap\n",
        "colors = ['royalblue', 'cyan','yellow', 'orange', 'magenta', 'red']\n",
        "mycmap = ListedColormap(colors)"
      ],
      "metadata": {
        "id": "34PAL9TkUHd_"
      },
      "execution_count": 2,
      "outputs": []
    },
    {
      "cell_type": "markdown",
      "source": [
        "# Data Preprocessing"
      ],
      "metadata": {
        "id": "Fr46ZRUjpTzo"
      }
    },
    {
      "cell_type": "markdown",
      "source": [
        "The first thing we need to do is retrieve the list of files we'll be working on. We'll rely on pooch to access the files hosted on the cloud."
      ],
      "metadata": {
        "id": "O9QOXpKGpgt7"
      }
    },
    {
      "cell_type": "code",
      "source": [
        "# Retrieve the files from the cloud using Pooch.\n",
        "data_url = 'https://unils-my.sharepoint.com/:u:/g/personal/tom_beucler_unil_ch/EUYqUzpIjoJBui02QEo6q1wBSN1Zsi1ofE6I3G4B9LJn_Q?download=1'\n",
        "hash = '3f41661c7a087fa7d7af1d2a8baf95c065468f8a415b8514baedda2f5bc18bb5'\n",
        "\n",
        "files = pooch.retrieve(data_url, known_hash=hash, processor=pooch.Unzip())\n",
        "[print(filename) for filename in files];"
      ],
      "metadata": {
        "id": "nDNJnzOAfKE_",
        "colab": {
          "base_uri": "https://localhost:8080/"
        },
        "outputId": "8118baa2-9bc9-4db8-c735-7bca12783197"
      },
      "execution_count": 3,
      "outputs": [
        {
          "output_type": "stream",
          "name": "stderr",
          "text": [
            "Downloading data from 'https://unils-my.sharepoint.com/:u:/g/personal/tom_beucler_unil_ch/EUYqUzpIjoJBui02QEo6q1wBSN1Zsi1ofE6I3G4B9LJn_Q?download=1' to file '/root/.cache/pooch/8a10ee1ae6941d8b9bb543c954c793fa-EUYqUzpIjoJBui02QEo6q1wBSN1Zsi1ofE6I3G4B9LJn_Q'.\n",
            "Unzipping contents of '/root/.cache/pooch/8a10ee1ae6941d8b9bb543c954c793fa-EUYqUzpIjoJBui02QEo6q1wBSN1Zsi1ofE6I3G4B9LJn_Q' to '/root/.cache/pooch/8a10ee1ae6941d8b9bb543c954c793fa-EUYqUzpIjoJBui02QEo6q1wBSN1Zsi1ofE6I3G4B9LJn_Q.unzip'\n"
          ]
        },
        {
          "output_type": "stream",
          "name": "stdout",
          "text": [
            "/root/.cache/pooch/8a10ee1ae6941d8b9bb543c954c793fa-EUYqUzpIjoJBui02QEo6q1wBSN1Zsi1ofE6I3G4B9LJn_Q.unzip/curlCori.npy\n",
            "/root/.cache/pooch/8a10ee1ae6941d8b9bb543c954c793fa-EUYqUzpIjoJBui02QEo6q1wBSN1Zsi1ofE6I3G4B9LJn_Q.unzip/curlTau.npy\n",
            "/root/.cache/pooch/8a10ee1ae6941d8b9bb543c954c793fa-EUYqUzpIjoJBui02QEo6q1wBSN1Zsi1ofE6I3G4B9LJn_Q.unzip/noiseMask.npy\n",
            "/root/.cache/pooch/8a10ee1ae6941d8b9bb543c954c793fa-EUYqUzpIjoJBui02QEo6q1wBSN1Zsi1ofE6I3G4B9LJn_Q.unzip/BPT.npy\n",
            "/root/.cache/pooch/8a10ee1ae6941d8b9bb543c954c793fa-EUYqUzpIjoJBui02QEo6q1wBSN1Zsi1ofE6I3G4B9LJn_Q.unzip/curlA.npy\n",
            "/root/.cache/pooch/8a10ee1ae6941d8b9bb543c954c793fa-EUYqUzpIjoJBui02QEo6q1wBSN1Zsi1ofE6I3G4B9LJn_Q.unzip/curlB.npy\n"
          ]
        }
      ]
    },
    {
      "cell_type": "markdown",
      "source": [
        "And now that we have a set of files to load, let's set up a dictionary with the variable names as keys and the data in numpy array format as the values."
      ],
      "metadata": {
        "id": "bZxAvW1gBbO1"
      }
    },
    {
      "cell_type": "code",
      "source": [
        "# Let's read in the variable names from the filepaths\n",
        "var_names = []\n",
        "[var_names.append(path.split('/')[-1][:-4]) for path in files]\n",
        "\n",
        "# And build a dictionary of the data variables keyed to the filenames\n",
        "data_dict = {}\n",
        "for idx, val in enumerate(var_names):\n",
        "    data_dict[val] = np.load(files[idx]).T\n",
        "\n",
        "#We'll print the name of the variable loaded and the associated shape \n",
        "[print(f'Varname: {item[0]:<15} Shape: {item[1].shape}') for item in data_dict.items()];"
      ],
      "metadata": {
        "id": "b8OmoBGHBkwG",
        "colab": {
          "base_uri": "https://localhost:8080/"
        },
        "outputId": "8a86d61f-fbcb-4c3f-d52a-f6933404bc7a"
      },
      "execution_count": 4,
      "outputs": [
        {
          "output_type": "stream",
          "name": "stdout",
          "text": [
            "Varname: curlCori        Shape: (360, 720)\n",
            "Varname: curlTau         Shape: (360, 720)\n",
            "Varname: noiseMask       Shape: (360, 720)\n",
            "Varname: BPT             Shape: (360, 720)\n",
            "Varname: curlA           Shape: (360, 720)\n",
            "Varname: curlB           Shape: (360, 720)\n"
          ]
        }
      ]
    },
    {
      "cell_type": "markdown",
      "source": [
        "We now have a dictionary that uses the filename as the key! Feel free to explore the data (e.g., loading the keys, checking the shape of the arrays, plotting)"
      ],
      "metadata": {
        "id": "RMbhwWTunLvz"
      }
    },
    {
      "cell_type": "code",
      "source": [
        "#Feel free to explore the data dictionary\n",
        "data_dict"
      ],
      "metadata": {
        "id": "rG2pgeH5pB4f",
        "colab": {
          "base_uri": "https://localhost:8080/"
        },
        "outputId": "ec29ba19-29c9-4bb2-ac3d-232e3b47aa19"
      },
      "execution_count": 5,
      "outputs": [
        {
          "output_type": "execute_result",
          "data": {
            "text/plain": [
              "{'BPT': array([[           nan,            nan,            nan, ...,\n",
              "                    nan,            nan,            nan],\n",
              "        [           nan,            nan,            nan, ...,\n",
              "                    nan,            nan,            nan],\n",
              "        [           nan,            nan,            nan, ...,\n",
              "                    nan,            nan,            nan],\n",
              "        ...,\n",
              "        [2.91824577e-10, 2.79597141e-10, 2.67941801e-10, ...,\n",
              "         3.60130179e-10, 3.29399238e-10, 3.04381556e-10],\n",
              "        [1.65025216e-09, 1.63083037e-09, 1.61104016e-09, ...,\n",
              "         1.70639128e-09, 1.68817223e-09, 1.66943716e-09],\n",
              "        [3.55323559e-10, 3.58131735e-10, 3.60815091e-10, ...,\n",
              "         3.46706442e-10, 3.49634081e-10, 3.52527302e-10]]),\n",
              " 'curlA': array([[            nan,             nan,             nan, ...,\n",
              "                     nan,             nan,             nan],\n",
              "        [            nan,             nan,             nan, ...,\n",
              "                     nan,             nan,             nan],\n",
              "        [            nan,             nan,             nan, ...,\n",
              "                     nan,             nan,             nan],\n",
              "        ...,\n",
              "        [-2.00494809e-10, -1.91009513e-10, -1.81546207e-10, ...,\n",
              "         -2.06477742e-10, -2.10534064e-10, -2.09990271e-10],\n",
              "        [-4.53958114e-10, -4.49054409e-10, -4.43977377e-10, ...,\n",
              "         -4.67389064e-10, -4.63173341e-10, -4.58664385e-10],\n",
              "        [ 1.12559504e-10,  1.10532294e-10,  1.08534470e-10, ...,\n",
              "          1.18598958e-10,  1.16589258e-10,  1.14566462e-10]]),\n",
              " 'curlB': array([[            nan,             nan,             nan, ...,\n",
              "                     nan,             nan,             nan],\n",
              "        [            nan,             nan,             nan, ...,\n",
              "                     nan,             nan,             nan],\n",
              "        [            nan,             nan,             nan, ...,\n",
              "                     nan,             nan,             nan],\n",
              "        ...,\n",
              "        [-8.48804612e-12, -8.09476530e-12, -7.70072920e-12, ...,\n",
              "         -1.00130223e-11, -9.41033908e-12, -8.87845525e-12],\n",
              "        [-1.18409305e-11, -1.18952131e-11, -1.19473920e-11, ...,\n",
              "         -1.16654656e-11, -1.17268948e-11, -1.17848753e-11],\n",
              "        [ 1.26111815e-11,  1.25250403e-11,  1.24437042e-11, ...,\n",
              "          1.28843440e-11,  1.27896910e-11,  1.26984984e-11]]),\n",
              " 'curlCori': array([[            nan,             nan,             nan, ...,\n",
              "                     nan,             nan,             nan],\n",
              "        [            nan,             nan,             nan, ...,\n",
              "                     nan,             nan,             nan],\n",
              "        [            nan,             nan,             nan, ...,\n",
              "                     nan,             nan,             nan],\n",
              "        ...,\n",
              "        [-6.92754602e-11, -6.81521990e-11, -6.75638325e-11, ...,\n",
              "         -1.27496946e-10, -9.38783601e-11, -7.07133252e-11],\n",
              "        [-1.16016079e-09, -1.14627098e-09, -1.13219307e-09, ...,\n",
              "         -1.20101830e-09, -1.18762320e-09, -1.17401354e-09],\n",
              "        [-4.65477304e-10, -4.66288146e-10, -4.67006256e-10, ...,\n",
              "         -4.62830594e-10, -4.63767098e-10, -4.64661454e-10]]),\n",
              " 'curlTau': array([[            nan,             nan,             nan, ...,\n",
              "                     nan,             nan,             nan],\n",
              "        [            nan,             nan,             nan, ...,\n",
              "                     nan,             nan,             nan],\n",
              "        [            nan,             nan,             nan, ...,\n",
              "                     nan,             nan,             nan],\n",
              "        ...,\n",
              "        [-1.50804074e-11, -1.38740423e-11, -1.26829094e-11, ...,\n",
              "         -1.75898502e-11, -1.70483291e-11, -1.62937674e-11],\n",
              "        [-2.40229606e-11, -2.33721971e-11, -2.27163128e-11, ...,\n",
              "         -2.59515534e-11, -2.53148197e-11, -2.46727400e-11],\n",
              "        [-1.33861875e-11, -1.32861630e-11, -1.31878838e-11, ...,\n",
              "         -1.36808540e-11, -1.35834491e-11, -1.34843067e-11]]),\n",
              " 'noiseMask': array([[nan, nan, nan, ..., nan, nan, nan],\n",
              "        [nan, nan, nan, ..., nan, nan, nan],\n",
              "        [nan, nan, nan, ..., nan, nan, nan],\n",
              "        ...,\n",
              "        [ 1.,  1.,  1., ...,  1.,  1.,  1.],\n",
              "        [ 1.,  1.,  1., ...,  1.,  1.,  1.],\n",
              "        [ 1.,  1.,  1., ...,  1.,  1.,  1.]])}"
            ]
          },
          "metadata": {},
          "execution_count": 5
        }
      ]
    },
    {
      "cell_type": "markdown",
      "source": [
        "We're eventually going to have an array of cluster classes that we're going to use to label dynamic regimes in the ocean. Let's make an array full of NaN (not-a-number) values that has the same shape as our other variables and store it in the data dictionary. "
      ],
      "metadata": {
        "id": "xXwnzzbRtTYs"
      }
    },
    {
      "cell_type": "code",
      "source": [
        "data_dict['clusters'] = np.full_like(data_dict['BPT'],np.nan)"
      ],
      "metadata": {
        "id": "4VYRgr0cuHKg"
      },
      "execution_count": 6,
      "outputs": []
    },
    {
      "cell_type": "markdown",
      "source": [
        "### Reformatting as Xarray"
      ],
      "metadata": {
        "id": "pCumDPFEpFcf"
      }
    },
    {
      "cell_type": "markdown",
      "source": [
        "In the original paper, this data was loaded as numpy arrays. However, we'll take this opportunity to demonstrate the same procedure while relying on xarray. First, let's instantiate a blank dataset.<br><br>\n",
        "\n",
        "###**Q1) Make a blank xarray dataset.**<br>\n",
        "*Hint: Look at the xarray [documentation](https://duckduckgo.com/?q=xarray+dataset)*"
      ],
      "metadata": {
        "id": "vz_vQOCguax0"
      }
    },
    {
      "cell_type": "code",
      "source": [
        "# Make your blank dataset here! Instantiate the class without passing any parameters.\n",
        "ds = xr.Dataset()"
      ],
      "metadata": {
        "id": "JIPsLT6g-INq"
      },
      "execution_count": 7,
      "outputs": []
    },
    {
      "cell_type": "markdown",
      "source": [
        "<img src='https://unils-my.sharepoint.com/:i:/g/personal/tom_beucler_unil_ch/EZv_qqVz_h1Hio6Nq11ckScBb01bGb9jtNKzdqAg1TPrKQ?download=1'>\n",
        "<center> Image taken from the xarray <a href='https://xarray.pydata.org/en/stable/user-guide/data-structures.html#:~:text=Dataset-,xarray.,from%20the%20netCDF%20file%20format.'> <i>Data Structure documentation</i> </a> </center>\n",
        "\n",
        "In order to build the dataset, we're going to need a set of coordinate vectors that help us map out our data! For our data, we have two axes corresponding to longitude ($\\lambda$) and latitude ($\\phi$). \n",
        "\n",
        "We don't know much about how many lat/lon points we have, so let's explore one of the variables to make sense of the data the shape of one of the numpy arrays.\n",
        "\n",
        "###**Q2) Visualize the data using a plot and printing the shape of the data to the console output.**"
      ],
      "metadata": {
        "id": "jJK9Ud9tp3_r"
      }
    },
    {
      "cell_type": "code",
      "source": [
        "#Complete the code\n",
        "# Let's print out an image of the Bottom Pressure Torques (BPT)\n",
        "plt.imshow(data_dict['BPT'], origin='lower')"
      ],
      "metadata": {
        "id": "Kiw2tAT1D6Ny",
        "colab": {
          "base_uri": "https://localhost:8080/",
          "height": 235
        },
        "outputId": "59eb9773-bd14-4028-beff-d2addc1a2663"
      },
      "execution_count": 8,
      "outputs": [
        {
          "output_type": "execute_result",
          "data": {
            "text/plain": [
              "<matplotlib.image.AxesImage at 0x7fcc48e5d990>"
            ]
          },
          "metadata": {},
          "execution_count": 8
        },
        {
          "output_type": "display_data",
          "data": {
            "text/plain": [
              "<Figure size 432x288 with 1 Axes>"
            ],
            "image/png": "[encoded data removed]"
          },
          "metadata": {
            "needs_background": "light"
          }
        }
      ]
    },
    {
      "cell_type": "code",
      "source": [
        "# It will also be useful to store and print out the shape of the data\n",
        "data_shape = data_dict['BPT'].shape\n",
        "print(data_shape)"
      ],
      "metadata": {
        "id": "k6E_4MivCoWQ",
        "colab": {
          "base_uri": "https://localhost:8080/"
        },
        "outputId": "82184e6a-583f-4cca-9595-b77125385546"
      },
      "execution_count": 10,
      "outputs": [
        {
          "output_type": "stream",
          "name": "stdout",
          "text": [
            "(360, 720)\n"
          ]
        }
      ]
    },
    {
      "cell_type": "markdown",
      "source": [
        "Now that we know how the resolution of our data, we can prepare a set of axis arrays. We will use these to organize the data we will feed into the dataset.\n",
        "\n",
        "###**Q3) Prepare the latitude and longitude arrays to be used as axes for our dataset**\n",
        "\n",
        "*Hint 1: You can build ordered numpy arrays using, e.g., [numpy.linspace](https://numpy.org/doc/stable/reference/generated/numpy.linspace.html) and [numpy.arange](https://numpy.org/doc/stable/reference/generated/numpy.arange.html)*\n",
        "\n",
        "*Hint 2: You can rely on the data_shape variable we loaded previously to know how many points you need along each axis*"
      ],
      "metadata": {
        "id": "aXyxepjm-N5z"
      }
    },
    {
      "cell_type": "code",
      "source": [
        "#Complete the code\n",
        "# Let's prepare the lat and lon axes for our data.\n",
        "lat = np.linspace(0, 359, 360)\n",
        "lon = np.linspace(0, 719, 720)"
      ],
      "metadata": {
        "id": "vwzO0ZWMNHKg"
      },
      "execution_count": 29,
      "outputs": []
    },
    {
      "cell_type": "markdown",
      "source": [
        "Now that we have the axes we need, we can build xarray [*data arrays*](https://xarray.pydata.org/en/stable/generated/xarray.DataArray.html) for each data variable. Since we'll be doing it several times, let's go ahead and defined a function that does this for us!\n",
        "\n",
        "###**Q4) Define a function that takes in: 1) an array name, 2) a numpy array, 3) a lat vector, and 4) a lon vector. The function should return a dataArray with lat-lon as the coordinate dimensions**"
      ],
      "metadata": {
        "id": "yxnAU_gjOqVo"
      }
    },
    {
      "cell_type": "code",
      "source": [
        "#Complete the code\n",
        "def np_to_xr(array_name, array, lat, lon):\n",
        "    #building the xarrray\n",
        "    da = xr.DataArray(data = array, # Data to be stored\n",
        "                  \n",
        "                  #set the name of dimensions for the dataArray \n",
        "                  dims = ['lat', 'lon'],\n",
        "                  \n",
        "                  #Set the dictionary pointing the name dimensions to np arrays \n",
        "                  coords = {'lat':lat,\n",
        "                            'lon':lon},\n",
        "                      \n",
        "                  name=array_name)\n",
        "    return da"
      ],
      "metadata": {
        "id": "7FCXLhYfPiQD"
      },
      "execution_count": 30,
      "outputs": []
    },
    {
      "cell_type": "markdown",
      "source": [
        "We're now ready to build our data array! Let's iterate through the items and merge our blank dataset with the data arrays we create.\n",
        "\n",
        "###**Q5) Build the dataset from the data dictionary**\n",
        "\n",
        "*Hint: We'll be using the xarray merge command to put everything together.*"
      ],
      "metadata": {
        "id": "l9xgQaM9Rrv1"
      }
    },
    {
      "cell_type": "code",
      "source": [
        "# The code in the notebook assumes you named your dataset ds. Change it to \n",
        "# whatever you used!\n",
        "\n",
        "# Complete the code\n",
        "for key, item in data_dict.items():\n",
        "    # Let's make use of our np_to_xr function to get the data as a dataArray\n",
        "    da = np_to_xr(key, item, lat, lon)\n",
        "\n",
        "    # Merge the dataSet with the dataArray here!\n",
        "    ds = xr.merge( [ds , da ] )"
      ],
      "metadata": {
        "id": "4pLXUfvLSZKf"
      },
      "execution_count": 31,
      "outputs": []
    },
    {
      "cell_type": "markdown",
      "source": [
        "Congratulations! You should now have a nicely set up xarray dataset. This let's you access a ton of nice features, e.g.:\n",
        "> Data plotting by calling, e.g., `ds.BPT.plot.imshow(cmap='ocean')`\n",
        "> \n",
        "> Find statistical measures of all variables at once! (e.g.: `ds.std()`, `ds.mean()`)"
      ],
      "metadata": {
        "id": "aC1Gq_q7WEWc"
      }
    },
    {
      "cell_type": "code",
      "source": [
        "# Play around with the dataset here if you'd like :)\n",
        "ds.BPT.plot.imshow(cmap='ocean')\n",
        "print(f\"Standard deviation is {ds.std()} and mean is {ds.mean()}\")"
      ],
      "metadata": {
        "id": "uag0JpWzaaS-",
        "colab": {
          "base_uri": "https://localhost:8080/",
          "height": 629
        },
        "outputId": "05753a07-5cd0-45eb-876a-d041f3f38b62"
      },
      "execution_count": 32,
      "outputs": [
        {
          "output_type": "stream",
          "name": "stdout",
          "text": [
            "Standard deviation is <xarray.Dataset>\n",
            "Dimensions:    ()\n",
            "Data variables:\n",
            "    curlCori   float64 2.123e-09\n",
            "    curlTau    float64 1.455e-10\n",
            "    noiseMask  float64 0.0\n",
            "    BPT        float64 2.161e-09\n",
            "    curlA      float64 9.017e-10\n",
            "    curlB      float64 1.529e-10\n",
            "    clusters   float64 nan and mean is <xarray.Dataset>\n",
            "Dimensions:    ()\n",
            "Data variables:\n",
            "    curlCori   float64 7.743e-12\n",
            "    curlTau    float64 -1.696e-11\n",
            "    noiseMask  float64 1.0\n",
            "    BPT        float64 1.02e-11\n",
            "    curlA      float64 -1.287e-12\n",
            "    curlB      float64 2.928e-13\n",
            "    clusters   float64 nan\n"
          ]
        },
        {
          "output_type": "display_data",
          "data": {
            "text/plain": [
              "<Figure size 432x288 with 2 Axes>"
            ],
            "image/png": "[encoded data removed]"
          },
          "metadata": {
            "needs_background": "light"
          }
        }
      ]
    },
    {
      "cell_type": "markdown",
      "source": [
        "Now we want to find clusters of data considering each grid point as a datapoint with 5 dimensional data. However, we went through a lot of work to get the data nicely associated with a lat and lon - do we really want to undo that?\n",
        "\n",
        "Luckily, xarray develops foresaw the need to group dimensions together. Let's create a 'flat' version of our dataset using the [`stack`](https://xarray.pydata.org/en/stable/generated/xarray.DataArray.stack.html) method. Let's make a flattened version of our dataset.\n",
        "\n",
        "###**Q6) Store a flattened version of our dataset**\n",
        "\n",
        "*Hint 1: You'll need to pass a dictionary with the 'new' stacked dimension name as the key and the 'flattened' dimensions as the values.*\n",
        "\n",
        "*Hint 2: xarrays have a ['.values' attribute](https://xarray.pydata.org/en/stable/generated/xarray.DataArray.values.html) that return their data as a numpy array.*"
      ],
      "metadata": {
        "id": "vEfuD2O8aZ4w"
      }
    },
    {
      "cell_type": "code",
      "source": [
        "# Complete the code\n",
        "# Let's store the stacked version of our dataset\n",
        "stacked = ds.stack( {'dim':['lat', 'lon']} )"
      ],
      "metadata": {
        "id": "G4e2NDipb0Tr"
      },
      "execution_count": 33,
      "outputs": []
    },
    {
      "cell_type": "code",
      "source": [
        "# And verify the shape of our data\n",
        "print(stacked.to_array().values.shape)"
      ],
      "metadata": {
        "id": "UQt4-fFACtUm",
        "colab": {
          "base_uri": "https://localhost:8080/"
        },
        "outputId": "006f33d6-0d2b-45db-b659-9a0d728baf52"
      },
      "execution_count": 34,
      "outputs": [
        {
          "output_type": "stream",
          "name": "stdout",
          "text": [
            "(7, 1034641)\n"
          ]
        }
      ]
    },
    {
      "cell_type": "markdown",
      "source": [
        "So far we've ignored an important point - we're supposed to have 5 variables, not 6! As you may have guessed, `noiseMask` helps us throw away data we dont want (e.g., from land mass or bad pixels). \n",
        "\n",
        "We're now going to clean up the stacked dataset using the noise mask. Relax and read through the code, since there won't be a question in this part :) "
      ],
      "metadata": {
        "id": "MZGPnmooffKy"
      }
    },
    {
      "cell_type": "code",
      "source": [
        "# Let's redefine stacked as all the points where noiseMask = 1, since noisemask\n",
        "# is binary data.\n",
        "\n",
        "print(f'Dataset shape before processing: {stacked.to_array().values.shape}')\n",
        "\n",
        "print(\"Let's do some data cleaning!\")\n",
        "print(f'Points before cleaning: {len(stacked.BPT)}')\n",
        "stacked = stacked.where(stacked.noiseMask==1, drop=True)\n",
        "print(f'Points after cleaning: {len(stacked.BPT)}')"
      ],
      "metadata": {
        "id": "sbXscaE_fcOj",
        "colab": {
          "base_uri": "https://localhost:8080/"
        },
        "outputId": "866f0ff2-9237-49d3-e69c-7c4b7bd9db9c"
      },
      "execution_count": 35,
      "outputs": [
        {
          "output_type": "stream",
          "name": "stdout",
          "text": [
            "Dataset shape before processing: (7, 1034641)\n",
            "Let's do some data cleaning!\n",
            "Points before cleaning: 1034641\n",
            "Points after cleaning: 299428\n"
          ]
        }
      ]
    },
    {
      "cell_type": "code",
      "source": [
        "# We also no longer need the noiseMask variable, so we can just drop it.\n",
        "\n",
        "print('And drop the noisemask variable...')\n",
        "print(f'Before dropping: {stacked.to_array().values.shape}')\n",
        "stacked = stacked.drop('noiseMask')\n",
        "print(f'Dataset shape after processing: {stacked.to_array().values.shape}')"
      ],
      "metadata": {
        "id": "crX5HoD3C3Ls",
        "colab": {
          "base_uri": "https://localhost:8080/"
        },
        "outputId": "d7882b4d-7ee2-45c5-c602-9072bec355d9"
      },
      "execution_count": 36,
      "outputs": [
        {
          "output_type": "stream",
          "name": "stdout",
          "text": [
            "And drop the noisemask variable...\n",
            "Before dropping: (7, 299428)\n",
            "Dataset shape after processing: (6, 299428)\n"
          ]
        }
      ]
    },
    {
      "cell_type": "markdown",
      "source": [
        "We now have several thousand points which we want to divide into clusters using the kmeans clustering algorithm (you can check out the documentation for scikit's implementation of kmeans [here](https://scikit-learn.org/stable/modules/generated/sklearn.cluster.KMeans.html)).\n",
        "\n",
        "You'll note that the algorithm expects the input data `X` to be fed as `(n_samples, n_features)`. This is the opposite of what we have! Let's go ahead and make a copy to a numpy array has the axes in the right order.\n",
        "\n",
        "You'll need xarray's [`.to_array()`](https://xarray.pydata.org/en/stable/generated/xarray.Dataset.to_array.html) method and [`.values`](https://xarray.pydata.org/en/stable/generated/xarray.DataArray.values.html) parameter, as well as numpy's [`.moveaxis`](https://numpy.org/doc/stable/reference/generated/numpy.moveaxis.html) method.\n",
        "\n",
        "###**Q7) Load the datapoints into a numpy array following the convention where the 0th axis corresponds to the samples and the 1st axis corresponds to the features.** "
      ],
      "metadata": {
        "id": "5Pol90vsU_wv"
      }
    },
    {
      "cell_type": "code",
      "source": [
        "# Complete the code\n",
        "input_data = np.moveaxis(stacked.to_array().values,  # data to reshape\n",
        "                         0,          # source axis as integer, \n",
        "                         1)          # destination axis as integer"
      ],
      "metadata": {
        "id": "uu0AVVkPeTzC"
      },
      "execution_count": 37,
      "outputs": []
    },
    {
      "cell_type": "code",
      "source": [
        "# Does the input data look the way it's supposed to? Print the shape.\n",
        "print(input_data.shape)"
      ],
      "metadata": {
        "id": "Vi9GZ-XsC6Nd",
        "colab": {
          "base_uri": "https://localhost:8080/"
        },
        "outputId": "3a01cccf-8530-463d-c0d0-c4dc0f1b6bcf"
      },
      "execution_count": 38,
      "outputs": [
        {
          "output_type": "stream",
          "name": "stdout",
          "text": [
            "(299428, 6)\n"
          ]
        }
      ]
    },
    {
      "cell_type": "markdown",
      "source": [
        "In previous classes we discussed the importance of the scaling the data before implementing our algorithms. Now that our data is all but ready to be fed into an algorithm, let's make sure that it's been scaled.\n",
        "\n",
        "###**Q8) Scale the input data**\n",
        "\n",
        "*Hint 1: Import the [`StandardScaler`](https://scikit-learn.org/stable/modules/generated/sklearn.preprocessing.StandardScaler.html) class from scikit and instantiate it*\n",
        "\n",
        "*Hint 2: Update the input array to the one returned by the [`.fit_transform(X)`](https://scikit-learn.org/stable/modules/generated/sklearn.preprocessing.StandardScaler.html#sklearn.preprocessing.StandardScaler.fit_transform) method*"
      ],
      "metadata": {
        "id": "AoZSkMieiL9O"
      }
    },
    {
      "cell_type": "code",
      "source": [
        "#Write your scaling code here\n",
        "from sklearn.preprocessing import StandardScaler\n",
        "ss = StandardScaler()\n",
        "\n",
        "data_ss = ss.fit_transform(input_data)\n",
        "data_ss.shape"
      ],
      "metadata": {
        "id": "D2sZPWf1ignO",
        "colab": {
          "base_uri": "https://localhost:8080/"
        },
        "outputId": "21d21ffe-d830-43ea-df0b-6c3e97614aee"
      },
      "execution_count": 39,
      "outputs": [
        {
          "output_type": "stream",
          "name": "stderr",
          "text": [
            "/usr/local/lib/python3.7/dist-packages/sklearn/utils/extmath.py:985: RuntimeWarning: invalid value encountered in true_divide\n",
            "  updated_mean = (last_sum + new_sum) / updated_sample_count\n",
            "/usr/local/lib/python3.7/dist-packages/sklearn/utils/extmath.py:990: RuntimeWarning: invalid value encountered in true_divide\n",
            "  T = new_sum / new_sample_count\n",
            "/usr/local/lib/python3.7/dist-packages/sklearn/utils/extmath.py:1020: RuntimeWarning: invalid value encountered in true_divide\n",
            "  new_unnormalized_variance -= correction ** 2 / new_sample_count\n"
          ]
        },
        {
          "output_type": "execute_result",
          "data": {
            "text/plain": [
              "(299428, 6)"
            ]
          },
          "metadata": {},
          "execution_count": 39
        }
      ]
    },
    {
      "cell_type": "markdown",
      "source": [
        "Now we're finally ready to train our algorithm! Let's load up the kmeans model and find clusters in our data.\n",
        "\n",
        "###**Q9) Instantiate the kmeans clustering algorithm, and then fit it using 50 clusters, trying out 10 different initial centroids.**\n",
        "\n",
        "*Hint 1: `sklearn.cluster` was imported as `cluser` during the notebook setup! [Here is the scikit `KMeans` documentation](https://scikit-learn.org/stable/modules/generated/sklearn.cluster.KMeans.html).*\n",
        "\n",
        "*Hint 2: Use the `fit_predict` method to organize the data into clusters*\n",
        "\n",
        "*Warning! : Fitting the data may take some time (under a minute during the testing of the notebook)"
      ],
      "metadata": {
        "id": "_z3e6dU8rInv"
      }
    },
    {
      "cell_type": "code",
      "source": [
        "# Complete the code\n",
        "kmeans = cluster.KMeans(n_clusters = 50,  # Number of clusters\n",
        "                        random_state = 42, # setting a random state\n",
        "                        n_init = 10, # Number of initial centroid states to try\n",
        "                       verbose = 1)   # Verbosity so we know things are working"
      ],
      "metadata": {
        "id": "DtYyiksRrHPm"
      },
      "execution_count": 40,
      "outputs": []
    },
    {
      "cell_type": "code",
      "source": [
        "cluster_labels = kmeans.fit_predict(data_ss[:, 0:-1]) # Feed in out scaled input data!"
      ],
      "metadata": {
        "id": "ohuw1WFiC8kS",
        "colab": {
          "base_uri": "https://localhost:8080/"
        },
        "outputId": "aa0b05e6-8d6b-4808-e4c1-c2301f691628"
      },
      "execution_count": 41,
      "outputs": [
        {
          "output_type": "stream",
          "name": "stdout",
          "text": [
            "Initialization complete\n",
            "Iteration 0, inertia 359119.2913557973\n",
            "Iteration 1, inertia 320069.45190994756\n",
            "Iteration 2, inertia 310737.0153657928\n",
            "Iteration 3, inertia 306883.3769611521\n",
            "Iteration 4, inertia 304762.325362977\n",
            "Iteration 5, inertia 303335.26413577684\n",
            "Iteration 6, inertia 302400.1509685686\n",
            "Iteration 7, inertia 301486.43911080214\n",
            "Iteration 8, inertia 300721.9196375757\n",
            "Iteration 9, inertia 299895.42952961614\n",
            "Iteration 10, inertia 299147.5500695904\n",
            "Iteration 11, inertia 298592.60728380055\n",
            "Iteration 12, inertia 298185.7422085712\n",
            "Iteration 13, inertia 297883.18608963245\n",
            "Iteration 14, inertia 297632.5916951834\n",
            "Iteration 15, inertia 297426.3978929523\n",
            "Iteration 16, inertia 297257.8487120475\n",
            "Iteration 17, inertia 297136.0661485236\n",
            "Iteration 18, inertia 297043.9285685101\n",
            "Iteration 19, inertia 296955.55744498555\n",
            "Iteration 20, inertia 296862.4567630689\n",
            "Iteration 21, inertia 296772.3824946009\n",
            "Iteration 22, inertia 296710.8527191845\n",
            "Iteration 23, inertia 296669.3465232016\n",
            "Iteration 24, inertia 296645.5346690768\n",
            "Iteration 25, inertia 296630.4733492885\n",
            "Iteration 26, inertia 296618.3703792299\n",
            "Iteration 27, inertia 296609.14575320814\n",
            "Iteration 28, inertia 296603.0480602517\n",
            "Iteration 29, inertia 296597.15317907225\n",
            "Iteration 30, inertia 296590.6799380524\n",
            "Iteration 31, inertia 296587.24315503857\n",
            "Iteration 32, inertia 296584.75022710214\n",
            "Iteration 33, inertia 296582.2136924792\n",
            "Iteration 34, inertia 296580.58845767204\n",
            "Iteration 35, inertia 296579.42643222574\n",
            "Iteration 36, inertia 296578.3660329102\n",
            "Iteration 37, inertia 296577.47880105756\n",
            "Iteration 38, inertia 296576.1026569619\n",
            "Iteration 39, inertia 296574.5640704143\n",
            "Iteration 40, inertia 296573.056670464\n",
            "Iteration 41, inertia 296571.60358740506\n",
            "Iteration 42, inertia 296568.4821640217\n",
            "Iteration 43, inertia 296563.4080565191\n",
            "Iteration 44, inertia 296561.2162210342\n",
            "Iteration 45, inertia 296556.58071734244\n",
            "Iteration 46, inertia 296552.37592387095\n",
            "Iteration 47, inertia 296548.84968494397\n",
            "Iteration 48, inertia 296545.6116176423\n",
            "Iteration 49, inertia 296540.4733063409\n",
            "Iteration 50, inertia 296533.663218091\n",
            "Iteration 51, inertia 296526.616562699\n",
            "Iteration 52, inertia 296522.1895097712\n",
            "Iteration 53, inertia 296519.5874616325\n",
            "Iteration 54, inertia 296516.37698140607\n",
            "Iteration 55, inertia 296512.295721891\n",
            "Iteration 56, inertia 296509.7006391067\n",
            "Iteration 57, inertia 296507.08436161594\n",
            "Iteration 58, inertia 296504.37468462286\n",
            "Iteration 59, inertia 296502.0059837484\n",
            "Iteration 60, inertia 296499.52057411196\n",
            "Iteration 61, inertia 296497.07509412896\n",
            "Iteration 62, inertia 296495.46600909764\n",
            "Iteration 63, inertia 296493.71040529653\n",
            "Iteration 64, inertia 296491.631779934\n",
            "Iteration 65, inertia 296489.7464237447\n",
            "Iteration 66, inertia 296487.8254040513\n",
            "Iteration 67, inertia 296486.5586395884\n",
            "Iteration 68, inertia 296484.6857140707\n",
            "Iteration 69, inertia 296481.42333326075\n",
            "Iteration 70, inertia 296478.67844545527\n",
            "Iteration 71, inertia 296476.62220682984\n",
            "Iteration 72, inertia 296475.28239952924\n",
            "Iteration 73, inertia 296474.2543617595\n",
            "Converged at iteration 73: center shift 9.613460697863714e-05 within tolerance 9.999999999999823e-05.\n",
            "Initialization complete\n",
            "Iteration 0, inertia 354726.50491744763\n",
            "Iteration 1, inertia 314763.09335843223\n",
            "Iteration 2, inertia 305786.5939725863\n",
            "Iteration 3, inertia 301191.95480788825\n",
            "Iteration 4, inertia 299491.8868207428\n",
            "Iteration 5, inertia 298131.02520482003\n",
            "Iteration 6, inertia 296755.53364002844\n",
            "Iteration 7, inertia 295709.6498689302\n",
            "Iteration 8, inertia 295102.86649352644\n",
            "Iteration 9, inertia 294616.23312346754\n",
            "Iteration 10, inertia 294325.2051371287\n",
            "Iteration 11, inertia 294098.3955964496\n",
            "Iteration 12, inertia 293916.6252662193\n",
            "Iteration 13, inertia 293749.21855688735\n",
            "Iteration 14, inertia 293599.39823951904\n",
            "Iteration 15, inertia 293468.25206894835\n",
            "Iteration 16, inertia 293306.0777592374\n",
            "Iteration 17, inertia 293165.9346102364\n",
            "Iteration 18, inertia 293046.7971738142\n",
            "Iteration 19, inertia 292945.9149079913\n",
            "Iteration 20, inertia 292831.26045148034\n",
            "Iteration 21, inertia 292726.00709996856\n",
            "Iteration 22, inertia 292609.65309448907\n",
            "Iteration 23, inertia 292500.0055557819\n",
            "Iteration 24, inertia 292420.75006404275\n",
            "Iteration 25, inertia 292375.42173826846\n",
            "Iteration 26, inertia 292346.80218139174\n",
            "Iteration 27, inertia 292311.7083336727\n",
            "Iteration 28, inertia 292292.1546995309\n",
            "Iteration 29, inertia 292278.5866323202\n",
            "Iteration 30, inertia 292261.9667640226\n",
            "Iteration 31, inertia 292248.3721997669\n",
            "Iteration 32, inertia 292236.44332636026\n",
            "Iteration 33, inertia 292222.10368737037\n",
            "Iteration 34, inertia 292211.9094581045\n",
            "Iteration 35, inertia 292197.17800101667\n",
            "Iteration 36, inertia 292183.02393664164\n",
            "Iteration 37, inertia 292174.50995173247\n",
            "Iteration 38, inertia 292166.3658759078\n",
            "Iteration 39, inertia 292162.9457396433\n",
            "Iteration 40, inertia 292158.32597274974\n",
            "Iteration 41, inertia 292157.31813485426\n",
            "Iteration 42, inertia 292156.36595857167\n",
            "Converged at iteration 42: center shift 8.65914287518556e-05 within tolerance 9.999999999999823e-05.\n",
            "Initialization complete\n",
            "Iteration 0, inertia 358375.64433888264\n",
            "Iteration 1, inertia 322295.6539110467\n",
            "Iteration 2, inertia 313783.92094832833\n",
            "Iteration 3, inertia 309436.8161220582\n",
            "Iteration 4, inertia 306965.50281180843\n",
            "Iteration 5, inertia 305070.97187004925\n",
            "Iteration 6, inertia 303615.28898211656\n",
            "Iteration 7, inertia 302106.84192352253\n",
            "Iteration 8, inertia 301109.0042171951\n",
            "Iteration 9, inertia 300437.74216989824\n",
            "Iteration 10, inertia 299983.00392564153\n",
            "Iteration 11, inertia 299416.60330653185\n",
            "Iteration 12, inertia 299047.2877823807\n",
            "Iteration 13, inertia 298725.8660816298\n",
            "Iteration 14, inertia 298370.35915725597\n",
            "Iteration 15, inertia 297998.9496765202\n",
            "Iteration 16, inertia 297688.036790624\n",
            "Iteration 17, inertia 297490.85613226757\n",
            "Iteration 18, inertia 297352.1142181214\n",
            "Iteration 19, inertia 297208.6707519982\n",
            "Iteration 20, inertia 297102.4377075003\n",
            "Iteration 21, inertia 297022.46740505705\n",
            "Iteration 22, inertia 296937.05333128414\n",
            "Iteration 23, inertia 296857.6343071763\n",
            "Iteration 24, inertia 296793.09777998173\n",
            "Iteration 25, inertia 296726.44902936555\n",
            "Iteration 26, inertia 296646.2249413283\n",
            "Iteration 27, inertia 296541.8627886276\n",
            "Iteration 28, inertia 296403.60672366794\n",
            "Iteration 29, inertia 296233.19287268096\n",
            "Iteration 30, inertia 296025.32753752684\n",
            "Iteration 31, inertia 295744.7868117248\n",
            "Iteration 32, inertia 295391.0931266599\n",
            "Iteration 33, inertia 294947.4293529488\n",
            "Iteration 34, inertia 294559.3936958093\n",
            "Iteration 35, inertia 294249.32606926287\n",
            "Iteration 36, inertia 294004.6804077126\n",
            "Iteration 37, inertia 293850.49585761485\n",
            "Iteration 38, inertia 293739.17801780236\n",
            "Iteration 39, inertia 293618.54828783055\n",
            "Iteration 40, inertia 293535.17546319915\n",
            "Iteration 41, inertia 293473.0992843538\n",
            "Iteration 42, inertia 293374.5326559009\n",
            "Iteration 43, inertia 293298.1366831247\n",
            "Iteration 44, inertia 293215.4033063427\n",
            "Iteration 45, inertia 293111.10613474465\n",
            "Iteration 46, inertia 292973.3381104915\n",
            "Iteration 47, inertia 292851.04199054046\n",
            "Iteration 48, inertia 292761.88214623637\n",
            "Iteration 49, inertia 292649.0435173453\n",
            "Iteration 50, inertia 292448.6175460794\n",
            "Iteration 51, inertia 292221.2550772171\n",
            "Iteration 52, inertia 292025.89768883015\n",
            "Iteration 53, inertia 291831.62891325244\n",
            "Iteration 54, inertia 291690.28305186226\n",
            "Iteration 55, inertia 291639.48940569826\n",
            "Iteration 56, inertia 291601.6634786556\n",
            "Iteration 57, inertia 291575.9426188953\n",
            "Iteration 58, inertia 291546.41433096153\n",
            "Iteration 59, inertia 291521.16435451095\n",
            "Iteration 60, inertia 291501.8326603804\n",
            "Iteration 61, inertia 291485.42566416337\n",
            "Iteration 62, inertia 291478.53255899786\n",
            "Iteration 63, inertia 291472.2082299716\n",
            "Iteration 64, inertia 291469.8420211464\n",
            "Iteration 65, inertia 291468.3442122112\n",
            "Iteration 66, inertia 291467.38161328336\n",
            "Converged at iteration 66: center shift 9.047717723832818e-05 within tolerance 9.999999999999823e-05.\n",
            "Initialization complete\n",
            "Iteration 0, inertia 362375.77425590303\n",
            "Iteration 1, inertia 322008.0440707588\n",
            "Iteration 2, inertia 313147.2197792243\n",
            "Iteration 3, inertia 309613.5635710788\n",
            "Iteration 4, inertia 307359.4206767581\n",
            "Iteration 5, inertia 305628.610254825\n",
            "Iteration 6, inertia 303985.5121614259\n",
            "Iteration 7, inertia 302931.3642402453\n",
            "Iteration 8, inertia 302024.975150989\n",
            "Iteration 9, inertia 301434.0916129003\n",
            "Iteration 10, inertia 300822.08681155526\n",
            "Iteration 11, inertia 300088.67756413284\n",
            "Iteration 12, inertia 299743.6419335356\n",
            "Iteration 13, inertia 299567.87604677206\n",
            "Iteration 14, inertia 299452.56652373227\n",
            "Iteration 15, inertia 299400.7322349523\n",
            "Iteration 16, inertia 299352.7885474016\n",
            "Iteration 17, inertia 299303.6283321901\n",
            "Iteration 18, inertia 299236.4290012326\n",
            "Iteration 19, inertia 299136.5119613267\n",
            "Iteration 20, inertia 299041.0756146781\n",
            "Iteration 21, inertia 298949.4216728251\n",
            "Iteration 22, inertia 298888.44091766677\n",
            "Iteration 23, inertia 298844.20713351655\n",
            "Iteration 24, inertia 298790.5398745167\n",
            "Iteration 25, inertia 298727.14919168997\n",
            "Iteration 26, inertia 298645.99761006865\n",
            "Iteration 27, inertia 298587.4098702989\n",
            "Iteration 28, inertia 298543.60778152134\n",
            "Iteration 29, inertia 298490.0836719711\n",
            "Iteration 30, inertia 298431.64496853715\n",
            "Iteration 31, inertia 298359.78520672466\n",
            "Iteration 32, inertia 298269.0089703398\n",
            "Iteration 33, inertia 298174.4908478965\n",
            "Iteration 34, inertia 298113.94499531516\n",
            "Iteration 35, inertia 298072.0240695452\n",
            "Iteration 36, inertia 298044.86694326124\n",
            "Iteration 37, inertia 298007.4006704252\n",
            "Iteration 38, inertia 297967.6459401879\n",
            "Iteration 39, inertia 297921.8402573401\n",
            "Iteration 40, inertia 297866.0987325695\n",
            "Iteration 41, inertia 297813.15584482066\n",
            "Iteration 42, inertia 297766.3803580585\n",
            "Iteration 43, inertia 297726.6695864968\n",
            "Iteration 44, inertia 297697.3909518687\n",
            "Iteration 45, inertia 297667.1276621214\n",
            "Iteration 46, inertia 297631.03015628975\n",
            "Iteration 47, inertia 297595.9475744076\n",
            "Iteration 48, inertia 297549.2770158662\n",
            "Iteration 49, inertia 297484.0306588595\n",
            "Iteration 50, inertia 297432.9164643348\n",
            "Iteration 51, inertia 297340.131471824\n",
            "Iteration 52, inertia 297285.7634225769\n",
            "Iteration 53, inertia 297242.67907433305\n",
            "Iteration 54, inertia 297225.5623611116\n",
            "Iteration 55, inertia 297208.9120007654\n",
            "Iteration 56, inertia 297190.8702945441\n",
            "Iteration 57, inertia 297182.38123845914\n",
            "Iteration 58, inertia 297173.9549653422\n",
            "Iteration 59, inertia 297163.80114957155\n",
            "Iteration 60, inertia 297153.45567763876\n",
            "Iteration 61, inertia 297142.3792420589\n",
            "Iteration 62, inertia 297132.39470337325\n",
            "Iteration 63, inertia 297124.5237288003\n",
            "Iteration 64, inertia 297116.60676005227\n",
            "Iteration 65, inertia 297105.30749735533\n",
            "Iteration 66, inertia 297094.7137311308\n",
            "Iteration 67, inertia 297089.1202444916\n",
            "Iteration 68, inertia 297081.4232680746\n",
            "Iteration 69, inertia 297071.59017174825\n",
            "Iteration 70, inertia 297058.48059992364\n",
            "Iteration 71, inertia 297044.0192066198\n",
            "Iteration 72, inertia 297033.29977709416\n",
            "Iteration 73, inertia 297027.3909465927\n",
            "Iteration 74, inertia 297023.5780237954\n",
            "Iteration 75, inertia 297020.810778644\n",
            "Iteration 76, inertia 297018.61846480053\n",
            "Iteration 77, inertia 297016.1832861206\n",
            "Iteration 78, inertia 297013.9530521846\n",
            "Iteration 79, inertia 297010.0736913936\n",
            "Iteration 80, inertia 297007.3564643761\n",
            "Iteration 81, inertia 297005.6813828592\n",
            "Iteration 82, inertia 297004.7525272913\n",
            "Iteration 83, inertia 297004.1309347268\n",
            "Iteration 84, inertia 297003.55066848686\n",
            "Iteration 85, inertia 297003.19520393474\n",
            "Iteration 86, inertia 297002.6934072912\n",
            "Iteration 87, inertia 297002.01795246615\n",
            "Iteration 88, inertia 296999.8794030675\n",
            "Iteration 89, inertia 296998.0398767506\n",
            "Iteration 90, inertia 296996.641874349\n",
            "Iteration 91, inertia 296994.49059859244\n",
            "Iteration 92, inertia 296992.41174931463\n",
            "Iteration 93, inertia 296990.8402891864\n",
            "Iteration 94, inertia 296989.1866188181\n",
            "Iteration 95, inertia 296987.3048124169\n",
            "Iteration 96, inertia 296984.5541588216\n",
            "Iteration 97, inertia 296982.5154584091\n",
            "Iteration 98, inertia 296980.829023632\n",
            "Iteration 99, inertia 296978.47909102857\n",
            "Iteration 100, inertia 296976.5466232841\n",
            "Iteration 101, inertia 296973.8638346691\n",
            "Iteration 102, inertia 296970.1999108553\n",
            "Iteration 103, inertia 296968.0624215166\n",
            "Iteration 104, inertia 296966.17331052106\n",
            "Iteration 105, inertia 296964.17022212554\n",
            "Iteration 106, inertia 296963.86691430036\n",
            "Converged at iteration 106: center shift 8.928916562973927e-05 within tolerance 9.999999999999823e-05.\n",
            "Initialization complete\n",
            "Iteration 0, inertia 371102.57754718134\n",
            "Iteration 1, inertia 325791.60319145344\n",
            "Iteration 2, inertia 314027.6197795421\n",
            "Iteration 3, inertia 308117.4910992316\n",
            "Iteration 4, inertia 303962.6183177511\n",
            "Iteration 5, inertia 301767.8411108592\n",
            "Iteration 6, inertia 300218.4255966234\n",
            "Iteration 7, inertia 298925.7514643071\n",
            "Iteration 8, inertia 297766.2505980012\n",
            "Iteration 9, inertia 297053.37328134885\n",
            "Iteration 10, inertia 296534.23051316856\n",
            "Iteration 11, inertia 296202.1588793884\n",
            "Iteration 12, inertia 295919.6859643784\n",
            "Iteration 13, inertia 295725.8633284109\n",
            "Iteration 14, inertia 295534.39789325395\n",
            "Iteration 15, inertia 295387.2007752004\n",
            "Iteration 16, inertia 295260.10162087856\n",
            "Iteration 17, inertia 295116.93312582956\n",
            "Iteration 18, inertia 294952.3217453353\n",
            "Iteration 19, inertia 294789.72201076674\n",
            "Iteration 20, inertia 294618.8789618118\n",
            "Iteration 21, inertia 294408.31024158926\n",
            "Iteration 22, inertia 294181.5049204645\n",
            "Iteration 23, inertia 294004.41126249346\n",
            "Iteration 24, inertia 293864.12999060715\n",
            "Iteration 25, inertia 293755.53820772935\n",
            "Iteration 26, inertia 293665.45271621796\n",
            "Iteration 27, inertia 293577.6738299859\n",
            "Iteration 28, inertia 293528.11734906223\n",
            "Iteration 29, inertia 293478.0035995994\n",
            "Iteration 30, inertia 293427.2428998619\n",
            "Iteration 31, inertia 293398.83692591486\n",
            "Iteration 32, inertia 293375.1075411898\n",
            "Iteration 33, inertia 293353.3758078263\n",
            "Iteration 34, inertia 293333.6567240327\n",
            "Iteration 35, inertia 293322.44065208593\n",
            "Iteration 36, inertia 293310.77887387073\n",
            "Iteration 37, inertia 293295.0825286752\n",
            "Iteration 38, inertia 293289.49632223113\n",
            "Iteration 39, inertia 293286.4303227544\n",
            "Iteration 40, inertia 293284.67958741495\n",
            "Iteration 41, inertia 293283.13938629185\n",
            "Iteration 42, inertia 293282.0570200297\n",
            "Iteration 43, inertia 293280.0754646382\n",
            "Iteration 44, inertia 293274.87318953767\n",
            "Iteration 45, inertia 293270.82464366354\n",
            "Iteration 46, inertia 293266.2659324898\n",
            "Iteration 47, inertia 293259.267831743\n",
            "Iteration 48, inertia 293256.5547323021\n",
            "Iteration 49, inertia 293252.4781735302\n",
            "Iteration 50, inertia 293249.1302806643\n",
            "Iteration 51, inertia 293244.7116045229\n",
            "Iteration 52, inertia 293236.1225977355\n",
            "Iteration 53, inertia 293218.08325845224\n",
            "Iteration 54, inertia 293209.23800488247\n",
            "Iteration 55, inertia 293207.71268972056\n",
            "Iteration 56, inertia 293207.3574618045\n",
            "Iteration 57, inertia 293207.18874942855\n",
            "Converged at iteration 57: center shift 2.348176581814688e-05 within tolerance 9.999999999999823e-05.\n",
            "Initialization complete\n",
            "Iteration 0, inertia 355863.9458436369\n",
            "Iteration 1, inertia 322305.22012853273\n",
            "Iteration 2, inertia 311865.9336421827\n",
            "Iteration 3, inertia 306685.0051052611\n",
            "Iteration 4, inertia 303687.0664192872\n",
            "Iteration 5, inertia 302069.888778969\n",
            "Iteration 6, inertia 301151.8034043219\n",
            "Iteration 7, inertia 300620.681470211\n",
            "Iteration 8, inertia 300308.3079570569\n",
            "Iteration 9, inertia 300054.83139455237\n",
            "Iteration 10, inertia 299827.35434988514\n",
            "Iteration 11, inertia 299631.62060114706\n",
            "Iteration 12, inertia 299516.05112843413\n",
            "Iteration 13, inertia 299419.1903332678\n",
            "Iteration 14, inertia 299318.81704740267\n",
            "Iteration 15, inertia 299225.37309244723\n",
            "Iteration 16, inertia 299135.266033761\n",
            "Iteration 17, inertia 299057.1081860698\n",
            "Iteration 18, inertia 298951.4877634232\n",
            "Iteration 19, inertia 298854.1103018692\n",
            "Iteration 20, inertia 298756.184701922\n",
            "Iteration 21, inertia 298665.93425370223\n",
            "Iteration 22, inertia 298586.68371636805\n",
            "Iteration 23, inertia 298522.3477592601\n",
            "Iteration 24, inertia 298461.8633886826\n",
            "Iteration 25, inertia 298412.901143026\n",
            "Iteration 26, inertia 298366.1312893236\n",
            "Iteration 27, inertia 298317.02076676406\n",
            "Iteration 28, inertia 298270.40929723904\n",
            "Iteration 29, inertia 298227.06768823345\n",
            "Iteration 30, inertia 298191.67835993605\n",
            "Iteration 31, inertia 298164.2808519464\n",
            "Iteration 32, inertia 298139.8975470066\n",
            "Iteration 33, inertia 298114.84582584485\n",
            "Iteration 34, inertia 298096.28682678624\n",
            "Iteration 35, inertia 298078.58355849725\n",
            "Iteration 36, inertia 298066.75377360225\n",
            "Iteration 37, inertia 298057.92686568794\n",
            "Iteration 38, inertia 298046.3980262001\n",
            "Iteration 39, inertia 298034.2500593505\n",
            "Iteration 40, inertia 298018.2391372607\n",
            "Iteration 41, inertia 298006.3470492205\n",
            "Iteration 42, inertia 297993.6535354626\n",
            "Iteration 43, inertia 297975.8635920696\n",
            "Iteration 44, inertia 297956.8314059524\n",
            "Iteration 45, inertia 297943.60873451456\n",
            "Iteration 46, inertia 297924.7766339478\n",
            "Iteration 47, inertia 297912.2786191395\n",
            "Iteration 48, inertia 297900.54565815587\n",
            "Iteration 49, inertia 297887.30089240323\n",
            "Iteration 50, inertia 297875.6457636206\n",
            "Iteration 51, inertia 297865.3506196185\n",
            "Iteration 52, inertia 297851.00412284234\n",
            "Iteration 53, inertia 297832.5851286303\n",
            "Iteration 54, inertia 297809.51584506116\n",
            "Iteration 55, inertia 297780.6938173355\n",
            "Iteration 56, inertia 297750.3469303799\n",
            "Iteration 57, inertia 297717.1546284343\n",
            "Iteration 58, inertia 297685.7068293075\n",
            "Iteration 59, inertia 297658.1475603642\n",
            "Iteration 60, inertia 297630.46399739815\n",
            "Iteration 61, inertia 297600.16559086484\n",
            "Iteration 62, inertia 297564.0109584509\n",
            "Iteration 63, inertia 297506.92328439315\n",
            "Iteration 64, inertia 297434.6236419535\n",
            "Iteration 65, inertia 297378.3087794762\n",
            "Iteration 66, inertia 297328.7093236258\n",
            "Iteration 67, inertia 297271.0498542863\n",
            "Iteration 68, inertia 297207.06611123256\n",
            "Iteration 69, inertia 297151.06740930554\n",
            "Iteration 70, inertia 297112.1468444519\n",
            "Iteration 71, inertia 297076.8534846959\n",
            "Iteration 72, inertia 297043.26898937824\n",
            "Iteration 73, inertia 297022.4479292672\n",
            "Iteration 74, inertia 297001.6495056746\n",
            "Iteration 75, inertia 296979.7915585997\n",
            "Iteration 76, inertia 296963.4117437458\n",
            "Iteration 77, inertia 296953.5204690659\n",
            "Iteration 78, inertia 296943.18724405416\n",
            "Iteration 79, inertia 296933.5695883427\n",
            "Iteration 80, inertia 296923.6519162405\n",
            "Iteration 81, inertia 296909.7916681542\n",
            "Iteration 82, inertia 296895.3368409616\n",
            "Iteration 83, inertia 296874.5208217478\n",
            "Iteration 84, inertia 296853.7616090538\n",
            "Iteration 85, inertia 296831.878362338\n",
            "Iteration 86, inertia 296816.6649311931\n",
            "Iteration 87, inertia 296798.6741773381\n",
            "Iteration 88, inertia 296765.1190155937\n",
            "Iteration 89, inertia 296732.2352336452\n",
            "Iteration 90, inertia 296709.1850525598\n",
            "Iteration 91, inertia 296680.866277781\n",
            "Iteration 92, inertia 296641.5751385796\n",
            "Iteration 93, inertia 296601.16500912874\n",
            "Iteration 94, inertia 296567.7025294835\n",
            "Iteration 95, inertia 296542.3064732553\n",
            "Iteration 96, inertia 296523.70909891854\n",
            "Iteration 97, inertia 296510.8652557981\n",
            "Iteration 98, inertia 296502.80459383904\n",
            "Iteration 99, inertia 296495.0400904188\n",
            "Iteration 100, inertia 296489.02447446017\n",
            "Iteration 101, inertia 296482.03669351595\n",
            "Iteration 102, inertia 296476.87994118634\n",
            "Iteration 103, inertia 296472.1636977284\n",
            "Iteration 104, inertia 296463.4290380579\n",
            "Iteration 105, inertia 296455.868823207\n",
            "Iteration 106, inertia 296447.3023650374\n",
            "Iteration 107, inertia 296435.56703228573\n",
            "Iteration 108, inertia 296426.31205040496\n",
            "Iteration 109, inertia 296422.88762082317\n",
            "Iteration 110, inertia 296419.60473671724\n",
            "Iteration 111, inertia 296416.8487379089\n",
            "Iteration 112, inertia 296407.77052743593\n",
            "Iteration 113, inertia 296402.56743666995\n",
            "Iteration 114, inertia 296393.8011453147\n",
            "Iteration 115, inertia 296391.9840618088\n",
            "Iteration 116, inertia 296390.2348254809\n",
            "Iteration 117, inertia 296385.200344013\n",
            "Iteration 118, inertia 296374.29152778076\n",
            "Iteration 119, inertia 296348.7106940832\n",
            "Iteration 120, inertia 296325.33198438224\n",
            "Iteration 121, inertia 296312.5869537875\n",
            "Iteration 122, inertia 296303.7331410094\n",
            "Iteration 123, inertia 296293.4287169266\n",
            "Iteration 124, inertia 296279.6213506566\n",
            "Iteration 125, inertia 296267.2232425236\n",
            "Iteration 126, inertia 296247.75947099517\n",
            "Iteration 127, inertia 296224.53971725336\n",
            "Iteration 128, inertia 296214.9950849409\n",
            "Iteration 129, inertia 296205.1555941243\n",
            "Iteration 130, inertia 296199.41644675954\n",
            "Iteration 131, inertia 296196.2741864028\n",
            "Iteration 132, inertia 296193.57621442026\n",
            "Iteration 133, inertia 296191.2152962993\n",
            "Iteration 134, inertia 296189.9924136228\n",
            "Iteration 135, inertia 296189.27180911927\n",
            "Iteration 136, inertia 296188.85612575256\n",
            "Iteration 137, inertia 296188.2960552692\n",
            "Iteration 138, inertia 296187.673528445\n",
            "Iteration 139, inertia 296187.2186279044\n",
            "Iteration 140, inertia 296186.904415944\n",
            "Converged at iteration 140: center shift 8.749096893899694e-05 within tolerance 9.999999999999823e-05.\n",
            "Initialization complete\n",
            "Iteration 0, inertia 370936.0101193504\n",
            "Iteration 1, inertia 328447.32329335646\n",
            "Iteration 2, inertia 317438.81354941026\n",
            "Iteration 3, inertia 312616.98969261465\n",
            "Iteration 4, inertia 308735.95232432947\n",
            "Iteration 5, inertia 306062.8986853383\n",
            "Iteration 6, inertia 304099.4445291769\n",
            "Iteration 7, inertia 302463.3376154511\n",
            "Iteration 8, inertia 301236.2230700404\n",
            "Iteration 9, inertia 300436.9523939394\n",
            "Iteration 10, inertia 299679.63413273427\n",
            "Iteration 11, inertia 298928.8017773663\n",
            "Iteration 12, inertia 298232.1667472699\n",
            "Iteration 13, inertia 297709.0194752815\n",
            "Iteration 14, inertia 297298.10644164245\n",
            "Iteration 15, inertia 296916.9962979838\n",
            "Iteration 16, inertia 296694.0160817306\n",
            "Iteration 17, inertia 296509.5756389598\n",
            "Iteration 18, inertia 296331.52870238456\n",
            "Iteration 19, inertia 296131.39240554115\n",
            "Iteration 20, inertia 295955.39581139735\n",
            "Iteration 21, inertia 295812.6845503142\n",
            "Iteration 22, inertia 295544.5623744086\n",
            "Iteration 23, inertia 295259.62631739106\n",
            "Iteration 24, inertia 295104.59170116193\n",
            "Iteration 25, inertia 294882.0085693503\n",
            "Iteration 26, inertia 294632.5537056743\n",
            "Iteration 27, inertia 294304.8483512163\n",
            "Iteration 28, inertia 294068.70223977644\n",
            "Iteration 29, inertia 293857.3467537739\n",
            "Iteration 30, inertia 293663.0697550044\n",
            "Iteration 31, inertia 293486.00055239827\n",
            "Iteration 32, inertia 293280.2902769118\n",
            "Iteration 33, inertia 293212.5931640694\n",
            "Iteration 34, inertia 293185.96318279393\n",
            "Iteration 35, inertia 293140.05318124534\n",
            "Iteration 36, inertia 293101.0974303421\n",
            "Iteration 37, inertia 293077.1366896632\n",
            "Iteration 38, inertia 293059.0639815312\n",
            "Iteration 39, inertia 293030.74692831805\n",
            "Iteration 40, inertia 293020.05403376545\n",
            "Iteration 41, inertia 293009.141490904\n",
            "Iteration 42, inertia 293003.4889249023\n",
            "Iteration 43, inertia 292994.17509074206\n",
            "Iteration 44, inertia 292985.07514685317\n",
            "Iteration 45, inertia 292979.7123216018\n",
            "Iteration 46, inertia 292977.2837524942\n",
            "Iteration 47, inertia 292973.8361441342\n",
            "Iteration 48, inertia 292971.47161082004\n",
            "Iteration 49, inertia 292969.07812108286\n",
            "Iteration 50, inertia 292967.3291328486\n",
            "Iteration 51, inertia 292966.0481810033\n",
            "Iteration 52, inertia 292965.2852415614\n",
            "Iteration 53, inertia 292964.67863762693\n",
            "Iteration 54, inertia 292964.24923108314\n",
            "Converged at iteration 54: center shift 1.914109650944571e-05 within tolerance 9.999999999999823e-05.\n",
            "Initialization complete\n",
            "Iteration 0, inertia 363504.83046946954\n",
            "Iteration 1, inertia 325890.6318179063\n",
            "Iteration 2, inertia 316479.2117925808\n",
            "Iteration 3, inertia 311685.80336560536\n",
            "Iteration 4, inertia 308517.1248085547\n",
            "Iteration 5, inertia 306134.90945851675\n",
            "Iteration 6, inertia 304533.0203987943\n",
            "Iteration 7, inertia 303331.9983612611\n",
            "Iteration 8, inertia 302124.50404889736\n",
            "Iteration 9, inertia 301236.11802239233\n",
            "Iteration 10, inertia 300461.984624232\n",
            "Iteration 11, inertia 299626.7328497246\n",
            "Iteration 12, inertia 298875.91830873914\n",
            "Iteration 13, inertia 297930.1817407025\n",
            "Iteration 14, inertia 296770.6660959779\n",
            "Iteration 15, inertia 296129.9504812517\n",
            "Iteration 16, inertia 295592.30798660556\n",
            "Iteration 17, inertia 295121.3323248165\n",
            "Iteration 18, inertia 294742.1820283041\n",
            "Iteration 19, inertia 294505.9075761197\n",
            "Iteration 20, inertia 294372.01236836764\n",
            "Iteration 21, inertia 294272.5912667798\n",
            "Iteration 22, inertia 294210.0052264392\n",
            "Iteration 23, inertia 294156.38927341136\n",
            "Iteration 24, inertia 294093.166972568\n",
            "Iteration 25, inertia 294010.3871255217\n",
            "Iteration 26, inertia 293860.9640812968\n",
            "Iteration 27, inertia 293600.1946211833\n",
            "Iteration 28, inertia 293531.35216436116\n",
            "Iteration 29, inertia 293497.479176712\n",
            "Iteration 30, inertia 293477.02748134884\n",
            "Iteration 31, inertia 293448.83585786377\n",
            "Iteration 32, inertia 293416.8001948902\n",
            "Iteration 33, inertia 293394.03225980373\n",
            "Iteration 34, inertia 293378.1853206241\n",
            "Iteration 35, inertia 293362.05511584156\n",
            "Iteration 36, inertia 293346.17284989316\n",
            "Iteration 37, inertia 293336.03600943263\n",
            "Iteration 38, inertia 293329.2298472376\n",
            "Iteration 39, inertia 293322.7475377697\n",
            "Iteration 40, inertia 293316.3737123678\n",
            "Iteration 41, inertia 293309.34477488755\n",
            "Iteration 42, inertia 293300.97016338224\n",
            "Iteration 43, inertia 293284.44051753526\n",
            "Iteration 44, inertia 293261.7328835337\n",
            "Iteration 45, inertia 293237.86771505134\n",
            "Iteration 46, inertia 293215.93723682174\n",
            "Iteration 47, inertia 293202.5404465934\n",
            "Iteration 48, inertia 293193.0603473447\n",
            "Iteration 49, inertia 293182.68489233055\n",
            "Iteration 50, inertia 293171.1322088442\n",
            "Iteration 51, inertia 293155.4440512776\n",
            "Iteration 52, inertia 293140.90191953996\n",
            "Iteration 53, inertia 293131.9476345293\n",
            "Iteration 54, inertia 293120.96169103635\n",
            "Iteration 55, inertia 293114.4062957686\n",
            "Iteration 56, inertia 293109.54920445045\n",
            "Iteration 57, inertia 293106.33325589926\n",
            "Iteration 58, inertia 293101.4395813592\n",
            "Iteration 59, inertia 293098.64330021024\n",
            "Iteration 60, inertia 293095.1480460471\n",
            "Iteration 61, inertia 293090.51051632466\n",
            "Iteration 62, inertia 293084.002262858\n",
            "Iteration 63, inertia 293079.2521682908\n",
            "Iteration 64, inertia 293071.4241427184\n",
            "Iteration 65, inertia 293060.1314623081\n",
            "Iteration 66, inertia 293054.30397115217\n",
            "Iteration 67, inertia 293046.5169428154\n",
            "Iteration 68, inertia 293034.7614870444\n",
            "Iteration 69, inertia 293021.82325807086\n",
            "Iteration 70, inertia 293014.35460969945\n",
            "Iteration 71, inertia 293006.62617878406\n",
            "Iteration 72, inertia 292996.2089605933\n",
            "Iteration 73, inertia 292988.24192372395\n",
            "Iteration 74, inertia 292981.6990704796\n",
            "Iteration 75, inertia 292975.5408404371\n",
            "Iteration 76, inertia 292969.8918105721\n",
            "Iteration 77, inertia 292962.32726700464\n",
            "Iteration 78, inertia 292954.4517175472\n",
            "Iteration 79, inertia 292945.9339971327\n",
            "Iteration 80, inertia 292934.6255511106\n",
            "Iteration 81, inertia 292915.03201864194\n",
            "Iteration 82, inertia 292892.451099947\n",
            "Iteration 83, inertia 292878.0880164083\n",
            "Iteration 84, inertia 292860.98859032977\n",
            "Iteration 85, inertia 292836.8535390791\n",
            "Iteration 86, inertia 292804.26473398105\n",
            "Iteration 87, inertia 292764.06432188593\n",
            "Iteration 88, inertia 292717.27408460993\n",
            "Iteration 89, inertia 292664.5653839273\n",
            "Iteration 90, inertia 292611.97733917565\n",
            "Iteration 91, inertia 292546.20575316454\n",
            "Iteration 92, inertia 292476.9723187629\n",
            "Iteration 93, inertia 292397.1014158702\n",
            "Iteration 94, inertia 292316.9412822922\n",
            "Iteration 95, inertia 292240.36971678294\n",
            "Iteration 96, inertia 292169.43910332787\n",
            "Iteration 97, inertia 292114.0008011418\n",
            "Iteration 98, inertia 292066.13850126136\n",
            "Iteration 99, inertia 292012.49548722594\n",
            "Iteration 100, inertia 291949.724844166\n",
            "Iteration 101, inertia 291878.0266848264\n",
            "Iteration 102, inertia 291831.79441674787\n",
            "Iteration 103, inertia 291804.04906094185\n",
            "Iteration 104, inertia 291775.8038555588\n",
            "Iteration 105, inertia 291745.21632478846\n",
            "Iteration 106, inertia 291704.3778081954\n",
            "Iteration 107, inertia 291661.05322118086\n",
            "Iteration 108, inertia 291614.522232017\n",
            "Iteration 109, inertia 291563.86759343854\n",
            "Iteration 110, inertia 291509.5628802122\n",
            "Iteration 111, inertia 291463.39540108986\n",
            "Iteration 112, inertia 291421.8784198605\n",
            "Iteration 113, inertia 291395.4979564577\n",
            "Iteration 114, inertia 291372.07744952856\n",
            "Iteration 115, inertia 291359.24834946904\n",
            "Iteration 116, inertia 291346.2751202482\n",
            "Iteration 117, inertia 291325.4720034325\n",
            "Iteration 118, inertia 291297.75166040537\n",
            "Iteration 119, inertia 291267.05328581866\n",
            "Iteration 120, inertia 291239.96655890404\n",
            "Iteration 121, inertia 291213.7518375687\n",
            "Iteration 122, inertia 291193.1678081249\n",
            "Iteration 123, inertia 291177.93476044363\n",
            "Iteration 124, inertia 291170.201435634\n",
            "Iteration 125, inertia 291161.7489844487\n",
            "Iteration 126, inertia 291154.58524753316\n",
            "Iteration 127, inertia 291147.97333348147\n",
            "Iteration 128, inertia 291142.0259197681\n",
            "Iteration 129, inertia 291138.04565356474\n",
            "Iteration 130, inertia 291134.671052709\n",
            "Iteration 131, inertia 291131.64344326255\n",
            "Iteration 132, inertia 291128.18072047574\n",
            "Iteration 133, inertia 291126.05050853774\n",
            "Iteration 134, inertia 291124.88197755354\n",
            "Iteration 135, inertia 291124.03120437555\n",
            "Iteration 136, inertia 291122.3728368462\n",
            "Iteration 137, inertia 291118.67014675867\n",
            "Iteration 138, inertia 291100.3582114561\n",
            "Iteration 139, inertia 291096.9559558759\n",
            "Iteration 140, inertia 291093.2550148538\n",
            "Iteration 141, inertia 291090.0686232259\n",
            "Iteration 142, inertia 291086.62717297627\n",
            "Iteration 143, inertia 291084.7500738671\n",
            "Converged at iteration 143: center shift 8.502328968718666e-05 within tolerance 9.999999999999823e-05.\n",
            "Initialization complete\n",
            "Iteration 0, inertia 359643.56252577866\n",
            "Iteration 1, inertia 326050.4984764159\n",
            "Iteration 2, inertia 318096.7539743497\n",
            "Iteration 3, inertia 313886.140514489\n",
            "Iteration 4, inertia 310618.6404217369\n",
            "Iteration 5, inertia 307829.04138161626\n",
            "Iteration 6, inertia 305636.4190197942\n",
            "Iteration 7, inertia 304246.1252299065\n",
            "Iteration 8, inertia 303276.966128987\n",
            "Iteration 9, inertia 302596.18894872477\n",
            "Iteration 10, inertia 301971.25978450035\n",
            "Iteration 11, inertia 301350.67564080347\n",
            "Iteration 12, inertia 300897.7063009937\n",
            "Iteration 13, inertia 300573.61600833456\n",
            "Iteration 14, inertia 300312.9617794617\n",
            "Iteration 15, inertia 300056.07574101316\n",
            "Iteration 16, inertia 299810.05469165486\n",
            "Iteration 17, inertia 299544.3866732803\n",
            "Iteration 18, inertia 299316.32386992715\n",
            "Iteration 19, inertia 299102.72406423395\n",
            "Iteration 20, inertia 298886.2584391744\n",
            "Iteration 21, inertia 298702.12242137047\n",
            "Iteration 22, inertia 298543.76287882024\n",
            "Iteration 23, inertia 298396.7536245816\n",
            "Iteration 24, inertia 298211.5842800514\n",
            "Iteration 25, inertia 297967.4941916957\n",
            "Iteration 26, inertia 297755.05755381583\n",
            "Iteration 27, inertia 297611.08563456597\n",
            "Iteration 28, inertia 297480.1321890517\n",
            "Iteration 29, inertia 297352.14901971386\n",
            "Iteration 30, inertia 297251.86375231075\n",
            "Iteration 31, inertia 297149.7717784494\n",
            "Iteration 32, inertia 297056.5946188292\n",
            "Iteration 33, inertia 296930.3682047669\n",
            "Iteration 34, inertia 296855.0397016637\n",
            "Iteration 35, inertia 296812.96741976135\n",
            "Iteration 36, inertia 296787.4333018963\n",
            "Iteration 37, inertia 296766.0478455435\n",
            "Iteration 38, inertia 296738.5164955302\n",
            "Iteration 39, inertia 296715.4144824351\n",
            "Iteration 40, inertia 296694.1276209499\n",
            "Iteration 41, inertia 296671.4595779395\n",
            "Iteration 42, inertia 296655.07978938136\n",
            "Iteration 43, inertia 296640.5352805092\n",
            "Iteration 44, inertia 296628.0400026036\n",
            "Iteration 45, inertia 296615.43965167366\n",
            "Iteration 46, inertia 296592.8381943359\n",
            "Iteration 47, inertia 296545.3106622542\n",
            "Iteration 48, inertia 296494.3628700656\n",
            "Iteration 49, inertia 296438.12923600554\n",
            "Iteration 50, inertia 296375.15858073113\n",
            "Iteration 51, inertia 296305.57934024883\n",
            "Iteration 52, inertia 296095.5916519306\n",
            "Iteration 53, inertia 295842.3850381924\n",
            "Iteration 54, inertia 295568.07746990724\n",
            "Iteration 55, inertia 295358.8415448807\n",
            "Iteration 56, inertia 295254.99951861997\n",
            "Iteration 57, inertia 295164.7724126345\n",
            "Iteration 58, inertia 295081.6052999447\n",
            "Iteration 59, inertia 294999.3586390787\n",
            "Iteration 60, inertia 294921.62235110154\n",
            "Iteration 61, inertia 294833.76553581876\n",
            "Iteration 62, inertia 294737.2964966767\n",
            "Iteration 63, inertia 294643.7289914956\n",
            "Iteration 64, inertia 294557.0259220625\n",
            "Iteration 65, inertia 294453.2561936254\n",
            "Iteration 66, inertia 294377.94359333103\n",
            "Iteration 67, inertia 294314.39622212294\n",
            "Iteration 68, inertia 294271.96143086284\n",
            "Iteration 69, inertia 294235.99646283465\n",
            "Iteration 70, inertia 294201.39034874534\n",
            "Iteration 71, inertia 294168.9818798285\n",
            "Iteration 72, inertia 294142.0333665781\n",
            "Iteration 73, inertia 294124.730835487\n",
            "Iteration 74, inertia 294108.53730608145\n",
            "Iteration 75, inertia 294093.02172632527\n",
            "Iteration 76, inertia 294081.5621898218\n",
            "Iteration 77, inertia 294073.5870682277\n",
            "Iteration 78, inertia 294068.39845633705\n",
            "Iteration 79, inertia 294064.4788428741\n",
            "Iteration 80, inertia 294060.83183317253\n",
            "Iteration 81, inertia 294057.122821675\n",
            "Iteration 82, inertia 294054.6490356915\n",
            "Iteration 83, inertia 294053.8040116428\n",
            "Converged at iteration 83: center shift 9.02872775351229e-05 within tolerance 9.999999999999823e-05.\n",
            "Initialization complete\n",
            "Iteration 0, inertia 352309.4808741848\n",
            "Iteration 1, inertia 317963.7285601402\n",
            "Iteration 2, inertia 310451.3906060874\n",
            "Iteration 3, inertia 306772.98348577996\n",
            "Iteration 4, inertia 304461.2096356794\n",
            "Iteration 5, inertia 302185.86394161073\n",
            "Iteration 6, inertia 300362.85499949043\n",
            "Iteration 7, inertia 298677.3199899424\n",
            "Iteration 8, inertia 297368.7180096196\n",
            "Iteration 9, inertia 296326.33732513105\n",
            "Iteration 10, inertia 295613.5759588594\n",
            "Iteration 11, inertia 295098.3176179101\n",
            "Iteration 12, inertia 294735.8210741979\n",
            "Iteration 13, inertia 294457.98124831123\n",
            "Iteration 14, inertia 294192.02752026217\n",
            "Iteration 15, inertia 293965.72158326715\n",
            "Iteration 16, inertia 293681.67792003066\n",
            "Iteration 17, inertia 293458.3544496766\n",
            "Iteration 18, inertia 293305.6580947166\n",
            "Iteration 19, inertia 293158.693342359\n",
            "Iteration 20, inertia 293061.1492994067\n",
            "Iteration 21, inertia 292995.9414247486\n",
            "Iteration 22, inertia 292936.2554624536\n",
            "Iteration 23, inertia 292895.76357792603\n",
            "Iteration 24, inertia 292849.08639661083\n",
            "Iteration 25, inertia 292817.12077970034\n",
            "Iteration 26, inertia 292795.5458235033\n",
            "Iteration 27, inertia 292778.2900715104\n",
            "Iteration 28, inertia 292758.2403199263\n",
            "Iteration 29, inertia 292736.4626798486\n",
            "Iteration 30, inertia 292718.3366989824\n",
            "Iteration 31, inertia 292707.6016260442\n",
            "Iteration 32, inertia 292697.43214610504\n",
            "Iteration 33, inertia 292692.2377865994\n",
            "Iteration 34, inertia 292688.44579425256\n",
            "Iteration 35, inertia 292685.7874647015\n",
            "Iteration 36, inertia 292682.6440315064\n",
            "Iteration 37, inertia 292677.40197248955\n",
            "Iteration 38, inertia 292672.2983734462\n",
            "Iteration 39, inertia 292664.32944797387\n",
            "Iteration 40, inertia 292660.50641530793\n",
            "Iteration 41, inertia 292655.36427611293\n",
            "Iteration 42, inertia 292647.62276183715\n",
            "Iteration 43, inertia 292636.50587716064\n",
            "Iteration 44, inertia 292631.86372219474\n",
            "Iteration 45, inertia 292630.13768067374\n",
            "Iteration 46, inertia 292627.5690718177\n",
            "Iteration 47, inertia 292623.3086855753\n",
            "Iteration 48, inertia 292620.8118847433\n",
            "Iteration 49, inertia 292617.852996922\n",
            "Iteration 50, inertia 292612.71346293844\n",
            "Iteration 51, inertia 292604.4601389727\n",
            "Iteration 52, inertia 292586.56107385893\n",
            "Iteration 53, inertia 292572.20359372284\n",
            "Iteration 54, inertia 292565.42624386377\n",
            "Iteration 55, inertia 292559.99189152935\n",
            "Iteration 56, inertia 292553.7426834906\n",
            "Iteration 57, inertia 292544.2006300939\n",
            "Iteration 58, inertia 292534.7007652715\n",
            "Iteration 59, inertia 292524.7834352657\n",
            "Iteration 60, inertia 292515.73576764\n",
            "Iteration 61, inertia 292506.175924571\n",
            "Iteration 62, inertia 292489.90876551805\n",
            "Iteration 63, inertia 292477.28675694385\n",
            "Iteration 64, inertia 292466.970412455\n",
            "Iteration 65, inertia 292459.01945202064\n",
            "Iteration 66, inertia 292455.60571250896\n",
            "Iteration 67, inertia 292452.71048386244\n",
            "Iteration 68, inertia 292451.2158496965\n",
            "Iteration 69, inertia 292450.2458157733\n",
            "Iteration 70, inertia 292449.6289418213\n",
            "Iteration 71, inertia 292449.0988391251\n",
            "Iteration 72, inertia 292448.3659203367\n",
            "Iteration 73, inertia 292447.432317743\n",
            "Iteration 74, inertia 292446.8285433727\n",
            "Iteration 75, inertia 292446.0034354828\n",
            "Iteration 76, inertia 292445.38326432585\n",
            "Iteration 77, inertia 292445.11946725566\n",
            "Iteration 78, inertia 292444.79990268557\n",
            "Converged at iteration 78: center shift 3.6376224167642936e-05 within tolerance 9.999999999999823e-05.\n"
          ]
        }
      ]
    },
    {
      "cell_type": "markdown",
      "source": [
        "We now have a set of cluster labels that group the data into 50 similar groups. Let's store it in our stacked dataset!"
      ],
      "metadata": {
        "id": "XZXYUggc8xex"
      }
    },
    {
      "cell_type": "code",
      "source": [
        "# Let's run this line\n",
        "stacked['clusters'].values = cluster_labels"
      ],
      "metadata": {
        "id": "aH0qNHM89GER"
      },
      "execution_count": 42,
      "outputs": []
    },
    {
      "cell_type": "markdown",
      "source": [
        "We now have a set of labels, but they're stored in a flattened array. Since we'd like to see the data as a map, we still have some work to do. Let's go back to a 2D representation of our values.\n",
        "\n",
        "###**Q10) Turn the flattened xarray back into a set of 2D fields**\n",
        "*Hint*: xarrays have an [`.unstack` method](https://xarray.pydata.org/en/stable/generated/xarray.DataArray.unstack.html) that you will find to be very useful for this."
      ],
      "metadata": {
        "id": "pFPN00oH9oI8"
      }
    },
    {
      "cell_type": "code",
      "source": [
        "# Complete the code:\n",
        "processed_ds = stacked.unstack()"
      ],
      "metadata": {
        "id": "lp1u28inKUNT"
      },
      "execution_count": 45,
      "outputs": []
    },
    {
      "cell_type": "markdown",
      "source": [
        "Now we have an unstacked dataset, and can now easily plot out the clusters we found!\n",
        "\n",
        "###**Q11) Plot the 'cluster' variable using the buil-in xarray function**\n",
        "*Hint: `.plot()` [link text](https://xarray.pydata.org/en/stable/generated/xarray.DataArray.plot.html) let's you access the xarray implementations of [`pcolormesh`](https://matplotlib.org/3.1.1/api/_as_gen/matplotlib.pyplot.pcolormesh.html) and [`imshow`](https://matplotlib.org/3.1.1/api/_as_gen/matplotlib.pyplot.imshow.html).*"
      ],
      "metadata": {
        "id": "y4w0zUDn8OOU"
      }
    },
    {
      "cell_type": "code",
      "source": [
        "xr.plot.pcolormesh(processed_ds['clusters'], figsize = (10, 5), cmap = 'jet')"
      ],
      "metadata": {
        "id": "DLLCcgw_n3tu",
        "colab": {
          "base_uri": "https://localhost:8080/",
          "height": 358
        },
        "outputId": "1fb8c404-8e11-4a31-e62a-df89439b8424"
      },
      "execution_count": 46,
      "outputs": [
        {
          "output_type": "execute_result",
          "data": {
            "text/plain": [
              "<matplotlib.collections.QuadMesh at 0x7fcc485e2c10>"
            ]
          },
          "metadata": {},
          "execution_count": 46
        },
        {
          "output_type": "display_data",
          "data": {
            "text/plain": [
              "<Figure size 720x360 with 2 Axes>"
            ],
            "image/png": "[encoded data removed]"
          },
          "metadata": {
            "needs_background": "light"
          }
        }
      ]
    },
    {
      "cell_type": "markdown",
      "source": [
        "Compare your results to those from the paper:\n",
        "<img src='https://unils-my.sharepoint.com/:i:/g/personal/tom_beucler_unil_ch/EdLh6Ds0yVlFivyfIOXlV74B_G35dVz87GFagzylIG-gZA?download=1'>"
      ],
      "metadata": {
        "id": "sOja6JCxo45g"
      }
    },
    {
      "cell_type": "markdown",
      "source": [
        "We now want to find the 5 most common regimes, and group the rest. This isn't straightforward, so we've gone ahead and prepared the code for you. Run through it and try to understand what the code is doing!"
      ],
      "metadata": {
        "id": "HrLKLVWXtgeX"
      }
    },
    {
      "cell_type": "code",
      "source": [
        "# Make field filled with -1 vals so unprocessed points are easily retrieved.\n",
        "# Noise masked applied automatically by using previously found labels as base.\n",
        "processed_ds['final_clusters'] = (processed_ds.clusters * 0) - 1\n",
        "\n",
        "# Find the 5 most common cluster labels\n",
        "top_clusters = processed_ds.groupby('clusters').count().sortby('BPT').tail(5).clusters.values\n",
        "\n",
        "#Build the set of indices for the cluster data, used for rewriting cluster labels\n",
        "for idx, label in enumerate(top_clusters):\n",
        "    #Find the indices where the label is found\n",
        "    indices = (processed_ds.clusters == label)\n",
        "\n",
        "    processed_ds['final_clusters'].values[indices] = 4-idx\n",
        "\n",
        "# Set the remaining unlabeled regions to category 5 \"non-linear\"\n",
        "processed_ds['final_clusters'].values[processed_ds.final_clusters==-1] = 5\n",
        "\n",
        "# Plot the figure\n",
        "processed_ds.final_clusters.plot.imshow(cmap=mycmap, figsize=(18,8));"
      ],
      "metadata": {
        "id": "UO5OohbKptau",
        "colab": {
          "base_uri": "https://localhost:8080/",
          "height": 509
        },
        "outputId": "27977bc3-9687-42de-ccdf-eef7b3b65299"
      },
      "execution_count": 47,
      "outputs": [
        {
          "output_type": "display_data",
          "data": {
            "text/plain": [
              "<Figure size 1296x576 with 2 Axes>"
            ],
            "image/png": "[encoded data removed]"
          },
          "metadata": {
            "needs_background": "light"
          }
        }
      ]
    },
    {
      "cell_type": "code",
      "source": [
        "# Feel free to use this space "
      ],
      "metadata": {
        "id": "IHSj9yRaUCSg"
      },
      "execution_count": null,
      "outputs": []
    },
    {
      "cell_type": "markdown",
      "source": [
        "Compare it to the regimes found in the paper:\n",
        "<img src='https://unils-my.sharepoint.com/:i:/g/personal/tom_beucler_unil_ch/EehuR9cUfaJImrw4DCAzDPoBiGuG7R3Ys6453Umi1cN_OQ?download=1'>\n",
        "\n"
      ],
      "metadata": {
        "id": "eEMmkpGkc1Xy"
      }
    },
    {
      "cell_type": "markdown",
      "source": [
        "The authors then went on to train neural networks ***to infer in-depth dynamics from data that is largely readily available from for example CMIP6 models, using NN methods to infer the source of predictive skill*** and ***to apply the trained Ensemble MLP to a climate model in order to assess circulation changes under global heating***. \n",
        "\n",
        "For our purposes, however, we will say goodbye to *THOR* at this point 😃"
      ],
      "metadata": {
        "id": "nbWgoD7bv8AH"
      }
    }
  ]
}